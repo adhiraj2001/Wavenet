{
 "cells": [
  {
   "cell_type": "code",
   "execution_count": 1,
   "metadata": {
    "execution": {
     "iopub.execute_input": "2023-05-10T07:52:56.203464Z",
     "iopub.status.busy": "2023-05-10T07:52:56.202599Z",
     "iopub.status.idle": "2023-05-10T07:52:59.046530Z",
     "shell.execute_reply": "2023-05-10T07:52:59.045487Z",
     "shell.execute_reply.started": "2023-05-10T07:52:56.203394Z"
    }
   },
   "outputs": [],
   "source": [
    "import pandas as pd\n",
    "import torch \n",
    "\n",
    "df=pd.read_csv(\"train_clean_kalman.csv\")\n",
    "df['signal']=df['signal']/df['signal'].max()"
   ]
  },
  {
   "cell_type": "code",
   "execution_count": 2,
   "metadata": {
    "execution": {
     "iopub.execute_input": "2023-05-10T07:52:59.048635Z",
     "iopub.status.busy": "2023-05-10T07:52:59.048305Z",
     "iopub.status.idle": "2023-05-10T07:52:59.058520Z",
     "shell.execute_reply": "2023-05-10T07:52:59.057824Z",
     "shell.execute_reply.started": "2023-05-10T07:52:59.048610Z"
    }
   },
   "outputs": [
    {
     "data": {
      "text/plain": [
       "10"
      ]
     },
     "execution_count": 2,
     "metadata": {},
     "output_type": "execute_result"
    }
   ],
   "source": [
    "df['open_channels'].max()"
   ]
  },
  {
   "cell_type": "markdown",
   "metadata": {},
   "source": [
    "# Create time series dataset"
   ]
  },
  {
   "cell_type": "code",
   "execution_count": 3,
   "metadata": {
    "execution": {
     "iopub.execute_input": "2023-05-10T07:52:59.059856Z",
     "iopub.status.busy": "2023-05-10T07:52:59.059462Z",
     "iopub.status.idle": "2023-05-10T07:52:59.065562Z",
     "shell.execute_reply": "2023-05-10T07:52:59.064745Z",
     "shell.execute_reply.started": "2023-05-10T07:52:59.059826Z"
    }
   },
   "outputs": [],
   "source": [
    "class TimesereisDataset(torch.utils.data.Dataset):\n",
    "    def __init__(self, df:pd.Series(), seqLen=10):\n",
    "        super().__init__()\n",
    "        self.df=df\n",
    "        self.seqLen=seqLen\n",
    "    \n",
    "    def __len__(self):\n",
    "        return self.df.shape[0]-self.seqLen-1\n",
    "    \n",
    "    def __getitem__(self,index):\n",
    "        x=self.df.iloc[index:index+self.seqLen,1].values\n",
    "        y=self.df.iloc[index+self.seqLen-1,2] \n",
    "        return x,y   "
   ]
  },
  {
   "cell_type": "code",
   "execution_count": 4,
   "metadata": {
    "execution": {
     "iopub.execute_input": "2023-05-10T07:52:59.066771Z",
     "iopub.status.busy": "2023-05-10T07:52:59.066435Z",
     "iopub.status.idle": "2023-05-10T07:52:59.070132Z",
     "shell.execute_reply": "2023-05-10T07:52:59.069429Z",
     "shell.execute_reply.started": "2023-05-10T07:52:59.066745Z"
    }
   },
   "outputs": [],
   "source": [
    "seqLen=50\n",
    "timeSeriesDataset = TimesereisDataset(df,seqLen)"
   ]
  },
  {
   "cell_type": "code",
   "execution_count": 5,
   "metadata": {
    "execution": {
     "iopub.execute_input": "2023-05-10T07:52:59.071243Z",
     "iopub.status.busy": "2023-05-10T07:52:59.070992Z",
     "iopub.status.idle": "2023-05-10T07:52:59.579288Z",
     "shell.execute_reply": "2023-05-10T07:52:59.578330Z",
     "shell.execute_reply.started": "2023-05-10T07:52:59.071223Z"
    }
   },
   "outputs": [],
   "source": [
    "trainNumbers=int(len(timeSeriesDataset)*0.9)\n",
    "trainDataset,testDataset=torch.utils.data.random_split(timeSeriesDataset,[trainNumbers,len(timeSeriesDataset)-trainNumbers])"
   ]
  },
  {
   "cell_type": "code",
   "execution_count": 6,
   "metadata": {
    "execution": {
     "iopub.execute_input": "2023-05-10T07:52:59.581003Z",
     "iopub.status.busy": "2023-05-10T07:52:59.580566Z",
     "iopub.status.idle": "2023-05-10T07:52:59.584806Z",
     "shell.execute_reply": "2023-05-10T07:52:59.584091Z",
     "shell.execute_reply.started": "2023-05-10T07:52:59.580976Z"
    }
   },
   "outputs": [],
   "source": [
    "trainDataLoader=torch.utils.data.DataLoader(trainDataset,batch_size=8,shuffle=True)\n",
    "testDataLoader=torch.utils.data.DataLoader(testDataset,batch_size=8,shuffle=True)"
   ]
  },
  {
   "cell_type": "code",
   "execution_count": 7,
   "metadata": {
    "execution": {
     "iopub.execute_input": "2023-05-10T07:52:59.587356Z",
     "iopub.status.busy": "2023-05-10T07:52:59.587098Z",
     "iopub.status.idle": "2023-05-10T07:52:59.659774Z",
     "shell.execute_reply": "2023-05-10T07:52:59.658731Z",
     "shell.execute_reply.started": "2023-05-10T07:52:59.587336Z"
    },
    "tags": []
   },
   "outputs": [],
   "source": [
    "from Wavenet import WaveNet,WaveNetClassifier\n",
    "from tqdm import tqdm \n",
    "\n",
    "# device = torch.device(\"cuda:0\" if torch.cuda.is_available() else \"cpu\")\n",
    "device=\"cpu\"\n",
    "wavenetClassifierModel=WaveNetClassifier(seqLen,df['open_channels'].max()+1)\n",
    "wavenetClassifierModel.to(device)\n",
    "\n",
    "wavenetClassifierModel.train()\n",
    "\n",
    "optimizer=torch.optim.AdamW(wavenetClassifierModel.parameters(), lr=0.01)\n",
    "scheduler = torch.optim.lr_scheduler.ExponentialLR(optimizer, gamma=0.9)\n",
    "lossFunction = torch.nn.CrossEntropyLoss()"
   ]
  },
  {
   "cell_type": "code",
   "execution_count": 8,
   "metadata": {
    "execution": {
     "iopub.execute_input": "2023-05-10T07:52:59.662259Z",
     "iopub.status.busy": "2023-05-10T07:52:59.661346Z",
     "iopub.status.idle": "2023-05-10T07:52:59.666461Z",
     "shell.execute_reply": "2023-05-10T07:52:59.665624Z",
     "shell.execute_reply.started": "2023-05-10T07:52:59.662214Z"
    }
   },
   "outputs": [],
   "source": [
    "def calc_accuracy(Out,Y):\n",
    "    max_vals, max_indices = torch.max(Out,1)\n",
    "    train_acc = (max_indices == Y).sum().item()/max_indices.size()[0]\n",
    "    return train_acc"
   ]
  },
  {
   "cell_type": "code",
   "execution_count": 9,
   "metadata": {
    "execution": {
     "iopub.execute_input": "2023-05-10T07:52:59.667950Z",
     "iopub.status.busy": "2023-05-10T07:52:59.667489Z",
     "iopub.status.idle": "2023-05-10T08:22:59.608216Z",
     "shell.execute_reply": "2023-05-10T08:22:59.606760Z",
     "shell.execute_reply.started": "2023-05-10T07:52:59.667915Z"
    },
    "scrolled": true,
    "tags": []
   },
   "outputs": [
    {
     "name": "stderr",
     "output_type": "stream",
     "text": [
      "Training: 0it [00:00, ?it/s]/home/adhiraj/miniconda3/envs/wavenet/lib/python3.10/site-packages/torch/nn/modules/conv.py:309: UserWarning: Using padding='same' with even kernel lengths and odd dilation may require a zero-padded copy of the input be created (Triggered internally at /opt/conda/conda-bld/pytorch_1682343967769/work/aten/src/ATen/native/Convolution.cpp:1003.)\n",
      "  return F.conv1d(input, weight, bias, self.stride,\n",
      "\n",
      "Validation: 0it [00:00, ?it/s]\u001b[A\n",
      "Validation: 4it [00:00, 39.55it/s]\u001b[A\n",
      "Validation: 17it [00:00, 88.53it/s]\u001b[A\n",
      "Validation: 29it [00:00, 102.47it/s]\u001b[A\n",
      "Validation: 41it [00:00, 107.58it/s]\u001b[A\n",
      "Validation: 52it [00:00, 107.52it/s]\u001b[A\n",
      "Validation: 63it [00:00, 91.50it/s] \u001b[A\n",
      "Validation: 73it [00:00, 86.00it/s]\u001b[A\n",
      "Validation: 84it [00:00, 90.37it/s]\u001b[A\n",
      "Validation: 95it [00:01, 94.16it/s]\u001b[A\n",
      "Validation: 107it [00:01, 101.08it/s]\u001b[A\n",
      "Validation: 119it [00:01, 104.31it/s]\u001b[A\n",
      "Validation: 130it [00:01, 105.14it/s]\u001b[A\n",
      "Validation: 141it [00:01, 88.07it/s] \u001b[A\n",
      "Validation: 151it [00:01, 89.46it/s]\u001b[A\n",
      "Validation: 161it [00:01, 87.07it/s]\u001b[A\n",
      "Validation: 171it [00:01, 90.25it/s]\u001b[A\n",
      "Validation: 183it [00:01, 96.93it/s]\u001b[A\n",
      "Validation: 201it [00:02, 93.98it/s]\u001b[A\n",
      "Training: 6it [00:02,  2.89it/s]"
     ]
    },
    {
     "name": "stdout",
     "output_type": "stream",
     "text": [
      "loss for step 0 : 2.4244583080064004  :  Accuracy: 3.3582089552238807 %\n"
     ]
    },
    {
     "name": "stderr",
     "output_type": "stream",
     "text": [
      "Training: 497it [00:15, 34.82it/s]\n",
      "Validation: 0it [00:00, ?it/s]\u001b[A\n",
      "Validation: 7it [00:00, 67.36it/s]\u001b[A\n",
      "Validation: 16it [00:00, 76.29it/s]\u001b[A\n",
      "Validation: 26it [00:00, 85.55it/s]\u001b[A\n",
      "Validation: 37it [00:00, 91.89it/s]\u001b[A\n",
      "Validation: 48it [00:00, 96.57it/s]\u001b[A\n",
      "Validation: 59it [00:00, 99.86it/s]\u001b[A\n",
      "Validation: 72it [00:00, 107.10it/s]\u001b[A\n",
      "Validation: 83it [00:00, 105.07it/s]\u001b[A\n",
      "Validation: 95it [00:00, 108.16it/s]\u001b[A\n",
      "Validation: 106it [00:01, 104.54it/s]\u001b[A\n",
      "Validation: 118it [00:01, 106.91it/s]\u001b[A\n",
      "Validation: 131it [00:01, 111.73it/s]\u001b[A\n",
      "Validation: 144it [00:01, 116.12it/s]\u001b[A\n",
      "Validation: 156it [00:01, 113.64it/s]\u001b[A\n",
      "Validation: 168it [00:01, 110.85it/s]\u001b[A\n",
      "Validation: 180it [00:01, 106.59it/s]\u001b[A\n",
      "Validation: 201it [00:01, 103.18it/s]\u001b[A\n",
      "Training: 506it [00:17,  8.33it/s]"
     ]
    },
    {
     "name": "stdout",
     "output_type": "stream",
     "text": [
      "loss for step 500 : 2.305035905458441  :  Accuracy: 23.942786069651742 %\n"
     ]
    },
    {
     "name": "stderr",
     "output_type": "stream",
     "text": [
      "Training: 1000it [00:30, 40.59it/s]\n",
      "Validation: 0it [00:00, ?it/s]\u001b[A\n",
      "Validation: 10it [00:00, 96.22it/s]\u001b[A\n",
      "Validation: 23it [00:00, 111.27it/s]\u001b[A\n",
      "Validation: 35it [00:00, 99.94it/s] \u001b[A\n",
      "Validation: 46it [00:00, 98.77it/s]\u001b[A\n",
      "Validation: 56it [00:00, 95.15it/s]\u001b[A\n",
      "Validation: 67it [00:00, 99.58it/s]\u001b[A\n",
      "Validation: 79it [00:00, 103.72it/s]\u001b[A\n",
      "Validation: 92it [00:00, 110.30it/s]\u001b[A\n",
      "Validation: 104it [00:00, 108.41it/s]\u001b[A\n",
      "Validation: 117it [00:01, 112.87it/s]\u001b[A\n",
      "Validation: 129it [00:01, 109.04it/s]\u001b[A\n",
      "Validation: 140it [00:01, 100.81it/s]\u001b[A\n",
      "Validation: 151it [00:01, 91.31it/s] \u001b[A\n",
      "Validation: 161it [00:01, 91.94it/s]\u001b[A\n",
      "Validation: 172it [00:01, 95.64it/s]\u001b[A\n",
      "Validation: 184it [00:01, 100.89it/s]\u001b[A\n",
      "Validation: 201it [00:01, 101.11it/s]\u001b[A\n",
      "Training: 1005it [00:32,  6.80it/s]"
     ]
    },
    {
     "name": "stdout",
     "output_type": "stream",
     "text": [
      "loss for step 1000 : 2.2970786195489303  :  Accuracy: 24.875621890547265 %\n"
     ]
    },
    {
     "name": "stderr",
     "output_type": "stream",
     "text": [
      "Training: 1496it [00:44, 42.60it/s]\n",
      "Validation: 0it [00:00, ?it/s]\u001b[A\n",
      "Validation: 7it [00:00, 68.49it/s]\u001b[A\n",
      "Validation: 17it [00:00, 86.52it/s]\u001b[A\n",
      "Validation: 27it [00:00, 92.02it/s]\u001b[A\n",
      "Validation: 37it [00:00, 94.79it/s]\u001b[A\n",
      "Validation: 47it [00:00, 95.29it/s]\u001b[A\n",
      "Validation: 57it [00:00, 94.37it/s]\u001b[A\n",
      "Validation: 69it [00:00, 100.67it/s]\u001b[A\n",
      "Validation: 81it [00:00, 104.84it/s]\u001b[A\n",
      "Validation: 92it [00:00, 105.68it/s]\u001b[A\n",
      "Validation: 103it [00:01, 102.66it/s]\u001b[A\n",
      "Validation: 114it [00:01, 104.50it/s]\u001b[A\n",
      "Validation: 126it [00:01, 106.99it/s]\u001b[A\n",
      "Validation: 138it [00:01, 110.29it/s]\u001b[A\n",
      "Validation: 150it [00:01, 106.52it/s]\u001b[A\n",
      "Validation: 161it [00:01, 105.99it/s]\u001b[A\n",
      "Validation: 172it [00:01, 102.13it/s]\u001b[A\n",
      "Validation: 183it [00:01, 98.97it/s] \u001b[A\n",
      "Validation: 201it [00:02, 99.57it/s]\u001b[A\n",
      "Training: 1505it [00:47,  8.63it/s]"
     ]
    },
    {
     "name": "stdout",
     "output_type": "stream",
     "text": [
      "loss for step 1500 : 2.3060909266495586  :  Accuracy: 23.69402985074627 %\n"
     ]
    },
    {
     "name": "stderr",
     "output_type": "stream",
     "text": [
      "Training: 2000it [00:59, 38.49it/s]\n",
      "Validation: 0it [00:00, ?it/s]\u001b[A\n",
      "Validation: 7it [00:00, 66.04it/s]\u001b[A\n",
      "Validation: 17it [00:00, 84.08it/s]\u001b[A\n",
      "Validation: 27it [00:00, 89.89it/s]\u001b[A\n",
      "Validation: 37it [00:00, 90.01it/s]\u001b[A\n",
      "Validation: 47it [00:00, 91.19it/s]\u001b[A\n",
      "Validation: 58it [00:00, 94.77it/s]\u001b[A\n",
      "Validation: 69it [00:00, 97.83it/s]\u001b[A\n",
      "Validation: 79it [00:00, 96.18it/s]\u001b[A\n",
      "Validation: 89it [00:00, 96.96it/s]\u001b[A\n",
      "Validation: 100it [00:01, 100.32it/s]\u001b[A\n",
      "Validation: 111it [00:01, 98.86it/s] \u001b[A\n",
      "Validation: 121it [00:01, 97.48it/s]\u001b[A\n",
      "Validation: 131it [00:01, 91.25it/s]\u001b[A\n",
      "Validation: 141it [00:01, 87.76it/s]\u001b[A\n",
      "Validation: 151it [00:01, 89.67it/s]\u001b[A\n",
      "Validation: 161it [00:01, 92.49it/s]\u001b[A\n",
      "Validation: 173it [00:01, 99.86it/s]\u001b[A\n",
      "Validation: 186it [00:01, 107.54it/s]\u001b[A\n",
      "Validation: 201it [00:02, 97.09it/s] \u001b[A\n",
      "Training: 2009it [01:02,  8.47it/s]"
     ]
    },
    {
     "name": "stdout",
     "output_type": "stream",
     "text": [
      "loss for step 2000 : 2.2969085351744694  :  Accuracy: 24.68905472636816 %\n"
     ]
    },
    {
     "name": "stderr",
     "output_type": "stream",
     "text": [
      "Training: 2499it [01:15, 35.84it/s]\n",
      "Validation: 0it [00:00, ?it/s]\u001b[A\n",
      "Validation: 8it [00:00, 77.64it/s]\u001b[A\n",
      "Validation: 17it [00:00, 84.75it/s]\u001b[A\n",
      "Validation: 29it [00:00, 91.71it/s]\u001b[A\n",
      "Validation: 39it [00:00, 90.59it/s]\u001b[A\n",
      "Validation: 49it [00:00, 89.86it/s]\u001b[A\n",
      "Validation: 58it [00:00, 85.96it/s]\u001b[A\n",
      "Validation: 69it [00:00, 92.56it/s]\u001b[A\n",
      "Validation: 82it [00:00, 102.20it/s]\u001b[A\n",
      "Validation: 95it [00:00, 108.69it/s]\u001b[A\n",
      "Validation: 108it [00:01, 112.36it/s]\u001b[A\n",
      "Validation: 120it [00:01, 113.41it/s]\u001b[A\n",
      "Validation: 132it [00:01, 103.76it/s]\u001b[A\n",
      "Validation: 143it [00:01, 103.09it/s]\u001b[A\n",
      "Validation: 156it [00:01, 108.51it/s]\u001b[A\n",
      "Validation: 169it [00:01, 112.45it/s]\u001b[A\n",
      "Validation: 182it [00:01, 115.71it/s]\u001b[A\n",
      "Validation: 201it [00:01, 104.63it/s]\u001b[A\n",
      "Training: 2508it [01:17,  8.65it/s]"
     ]
    },
    {
     "name": "stdout",
     "output_type": "stream",
     "text": [
      "loss for step 2500 : 2.2862165270753168  :  Accuracy: 26.119402985074625 %\n"
     ]
    },
    {
     "name": "stderr",
     "output_type": "stream",
     "text": [
      "Training: 2996it [01:30, 42.01it/s]\n",
      "Validation: 0it [00:00, ?it/s]\u001b[A\n",
      "Validation: 9it [00:00, 84.10it/s]\u001b[A\n",
      "Validation: 21it [00:00, 100.66it/s]\u001b[A\n",
      "Validation: 32it [00:00, 79.49it/s] \u001b[A\n",
      "Validation: 41it [00:00, 81.15it/s]\u001b[A\n",
      "Validation: 52it [00:00, 89.24it/s]\u001b[A\n",
      "Validation: 62it [00:00, 63.24it/s]\u001b[A\n",
      "Validation: 75it [00:00, 77.81it/s]\u001b[A\n",
      "Validation: 88it [00:01, 89.44it/s]\u001b[A\n",
      "Validation: 99it [00:01, 94.72it/s]\u001b[A\n",
      "Validation: 110it [00:01, 90.91it/s]\u001b[A\n",
      "Validation: 120it [00:01, 86.09it/s]\u001b[A\n",
      "Validation: 132it [00:01, 92.68it/s]\u001b[A\n",
      "Validation: 142it [00:01, 93.87it/s]\u001b[A\n",
      "Validation: 154it [00:01, 99.42it/s]\u001b[A\n",
      "Validation: 165it [00:01, 102.21it/s]\u001b[A\n",
      "Validation: 177it [00:01, 106.38it/s]\u001b[A\n",
      "Validation: 201it [00:02, 93.32it/s] \u001b[A\n",
      "Training: 3006it [01:33,  8.56it/s]"
     ]
    },
    {
     "name": "stdout",
     "output_type": "stream",
     "text": [
      "loss for step 3000 : 2.2855150966501947  :  Accuracy: 26.057213930348258 %\n"
     ]
    },
    {
     "name": "stderr",
     "output_type": "stream",
     "text": [
      "Training: 3500it [01:45, 44.25it/s]\n",
      "Validation: 0it [00:00, ?it/s]\u001b[A\n",
      "Validation: 8it [00:00, 75.06it/s]\u001b[A\n",
      "Validation: 19it [00:00, 94.03it/s]\u001b[A\n",
      "Validation: 29it [00:00, 87.62it/s]\u001b[A\n",
      "Validation: 41it [00:00, 97.48it/s]\u001b[A\n",
      "Validation: 53it [00:00, 104.62it/s]\u001b[A\n",
      "Validation: 66it [00:00, 110.65it/s]\u001b[A\n",
      "Validation: 78it [00:00, 108.76it/s]\u001b[A\n",
      "Validation: 89it [00:00, 106.79it/s]\u001b[A\n",
      "Validation: 102it [00:00, 112.20it/s]\u001b[A\n",
      "Validation: 114it [00:01, 109.47it/s]\u001b[A\n",
      "Validation: 125it [00:01, 108.41it/s]\u001b[A\n",
      "Validation: 136it [00:01, 89.00it/s] \u001b[A\n",
      "Validation: 148it [00:01, 95.92it/s]\u001b[A\n",
      "Validation: 160it [00:01, 101.72it/s]\u001b[A\n",
      "Validation: 173it [00:01, 108.18it/s]\u001b[A\n",
      "Validation: 185it [00:01, 111.04it/s]\u001b[A\n",
      "Validation: 201it [00:01, 104.62it/s]\u001b[A\n",
      "Training: 3505it [01:47,  7.13it/s]"
     ]
    },
    {
     "name": "stdout",
     "output_type": "stream",
     "text": [
      "loss for step 3500 : 2.2961395866242214  :  Accuracy: 24.440298507462686 %\n"
     ]
    },
    {
     "name": "stderr",
     "output_type": "stream",
     "text": [
      "Training: 3999it [02:00, 36.90it/s]\n",
      "Validation: 0it [00:00, ?it/s]\u001b[A\n",
      "Validation: 4it [00:00, 40.00it/s]\u001b[A\n",
      "Validation: 9it [00:00, 45.32it/s]\u001b[A\n",
      "Validation: 17it [00:00, 60.66it/s]\u001b[A\n",
      "Validation: 28it [00:00, 79.11it/s]\u001b[A\n",
      "Validation: 39it [00:00, 89.20it/s]\u001b[A\n",
      "Validation: 48it [00:00, 88.19it/s]\u001b[A\n",
      "Validation: 60it [00:00, 96.90it/s]\u001b[A\n",
      "Validation: 72it [00:00, 102.95it/s]\u001b[A\n",
      "Validation: 85it [00:00, 108.66it/s]\u001b[A\n",
      "Validation: 97it [00:01, 110.45it/s]\u001b[A\n",
      "Validation: 109it [00:01, 102.30it/s]\u001b[A\n",
      "Validation: 120it [00:01, 96.49it/s] \u001b[A\n",
      "Validation: 131it [00:01, 98.78it/s]\u001b[A\n",
      "Validation: 143it [00:01, 104.48it/s]\u001b[A\n",
      "Validation: 155it [00:01, 108.43it/s]\u001b[A\n",
      "Validation: 168it [00:01, 112.39it/s]\u001b[A\n",
      "Validation: 180it [00:01, 114.25it/s]\u001b[A\n",
      "Validation: 201it [00:01, 100.58it/s]\u001b[A\n",
      "Training: 4003it [02:03,  5.93it/s]"
     ]
    },
    {
     "name": "stdout",
     "output_type": "stream",
     "text": [
      "loss for step 4000 : 2.2972693905901553  :  Accuracy: 24.378109452736318 %\n"
     ]
    },
    {
     "name": "stderr",
     "output_type": "stream",
     "text": [
      "Training: 4500it [02:16, 38.98it/s]\n",
      "Validation: 0it [00:00, ?it/s]\u001b[A\n",
      "Validation: 4it [00:00, 36.22it/s]\u001b[A\n",
      "Validation: 14it [00:00, 70.73it/s]\u001b[A\n",
      "Validation: 24it [00:00, 81.94it/s]\u001b[A\n",
      "Validation: 37it [00:00, 97.49it/s]\u001b[A\n",
      "Validation: 49it [00:00, 105.16it/s]\u001b[A\n",
      "Validation: 60it [00:00, 98.16it/s] \u001b[A\n",
      "Validation: 72it [00:00, 104.10it/s]\u001b[A\n",
      "Validation: 83it [00:00, 104.07it/s]\u001b[A\n",
      "Validation: 96it [00:00, 110.03it/s]\u001b[A\n",
      "Validation: 108it [00:01, 99.11it/s]\u001b[A\n",
      "Validation: 120it [00:01, 104.55it/s]\u001b[A\n",
      "Validation: 132it [00:01, 107.96it/s]\u001b[A\n",
      "Validation: 145it [00:01, 111.75it/s]\u001b[A\n",
      "Validation: 157it [00:01, 108.05it/s]\u001b[A\n",
      "Validation: 168it [00:01, 107.17it/s]\u001b[A\n",
      "Validation: 181it [00:01, 111.89it/s]\u001b[A\n",
      "Validation: 201it [00:01, 104.24it/s]\u001b[A\n",
      "Training: 4508it [02:18,  8.56it/s]"
     ]
    },
    {
     "name": "stdout",
     "output_type": "stream",
     "text": [
      "loss for step 4500 : 2.304694291964099  :  Accuracy: 23.383084577114428 %\n"
     ]
    },
    {
     "name": "stderr",
     "output_type": "stream",
     "text": [
      "Training: 4998it [02:30, 41.21it/s]\n",
      "Validation: 0it [00:00, ?it/s]\u001b[A\n",
      "Validation: 6it [00:00, 55.60it/s]\u001b[A\n",
      "Validation: 16it [00:00, 80.36it/s]\u001b[A\n",
      "Validation: 27it [00:00, 93.21it/s]\u001b[A\n",
      "Validation: 37it [00:00, 87.47it/s]\u001b[A\n",
      "Validation: 46it [00:00, 77.06it/s]\u001b[A\n",
      "Validation: 55it [00:00, 78.50it/s]\u001b[A\n",
      "Validation: 67it [00:00, 89.59it/s]\u001b[A\n",
      "Validation: 78it [00:00, 95.04it/s]\u001b[A\n",
      "Validation: 88it [00:00, 95.43it/s]\u001b[A\n",
      "Validation: 98it [00:01, 96.30it/s]\u001b[A\n",
      "Validation: 108it [00:01, 94.49it/s]\u001b[A\n",
      "Validation: 120it [00:01, 101.24it/s]\u001b[A\n",
      "Validation: 132it [00:01, 105.70it/s]\u001b[A\n",
      "Validation: 143it [00:01, 105.90it/s]\u001b[A\n",
      "Validation: 155it [00:01, 109.00it/s]\u001b[A\n",
      "Validation: 167it [00:01, 111.66it/s]\u001b[A\n",
      "Validation: 179it [00:01, 112.99it/s]\u001b[A\n",
      "Validation: 201it [00:02, 99.74it/s] \u001b[A\n",
      "Training: 5008it [02:32,  9.02it/s]"
     ]
    },
    {
     "name": "stdout",
     "output_type": "stream",
     "text": [
      "loss for step 5000 : 2.303135036829099  :  Accuracy: 23.32089552238806 %\n"
     ]
    },
    {
     "name": "stderr",
     "output_type": "stream",
     "text": [
      "Training: 5499it [02:45, 39.20it/s]\n",
      "Validation: 0it [00:00, ?it/s]\u001b[A\n",
      "Validation: 7it [00:00, 69.83it/s]\u001b[A\n",
      "Validation: 18it [00:00, 93.20it/s]\u001b[A\n",
      "Validation: 29it [00:00, 100.71it/s]\u001b[A\n",
      "Validation: 40it [00:00, 103.27it/s]\u001b[A\n",
      "Validation: 52it [00:00, 108.47it/s]\u001b[A\n",
      "Validation: 63it [00:00, 105.36it/s]\u001b[A\n",
      "Validation: 74it [00:00, 100.15it/s]\u001b[A\n",
      "Validation: 85it [00:00, 92.51it/s] \u001b[A\n",
      "Validation: 95it [00:01, 64.51it/s]\u001b[A\n",
      "Validation: 108it [00:01, 77.52it/s]\u001b[A\n",
      "Validation: 121it [00:01, 88.70it/s]\u001b[A\n",
      "Validation: 134it [00:01, 97.44it/s]\u001b[A\n",
      "Validation: 146it [00:01, 102.97it/s]\u001b[A\n",
      "Validation: 158it [00:01, 105.20it/s]\u001b[A\n",
      "Validation: 170it [00:01, 105.69it/s]\u001b[A\n",
      "Validation: 181it [00:01, 103.71it/s]\u001b[A\n",
      "Validation: 201it [00:02, 95.72it/s] \u001b[A\n",
      "Training: 5508it [02:47,  8.46it/s]"
     ]
    },
    {
     "name": "stdout",
     "output_type": "stream",
     "text": [
      "loss for step 5500 : 2.295301512106141  :  Accuracy: 24.937810945273633 %\n"
     ]
    },
    {
     "name": "stderr",
     "output_type": "stream",
     "text": [
      "Training: 5999it [02:59, 40.37it/s]\n",
      "Validation: 0it [00:00, ?it/s]\u001b[A\n",
      "Validation: 8it [00:00, 74.23it/s]\u001b[A\n",
      "Validation: 20it [00:00, 97.29it/s]\u001b[A\n",
      "Validation: 30it [00:00, 85.37it/s]\u001b[A\n",
      "Validation: 39it [00:00, 67.95it/s]\u001b[A\n",
      "Validation: 50it [00:00, 79.10it/s]\u001b[A\n",
      "Validation: 59it [00:00, 73.21it/s]\u001b[A\n",
      "Validation: 69it [00:00, 78.64it/s]\u001b[A\n",
      "Validation: 79it [00:00, 83.81it/s]\u001b[A\n",
      "Validation: 89it [00:01, 86.76it/s]\u001b[A\n",
      "Validation: 99it [00:01, 88.82it/s]\u001b[A\n",
      "Validation: 111it [00:01, 96.54it/s]\u001b[A\n",
      "Validation: 121it [00:01, 83.26it/s]\u001b[A\n",
      "Validation: 133it [00:01, 92.49it/s]\u001b[A\n",
      "Validation: 146it [00:01, 101.40it/s]\u001b[A\n",
      "Validation: 157it [00:01, 98.30it/s] \u001b[A\n",
      "Validation: 168it [00:01, 93.80it/s]\u001b[A\n",
      "Validation: 181it [00:02, 101.46it/s]\u001b[A\n",
      "Validation: 201it [00:02, 91.50it/s] \u001b[A\n",
      "Training: 6008it [03:02,  8.12it/s]"
     ]
    },
    {
     "name": "stdout",
     "output_type": "stream",
     "text": [
      "loss for step 6000 : 2.2877570278015895  :  Accuracy: 25.497512437810947 %\n"
     ]
    },
    {
     "name": "stderr",
     "output_type": "stream",
     "text": [
      "Training: 6498it [03:15, 38.73it/s]\n",
      "Validation: 0it [00:00, ?it/s]\u001b[A\n",
      "Validation: 6it [00:00, 58.36it/s]\u001b[A\n",
      "Validation: 16it [00:00, 81.36it/s]\u001b[A\n",
      "Validation: 28it [00:00, 96.25it/s]\u001b[A\n",
      "Validation: 40it [00:00, 104.84it/s]\u001b[A\n",
      "Validation: 52it [00:00, 107.55it/s]\u001b[A\n",
      "Validation: 63it [00:00, 108.08it/s]\u001b[A\n",
      "Validation: 74it [00:00, 106.53it/s]\u001b[A\n",
      "Validation: 85it [00:00, 106.52it/s]\u001b[A\n",
      "Validation: 97it [00:00, 108.36it/s]\u001b[A\n",
      "Validation: 108it [00:01, 107.63it/s]\u001b[A\n",
      "Validation: 119it [00:01, 102.94it/s]\u001b[A\n",
      "Validation: 131it [00:01, 106.68it/s]\u001b[A\n",
      "Validation: 143it [00:01, 109.24it/s]\u001b[A\n",
      "Validation: 156it [00:01, 113.42it/s]\u001b[A\n",
      "Validation: 168it [00:01, 106.36it/s]\u001b[A\n",
      "Validation: 181it [00:01, 110.74it/s]\u001b[A\n",
      "Validation: 201it [00:01, 106.84it/s]\u001b[A\n",
      "Training: 6507it [03:17,  8.73it/s]"
     ]
    },
    {
     "name": "stdout",
     "output_type": "stream",
     "text": [
      "loss for step 6500 : 2.2835993031364175  :  Accuracy: 26.99004975124378 %\n"
     ]
    },
    {
     "name": "stderr",
     "output_type": "stream",
     "text": [
      "Training: 6999it [03:29, 43.41it/s]\n",
      "Validation: 0it [00:00, ?it/s]\u001b[A\n",
      "Validation: 9it [00:00, 84.36it/s]\u001b[A\n",
      "Validation: 21it [00:00, 102.20it/s]\u001b[A\n",
      "Validation: 33it [00:00, 106.57it/s]\u001b[A\n",
      "Validation: 44it [00:00, 99.03it/s] \u001b[A\n",
      "Validation: 55it [00:00, 100.68it/s]\u001b[A\n",
      "Validation: 66it [00:00, 97.24it/s] \u001b[A\n",
      "Validation: 76it [00:00, 95.60it/s]\u001b[A\n",
      "Validation: 88it [00:00, 101.80it/s]\u001b[A\n",
      "Validation: 99it [00:00, 103.16it/s]\u001b[A\n",
      "Validation: 111it [00:01, 106.58it/s]\u001b[A\n",
      "Validation: 124it [00:01, 111.20it/s]\u001b[A\n",
      "Validation: 137it [00:01, 114.17it/s]\u001b[A\n",
      "Validation: 149it [00:01, 111.08it/s]\u001b[A\n",
      "Validation: 161it [00:01, 111.57it/s]\u001b[A\n",
      "Validation: 174it [00:01, 114.55it/s]\u001b[A\n",
      "Validation: 186it [00:01, 108.45it/s]\u001b[A\n",
      "Validation: 201it [00:01, 103.61it/s]\u001b[A\n",
      "Training: 7008it [03:31,  8.92it/s]"
     ]
    },
    {
     "name": "stdout",
     "output_type": "stream",
     "text": [
      "loss for step 7000 : 2.29407986420304  :  Accuracy: 24.937810945273633 %\n"
     ]
    },
    {
     "name": "stderr",
     "output_type": "stream",
     "text": [
      "Training: 7500it [03:44, 34.60it/s]\n",
      "Validation: 0it [00:00, ?it/s]\u001b[A\n",
      "Validation: 6it [00:00, 57.05it/s]\u001b[A\n",
      "Validation: 15it [00:00, 72.66it/s]\u001b[A\n",
      "Validation: 26it [00:00, 88.22it/s]\u001b[A\n",
      "Validation: 36it [00:00, 91.50it/s]\u001b[A\n",
      "Validation: 46it [00:00, 92.52it/s]\u001b[A\n",
      "Validation: 56it [00:00, 89.58it/s]\u001b[A\n",
      "Validation: 67it [00:00, 95.45it/s]\u001b[A\n",
      "Validation: 79it [00:00, 102.18it/s]\u001b[A\n",
      "Validation: 91it [00:00, 106.66it/s]\u001b[A\n",
      "Validation: 103it [00:01, 109.15it/s]\u001b[A\n",
      "Validation: 116it [00:01, 112.85it/s]\u001b[A\n",
      "Validation: 129it [00:01, 117.31it/s]\u001b[A\n",
      "Validation: 142it [00:01, 120.18it/s]\u001b[A\n",
      "Validation: 155it [00:01, 109.85it/s]\u001b[A\n",
      "Validation: 167it [00:01, 97.88it/s] \u001b[A\n",
      "Validation: 178it [00:01, 100.56it/s]\u001b[A\n",
      "Validation: 201it [00:01, 102.10it/s]\u001b[A\n",
      "Training: 7508it [03:46,  7.73it/s]"
     ]
    },
    {
     "name": "stdout",
     "output_type": "stream",
     "text": [
      "loss for step 7500 : 2.294993851315323  :  Accuracy: 24.253731343283583 %\n"
     ]
    },
    {
     "name": "stderr",
     "output_type": "stream",
     "text": [
      "Training: 7998it [03:59, 42.37it/s]\n",
      "Validation: 0it [00:00, ?it/s]\u001b[A\n",
      "Validation: 3it [00:00, 28.59it/s]\u001b[A\n",
      "Validation: 10it [00:00, 48.58it/s]\u001b[A\n",
      "Validation: 19it [00:00, 66.17it/s]\u001b[A\n",
      "Validation: 26it [00:00, 66.25it/s]\u001b[A\n",
      "Validation: 36it [00:00, 76.85it/s]\u001b[A\n",
      "Validation: 48it [00:00, 90.69it/s]\u001b[A\n",
      "Validation: 61it [00:00, 102.30it/s]\u001b[A\n",
      "Validation: 74it [00:00, 108.92it/s]\u001b[A\n",
      "Validation: 85it [00:00, 103.95it/s]\u001b[A\n",
      "Validation: 96it [00:01, 93.11it/s] \u001b[A\n",
      "Validation: 109it [00:01, 101.47it/s]\u001b[A\n",
      "Validation: 122it [00:01, 108.23it/s]\u001b[A\n",
      "Validation: 134it [00:01, 102.70it/s]\u001b[A\n",
      "Validation: 145it [00:01, 102.13it/s]\u001b[A\n",
      "Validation: 158it [00:01, 108.76it/s]\u001b[A\n",
      "Validation: 172it [00:01, 116.36it/s]\u001b[A\n",
      "Validation: 184it [00:01, 115.37it/s]\u001b[A\n",
      "Validation: 201it [00:02, 97.47it/s] \u001b[A\n",
      "Training: 8008it [04:01,  8.89it/s]"
     ]
    },
    {
     "name": "stdout",
     "output_type": "stream",
     "text": [
      "loss for step 8000 : 2.3064720500167923  :  Accuracy: 23.32089552238806 %\n"
     ]
    },
    {
     "name": "stderr",
     "output_type": "stream",
     "text": [
      "Training: 8496it [04:14, 43.37it/s]\n",
      "Validation: 0it [00:00, ?it/s]\u001b[A\n",
      "Validation: 9it [00:00, 86.25it/s]\u001b[A\n",
      "Validation: 22it [00:00, 110.52it/s]\u001b[A\n",
      "Validation: 35it [00:00, 117.10it/s]\u001b[A\n",
      "Validation: 47it [00:00, 93.13it/s] \u001b[A\n",
      "Validation: 57it [00:00, 88.65it/s]\u001b[A\n",
      "Validation: 70it [00:00, 99.27it/s]\u001b[A\n",
      "Validation: 81it [00:00, 96.69it/s]\u001b[A\n",
      "Validation: 91it [00:00, 94.13it/s]\u001b[A\n",
      "Validation: 101it [00:01, 81.88it/s]\u001b[A\n",
      "Validation: 112it [00:01, 88.07it/s]\u001b[A\n",
      "Validation: 122it [00:01, 90.98it/s]\u001b[A\n",
      "Validation: 132it [00:01, 91.80it/s]\u001b[A\n",
      "Validation: 142it [00:01, 88.90it/s]\u001b[A\n",
      "Validation: 154it [00:01, 96.35it/s]\u001b[A\n",
      "Validation: 167it [00:01, 105.53it/s]\u001b[A\n",
      "Validation: 179it [00:01, 109.52it/s]\u001b[A\n",
      "Validation: 201it [00:02, 99.16it/s] \u001b[A\n",
      "Training: 8506it [04:16,  9.20it/s]"
     ]
    },
    {
     "name": "stdout",
     "output_type": "stream",
     "text": [
      "loss for step 8500 : 2.297786069746634  :  Accuracy: 24.253731343283583 %\n"
     ]
    },
    {
     "name": "stderr",
     "output_type": "stream",
     "text": [
      "Training: 8998it [04:29, 38.64it/s]\n",
      "Validation: 0it [00:00, ?it/s]\u001b[A\n",
      "Validation: 9it [00:00, 88.84it/s]\u001b[A\n",
      "Validation: 19it [00:00, 92.35it/s]\u001b[A\n",
      "Validation: 31it [00:00, 100.89it/s]\u001b[A\n",
      "Validation: 42it [00:00, 104.03it/s]\u001b[A\n",
      "Validation: 55it [00:00, 112.70it/s]\u001b[A\n",
      "Validation: 67it [00:00, 103.77it/s]\u001b[A\n",
      "Validation: 78it [00:00, 92.60it/s] \u001b[A\n",
      "Validation: 90it [00:00, 99.40it/s]\u001b[A\n",
      "Validation: 103it [00:01, 106.88it/s]\u001b[A\n",
      "Validation: 116it [00:01, 112.24it/s]\u001b[A\n",
      "Validation: 128it [00:01, 112.74it/s]\u001b[A\n",
      "Validation: 141it [00:01, 117.06it/s]\u001b[A\n",
      "Validation: 154it [00:01, 120.25it/s]\u001b[A\n",
      "Validation: 167it [00:01, 117.98it/s]\u001b[A\n",
      "Validation: 179it [00:01, 109.03it/s]\u001b[A\n",
      "Validation: 201it [00:01, 107.17it/s]\u001b[A\n",
      "Training: 9007it [04:31,  9.16it/s]"
     ]
    },
    {
     "name": "stdout",
     "output_type": "stream",
     "text": [
      "loss for step 9000 : 2.282879171086781  :  Accuracy: 26.430348258706466 %\n"
     ]
    },
    {
     "name": "stderr",
     "output_type": "stream",
     "text": [
      "Training: 9496it [04:43, 40.29it/s]\n",
      "Validation: 0it [00:00, ?it/s]\u001b[A\n",
      "Validation: 9it [00:00, 83.76it/s]\u001b[A\n",
      "Validation: 20it [00:00, 95.83it/s]\u001b[A\n",
      "Validation: 33it [00:00, 107.82it/s]\u001b[A\n",
      "Validation: 44it [00:00, 108.27it/s]\u001b[A\n",
      "Validation: 55it [00:00, 106.80it/s]\u001b[A\n",
      "Validation: 66it [00:00, 106.59it/s]\u001b[A\n",
      "Validation: 78it [00:00, 109.47it/s]\u001b[A\n",
      "Validation: 90it [00:00, 109.98it/s]\u001b[A\n",
      "Validation: 101it [00:00, 108.77it/s]\u001b[A\n",
      "Validation: 113it [00:01, 110.81it/s]\u001b[A\n",
      "Validation: 126it [00:01, 114.96it/s]\u001b[A\n",
      "Validation: 139it [00:01, 117.91it/s]\u001b[A\n",
      "Validation: 151it [00:01, 118.52it/s]\u001b[A\n",
      "Validation: 164it [00:01, 119.85it/s]\u001b[A\n",
      "Validation: 176it [00:01, 119.80it/s]\u001b[A\n",
      "Validation: 201it [00:01, 113.70it/s]\u001b[A\n",
      "Training: 9506it [04:45, 10.03it/s]"
     ]
    },
    {
     "name": "stdout",
     "output_type": "stream",
     "text": [
      "loss for step 9500 : 2.296264536938264  :  Accuracy: 25.062189054726367 %\n"
     ]
    },
    {
     "name": "stderr",
     "output_type": "stream",
     "text": [
      "Training: 9999it [04:56, 43.04it/s]\n",
      "Validation: 0it [00:00, ?it/s]\u001b[A\n",
      "Validation: 9it [00:00, 83.77it/s]\u001b[A\n",
      "Validation: 19it [00:00, 92.46it/s]\u001b[A\n",
      "Validation: 29it [00:00, 89.53it/s]\u001b[A\n",
      "Validation: 42it [00:00, 103.14it/s]\u001b[A\n",
      "Validation: 55it [00:00, 110.49it/s]\u001b[A\n",
      "Validation: 68it [00:00, 115.20it/s]\u001b[A\n",
      "Validation: 81it [00:00, 118.33it/s]\u001b[A\n",
      "Validation: 93it [00:00, 112.79it/s]\u001b[A\n",
      "Validation: 105it [00:00, 109.70it/s]\u001b[A\n",
      "Validation: 118it [00:01, 114.68it/s]\u001b[A\n",
      "Validation: 131it [00:01, 117.89it/s]\u001b[A\n",
      "Validation: 143it [00:01, 113.72it/s]\u001b[A\n",
      "Validation: 156it [00:01, 116.15it/s]\u001b[A\n",
      "Validation: 168it [00:01, 112.53it/s]\u001b[A\n",
      "Validation: 180it [00:01, 107.69it/s]\u001b[A\n",
      "Validation: 201it [00:01, 108.74it/s]\u001b[A\n",
      "Training: 10008it [04:58,  9.29it/s]"
     ]
    },
    {
     "name": "stdout",
     "output_type": "stream",
     "text": [
      "loss for step 10000 : 2.3023014329559173  :  Accuracy: 24.00497512437811 %\n"
     ]
    },
    {
     "name": "stderr",
     "output_type": "stream",
     "text": [
      "Training: 10497it [05:10, 42.20it/s]\n",
      "Validation: 0it [00:00, ?it/s]\u001b[A\n",
      "Validation: 4it [00:00, 37.13it/s]\u001b[A\n",
      "Validation: 14it [00:00, 70.48it/s]\u001b[A\n",
      "Validation: 27it [00:00, 95.20it/s]\u001b[A\n",
      "Validation: 40it [00:00, 106.31it/s]\u001b[A\n",
      "Validation: 52it [00:00, 110.15it/s]\u001b[A\n",
      "Validation: 64it [00:00, 107.95it/s]\u001b[A\n",
      "Validation: 75it [00:00, 108.26it/s]\u001b[A\n",
      "Validation: 86it [00:00, 108.42it/s]\u001b[A\n",
      "Validation: 98it [00:00, 110.74it/s]\u001b[A\n",
      "Validation: 110it [00:01, 106.64it/s]\u001b[A\n",
      "Validation: 121it [00:01, 103.76it/s]\u001b[A\n",
      "Validation: 134it [00:01, 109.56it/s]\u001b[A\n",
      "Validation: 146it [00:01, 104.68it/s]\u001b[A\n",
      "Validation: 159it [00:01, 110.27it/s]\u001b[A\n",
      "Validation: 171it [00:01, 112.71it/s]\u001b[A\n",
      "Validation: 183it [00:01, 111.12it/s]\u001b[A\n",
      "Validation: 201it [00:01, 104.61it/s]\u001b[A\n",
      "Training: 10506it [05:13,  8.70it/s]"
     ]
    },
    {
     "name": "stdout",
     "output_type": "stream",
     "text": [
      "loss for step 10500 : 2.2961690971507362  :  Accuracy: 24.62686567164179 %\n"
     ]
    },
    {
     "name": "stderr",
     "output_type": "stream",
     "text": [
      "Training: 10998it [05:24, 45.45it/s]\n",
      "Validation: 0it [00:00, ?it/s]\u001b[A\n",
      "Validation: 7it [00:00, 66.65it/s]\u001b[A\n",
      "Validation: 16it [00:00, 77.50it/s]\u001b[A\n",
      "Validation: 28it [00:00, 93.79it/s]\u001b[A\n",
      "Validation: 40it [00:00, 102.97it/s]\u001b[A\n",
      "Validation: 54it [00:00, 113.23it/s]\u001b[A\n",
      "Validation: 67it [00:00, 118.24it/s]\u001b[A\n",
      "Validation: 79it [00:00, 110.66it/s]\u001b[A\n",
      "Validation: 91it [00:00, 108.50it/s]\u001b[A\n",
      "Validation: 102it [00:00, 108.31it/s]\u001b[A\n",
      "Validation: 114it [00:01, 109.52it/s]\u001b[A\n",
      "Validation: 125it [00:01, 109.51it/s]\u001b[A\n",
      "Validation: 138it [00:01, 113.52it/s]\u001b[A\n",
      "Validation: 152it [00:01, 119.36it/s]\u001b[A\n",
      "Validation: 166it [00:01, 123.85it/s]\u001b[A\n",
      "Validation: 180it [00:01, 126.39it/s]\u001b[A\n",
      "Validation: 201it [00:01, 113.45it/s]\u001b[A\n",
      "Training: 11008it [05:26, 10.37it/s]"
     ]
    },
    {
     "name": "stdout",
     "output_type": "stream",
     "text": [
      "loss for step 11000 : 2.2872124352858436  :  Accuracy: 26.243781094527364 %\n"
     ]
    },
    {
     "name": "stderr",
     "output_type": "stream",
     "text": [
      "Training: 11500it [05:39, 40.48it/s]\n",
      "Validation: 0it [00:00, ?it/s]\u001b[A\n",
      "Validation: 6it [00:00, 59.14it/s]\u001b[A\n",
      "Validation: 15it [00:00, 75.08it/s]\u001b[A\n",
      "Validation: 24it [00:00, 79.92it/s]\u001b[A\n",
      "Validation: 34it [00:00, 85.50it/s]\u001b[A\n",
      "Validation: 43it [00:00, 80.19it/s]\u001b[A\n",
      "Validation: 52it [00:00, 64.21it/s]\u001b[A\n",
      "Validation: 62it [00:00, 73.09it/s]\u001b[A\n",
      "Validation: 73it [00:00, 80.22it/s]\u001b[A\n",
      "Validation: 85it [00:01, 90.26it/s]\u001b[A\n",
      "Validation: 97it [00:01, 97.96it/s]\u001b[A\n",
      "Validation: 109it [00:01, 101.97it/s]\u001b[A\n",
      "Validation: 120it [00:01, 103.69it/s]\u001b[A\n",
      "Validation: 131it [00:01, 104.88it/s]\u001b[A\n",
      "Validation: 142it [00:01, 96.48it/s] \u001b[A\n",
      "Validation: 152it [00:01, 93.52it/s]\u001b[A\n",
      "Validation: 162it [00:01, 93.59it/s]\u001b[A\n",
      "Validation: 175it [00:01, 101.99it/s]\u001b[A\n",
      "Validation: 188it [00:02, 107.81it/s]\u001b[A\n",
      "Validation: 201it [00:02, 91.71it/s] \u001b[A\n",
      "Training: 11505it [05:41,  6.25it/s]"
     ]
    },
    {
     "name": "stdout",
     "output_type": "stream",
     "text": [
      "loss for step 11500 : 2.3030097911606973  :  Accuracy: 22.94776119402985 %\n"
     ]
    },
    {
     "name": "stderr",
     "output_type": "stream",
     "text": [
      "Training: 11996it [05:54, 43.14it/s]\n",
      "Validation: 0it [00:00, ?it/s]\u001b[A\n",
      "Validation: 10it [00:00, 93.59it/s]\u001b[A\n",
      "Validation: 23it [00:00, 111.62it/s]\u001b[A\n",
      "Validation: 36it [00:00, 117.38it/s]\u001b[A\n",
      "Validation: 48it [00:00, 115.02it/s]\u001b[A\n",
      "Validation: 60it [00:00, 109.98it/s]\u001b[A\n",
      "Validation: 73it [00:00, 113.72it/s]\u001b[A\n",
      "Validation: 85it [00:00, 114.16it/s]\u001b[A\n",
      "Validation: 97it [00:00, 114.68it/s]\u001b[A\n",
      "Validation: 109it [00:00, 115.11it/s]\u001b[A\n",
      "Validation: 121it [00:01, 116.47it/s]\u001b[A\n",
      "Validation: 134it [00:01, 117.98it/s]\u001b[A\n",
      "Validation: 146it [00:01, 117.17it/s]\u001b[A\n",
      "Validation: 158it [00:01, 113.04it/s]\u001b[A\n",
      "Validation: 170it [00:01, 108.60it/s]\u001b[A\n",
      "Validation: 182it [00:01, 110.59it/s]\u001b[A\n",
      "Validation: 201it [00:01, 111.90it/s]\u001b[A\n",
      "Training: 12006it [05:56, 10.11it/s]"
     ]
    },
    {
     "name": "stdout",
     "output_type": "stream",
     "text": [
      "loss for step 12000 : 2.2883816399977577  :  Accuracy: 25.621890547263682 %\n"
     ]
    },
    {
     "name": "stderr",
     "output_type": "stream",
     "text": [
      "Training: 12497it [06:09, 43.07it/s]\n",
      "Validation: 0it [00:00, ?it/s]\u001b[A\n",
      "Validation: 8it [00:00, 78.16it/s]\u001b[A\n",
      "Validation: 20it [00:00, 100.92it/s]\u001b[A\n",
      "Validation: 31it [00:00, 99.18it/s] \u001b[A\n",
      "Validation: 41it [00:00, 95.97it/s]\u001b[A\n",
      "Validation: 51it [00:00, 94.31it/s]\u001b[A\n",
      "Validation: 62it [00:00, 96.94it/s]\u001b[A\n",
      "Validation: 73it [00:00, 99.28it/s]\u001b[A\n",
      "Validation: 83it [00:00, 93.90it/s]\u001b[A\n",
      "Validation: 94it [00:00, 97.13it/s]\u001b[A\n",
      "Validation: 105it [00:01, 99.04it/s]\u001b[A\n",
      "Validation: 119it [00:01, 109.25it/s]\u001b[A\n",
      "Validation: 131it [00:01, 111.67it/s]\u001b[A\n",
      "Validation: 143it [00:01, 110.98it/s]\u001b[A\n",
      "Validation: 155it [00:01, 107.69it/s]\u001b[A\n",
      "Validation: 167it [00:01, 110.00it/s]\u001b[A\n",
      "Validation: 179it [00:01, 109.31it/s]\u001b[A\n",
      "Validation: 190it [00:01, 109.15it/s]\u001b[A\n",
      "Validation: 201it [00:02, 100.19it/s]\u001b[A\n",
      "Training: 12506it [06:11,  8.60it/s]"
     ]
    },
    {
     "name": "stdout",
     "output_type": "stream",
     "text": [
      "loss for step 12500 : 2.297618160200356  :  Accuracy: 24.62686567164179 %\n"
     ]
    },
    {
     "name": "stderr",
     "output_type": "stream",
     "text": [
      "Training: 12999it [06:24, 35.53it/s]\n",
      "Validation: 0it [00:00, ?it/s]\u001b[A\n",
      "Validation: 10it [00:00, 94.41it/s]\u001b[A\n",
      "Validation: 22it [00:00, 107.44it/s]\u001b[A\n",
      "Validation: 34it [00:00, 112.50it/s]\u001b[A\n",
      "Validation: 47it [00:00, 116.53it/s]\u001b[A\n",
      "Validation: 60it [00:00, 118.91it/s]\u001b[A\n",
      "Validation: 73it [00:00, 120.72it/s]\u001b[A\n",
      "Validation: 86it [00:00, 121.62it/s]\u001b[A\n",
      "Validation: 99it [00:00, 120.61it/s]\u001b[A\n",
      "Validation: 112it [00:00, 113.79it/s]\u001b[A\n",
      "Validation: 124it [00:01, 113.07it/s]\u001b[A\n",
      "Validation: 136it [00:01, 113.14it/s]\u001b[A\n",
      "Validation: 149it [00:01, 115.58it/s]\u001b[A\n",
      "Validation: 161it [00:01, 103.15it/s]\u001b[A\n",
      "Validation: 172it [00:01, 98.69it/s] \u001b[A\n",
      "Validation: 183it [00:01, 96.36it/s]\u001b[A\n",
      "Validation: 201it [00:01, 108.43it/s]\u001b[A\n",
      "Training: 13007it [06:26,  8.40it/s]"
     ]
    },
    {
     "name": "stdout",
     "output_type": "stream",
     "text": [
      "loss for step 13000 : 2.2928879854097888  :  Accuracy: 25.186567164179106 %\n"
     ]
    },
    {
     "name": "stderr",
     "output_type": "stream",
     "text": [
      "Training: 13496it [06:38, 38.80it/s]\n",
      "Validation: 0it [00:00, ?it/s]\u001b[A\n",
      "Validation: 9it [00:00, 87.26it/s]\u001b[A\n",
      "Validation: 18it [00:00, 86.15it/s]\u001b[A\n",
      "Validation: 31it [00:00, 102.93it/s]\u001b[A\n",
      "Validation: 42it [00:00, 98.62it/s] \u001b[A\n",
      "Validation: 53it [00:00, 100.17it/s]\u001b[A\n",
      "Validation: 64it [00:00, 101.53it/s]\u001b[A\n",
      "Validation: 75it [00:00, 103.33it/s]\u001b[A\n",
      "Validation: 86it [00:00, 101.10it/s]\u001b[A\n",
      "Validation: 97it [00:00, 103.02it/s]\u001b[A\n",
      "Validation: 110it [00:01, 108.84it/s]\u001b[A\n",
      "Validation: 123it [00:01, 113.32it/s]\u001b[A\n",
      "Validation: 135it [00:01, 113.16it/s]\u001b[A\n",
      "Validation: 147it [00:01, 113.53it/s]\u001b[A\n",
      "Validation: 159it [00:01, 115.39it/s]\u001b[A\n",
      "Validation: 172it [00:01, 117.52it/s]\u001b[A\n",
      "Validation: 184it [00:01, 113.33it/s]\u001b[A\n",
      "Validation: 201it [00:01, 106.73it/s]\u001b[A\n",
      "Training: 13505it [06:40,  9.13it/s]"
     ]
    },
    {
     "name": "stdout",
     "output_type": "stream",
     "text": [
      "loss for step 13500 : 2.3109113090666966  :  Accuracy: 22.20149253731343 %\n"
     ]
    },
    {
     "name": "stderr",
     "output_type": "stream",
     "text": [
      "Training: 13998it [06:53, 32.44it/s]\n",
      "Validation: 0it [00:00, ?it/s]\u001b[A\n",
      "Validation: 10it [00:00, 97.03it/s]\u001b[A\n",
      "Validation: 23it [00:00, 112.55it/s]\u001b[A\n",
      "Validation: 37it [00:00, 122.02it/s]\u001b[A\n",
      "Validation: 50it [00:00, 122.90it/s]\u001b[A\n",
      "Validation: 63it [00:00, 120.09it/s]\u001b[A\n",
      "Validation: 76it [00:00, 118.22it/s]\u001b[A\n",
      "Validation: 88it [00:00, 106.91it/s]\u001b[A\n",
      "Validation: 99it [00:00, 106.35it/s]\u001b[A\n",
      "Validation: 111it [00:00, 108.19it/s]\u001b[A\n",
      "Validation: 124it [00:01, 112.12it/s]\u001b[A\n",
      "Validation: 137it [00:01, 115.07it/s]\u001b[A\n",
      "Validation: 149it [00:01, 113.45it/s]\u001b[A\n",
      "Validation: 161it [00:01, 111.28it/s]\u001b[A\n",
      "Validation: 173it [00:01, 113.69it/s]\u001b[A\n",
      "Validation: 185it [00:01, 112.92it/s]\u001b[A\n",
      "Validation: 201it [00:01, 107.37it/s]\u001b[A\n",
      "Training: 14007it [06:55,  8.40it/s]"
     ]
    },
    {
     "name": "stdout",
     "output_type": "stream",
     "text": [
      "loss for step 14000 : 2.2897497990831215  :  Accuracy: 25.435323383084576 %\n"
     ]
    },
    {
     "name": "stderr",
     "output_type": "stream",
     "text": [
      "Training: 14497it [07:12, 39.13it/s]\n",
      "Validation: 0it [00:00, ?it/s]\u001b[A\n",
      "Validation: 8it [00:00, 78.43it/s]\u001b[A\n",
      "Validation: 20it [00:00, 100.13it/s]\u001b[A\n",
      "Validation: 32it [00:00, 105.51it/s]\u001b[A\n",
      "Validation: 44it [00:00, 107.92it/s]\u001b[A\n",
      "Validation: 55it [00:00, 108.25it/s]\u001b[A\n",
      "Validation: 66it [00:00, 100.56it/s]\u001b[A\n",
      "Validation: 77it [00:00, 85.15it/s] \u001b[A\n",
      "Validation: 88it [00:00, 90.58it/s]\u001b[A\n",
      "Validation: 99it [00:01, 94.73it/s]\u001b[A\n",
      "Validation: 109it [00:01, 93.32it/s]\u001b[A\n",
      "Validation: 119it [00:01, 93.01it/s]\u001b[A\n",
      "Validation: 129it [00:01, 93.15it/s]\u001b[A\n",
      "Validation: 139it [00:01, 92.45it/s]\u001b[A\n",
      "Validation: 149it [00:01, 90.95it/s]\u001b[A\n",
      "Validation: 159it [00:01, 89.63it/s]\u001b[A\n",
      "Validation: 169it [00:01, 84.16it/s]\u001b[A\n",
      "Validation: 179it [00:01, 87.64it/s]\u001b[A\n",
      "Validation: 201it [00:02, 94.35it/s]\u001b[A\n",
      "Training: 14506it [07:14,  8.22it/s]"
     ]
    },
    {
     "name": "stdout",
     "output_type": "stream",
     "text": [
      "loss for step 14500 : 2.2901340782345825  :  Accuracy: 25.435323383084576 %\n"
     ]
    },
    {
     "name": "stderr",
     "output_type": "stream",
     "text": [
      "Training: 15000it [07:29, 28.94it/s]\n",
      "Validation: 0it [00:00, ?it/s]\u001b[A\n",
      "Validation: 7it [00:00, 63.19it/s]\u001b[A\n",
      "Validation: 18it [00:00, 88.20it/s]\u001b[A\n",
      "Validation: 27it [00:00, 88.41it/s]\u001b[A\n",
      "Validation: 38it [00:00, 94.01it/s]\u001b[A\n",
      "Validation: 48it [00:00, 86.38it/s]\u001b[A\n",
      "Validation: 57it [00:00, 67.67it/s]\u001b[A\n",
      "Validation: 65it [00:00, 69.37it/s]\u001b[A\n",
      "Validation: 73it [00:00, 69.96it/s]\u001b[A\n",
      "Validation: 83it [00:01, 77.84it/s]\u001b[A\n",
      "Validation: 94it [00:01, 85.85it/s]\u001b[A\n",
      "Validation: 106it [00:01, 95.31it/s]\u001b[A\n",
      "Validation: 116it [00:01, 94.71it/s]\u001b[A\n",
      "Validation: 126it [00:01, 92.11it/s]\u001b[A\n",
      "Validation: 136it [00:01, 85.85it/s]\u001b[A\n",
      "Validation: 145it [00:01, 79.90it/s]\u001b[A\n",
      "Validation: 154it [00:01, 68.67it/s]\u001b[A\n",
      "Validation: 162it [00:02, 67.86it/s]\u001b[A\n",
      "Validation: 170it [00:02, 56.36it/s]\u001b[A\n",
      "Validation: 177it [00:02, 57.10it/s]\u001b[A\n",
      "Validation: 186it [00:02, 63.11it/s]\u001b[A\n",
      "Validation: 193it [00:02, 54.25it/s]\u001b[A\n",
      "Validation: 201it [00:02, 71.15it/s]\u001b[A\n"
     ]
    },
    {
     "name": "stdout",
     "output_type": "stream",
     "text": [
      "loss for step 15000 : 2.296104229504789  :  Accuracy: 24.68905472636816 %\n"
     ]
    },
    {
     "name": "stderr",
     "output_type": "stream",
     "text": [
      "Training: 15498it [07:47, 38.44it/s]\n",
      "Validation: 0it [00:00, ?it/s]\u001b[A\n",
      "Validation: 8it [00:00, 75.95it/s]\u001b[A\n",
      "Validation: 21it [00:00, 103.99it/s]\u001b[A\n",
      "Validation: 34it [00:00, 112.13it/s]\u001b[A\n",
      "Validation: 46it [00:00, 109.94it/s]\u001b[A\n",
      "Validation: 57it [00:00, 107.28it/s]\u001b[A\n",
      "Validation: 70it [00:00, 112.53it/s]\u001b[A\n",
      "Validation: 83it [00:00, 116.33it/s]\u001b[A\n",
      "Validation: 96it [00:00, 118.82it/s]\u001b[A\n",
      "Validation: 108it [00:00, 118.76it/s]\u001b[A\n",
      "Validation: 120it [00:01, 118.56it/s]\u001b[A\n",
      "Validation: 133it [00:01, 118.84it/s]\u001b[A\n",
      "Validation: 146it [00:01, 121.26it/s]\u001b[A\n",
      "Validation: 159it [00:01, 102.16it/s]\u001b[A\n",
      "Validation: 170it [00:01, 97.35it/s] \u001b[A\n",
      "Validation: 181it [00:01, 95.94it/s]\u001b[A\n",
      "Validation: 201it [00:01, 107.73it/s]\u001b[A\n",
      "Training: 15506it [07:49,  8.47it/s]"
     ]
    },
    {
     "name": "stdout",
     "output_type": "stream",
     "text": [
      "loss for step 15500 : 2.292381641283557  :  Accuracy: 24.564676616915424 %\n"
     ]
    },
    {
     "name": "stderr",
     "output_type": "stream",
     "text": [
      "Training: 15999it [08:02, 42.47it/s]\n",
      "Validation: 0it [00:00, ?it/s]\u001b[A\n",
      "Validation: 9it [00:00, 82.54it/s]\u001b[A\n",
      "Validation: 19it [00:00, 89.14it/s]\u001b[A\n",
      "Validation: 32it [00:00, 104.38it/s]\u001b[A\n",
      "Validation: 45it [00:00, 111.41it/s]\u001b[A\n",
      "Validation: 58it [00:00, 117.15it/s]\u001b[A\n",
      "Validation: 71it [00:00, 121.04it/s]\u001b[A\n",
      "Validation: 84it [00:00, 123.83it/s]\u001b[A\n",
      "Validation: 97it [00:00, 124.41it/s]\u001b[A\n",
      "Validation: 110it [00:00, 124.19it/s]\u001b[A\n",
      "Validation: 123it [00:01, 124.09it/s]\u001b[A\n",
      "Validation: 136it [00:01, 115.18it/s]\u001b[A\n",
      "Validation: 148it [00:01, 107.85it/s]\u001b[A\n",
      "Validation: 160it [00:01, 110.59it/s]\u001b[A\n",
      "Validation: 173it [00:01, 115.22it/s]\u001b[A\n",
      "Validation: 186it [00:01, 118.26it/s]\u001b[A\n",
      "Validation: 201it [00:01, 114.39it/s]\u001b[A\n",
      "Training: 16009it [08:04, 10.25it/s]"
     ]
    },
    {
     "name": "stdout",
     "output_type": "stream",
     "text": [
      "loss for step 16000 : 2.3003723823015965  :  Accuracy: 24.253731343283583 %\n"
     ]
    },
    {
     "name": "stderr",
     "output_type": "stream",
     "text": [
      "Training: 16499it [08:16, 43.16it/s]\n",
      "Validation: 0it [00:00, ?it/s]\u001b[A\n",
      "Validation: 5it [00:00, 47.00it/s]\u001b[A\n",
      "Validation: 13it [00:00, 65.72it/s]\u001b[A\n",
      "Validation: 27it [00:00, 97.02it/s]\u001b[A\n",
      "Validation: 39it [00:00, 103.90it/s]\u001b[A\n",
      "Validation: 51it [00:00, 109.37it/s]\u001b[A\n",
      "Validation: 63it [00:00, 111.56it/s]\u001b[A\n",
      "Validation: 76it [00:00, 115.53it/s]\u001b[A\n",
      "Validation: 89it [00:00, 117.90it/s]\u001b[A\n",
      "Validation: 102it [00:00, 120.24it/s]\u001b[A\n",
      "Validation: 115it [00:01, 118.35it/s]\u001b[A\n",
      "Validation: 127it [00:01, 111.88it/s]\u001b[A\n",
      "Validation: 139it [00:01, 114.13it/s]\u001b[A\n",
      "Validation: 152it [00:01, 116.63it/s]\u001b[A\n",
      "Validation: 165it [00:01, 118.87it/s]\u001b[A\n",
      "Validation: 178it [00:01, 121.11it/s]\u001b[A\n",
      "Validation: 201it [00:01, 111.89it/s]\u001b[A\n",
      "Training: 16509it [08:18,  9.92it/s]"
     ]
    },
    {
     "name": "stdout",
     "output_type": "stream",
     "text": [
      "loss for step 16500 : 2.295404175027686  :  Accuracy: 24.937810945273633 %\n"
     ]
    },
    {
     "name": "stderr",
     "output_type": "stream",
     "text": [
      "Training: 16997it [08:31, 36.11it/s]\n",
      "Validation: 0it [00:00, ?it/s]\u001b[A\n",
      "Validation: 8it [00:00, 73.68it/s]\u001b[A\n",
      "Validation: 19it [00:00, 92.09it/s]\u001b[A\n",
      "Validation: 29it [00:00, 76.56it/s]\u001b[A\n",
      "Validation: 37it [00:00, 75.20it/s]\u001b[A\n",
      "Validation: 45it [00:00, 68.99it/s]\u001b[A\n",
      "Validation: 54it [00:00, 74.33it/s]\u001b[A\n",
      "Validation: 66it [00:00, 86.22it/s]\u001b[A\n",
      "Validation: 77it [00:00, 92.29it/s]\u001b[A\n",
      "Validation: 87it [00:01, 93.01it/s]\u001b[A\n",
      "Validation: 99it [00:01, 100.07it/s]\u001b[A\n",
      "Validation: 110it [00:01, 92.78it/s]\u001b[A\n",
      "Validation: 120it [00:01, 77.04it/s]\u001b[A\n",
      "Validation: 130it [00:01, 81.34it/s]\u001b[A\n",
      "Validation: 141it [00:01, 87.82it/s]\u001b[A\n",
      "Validation: 153it [00:01, 95.88it/s]\u001b[A\n",
      "Validation: 165it [00:01, 101.34it/s]\u001b[A\n",
      "Validation: 177it [00:01, 104.23it/s]\u001b[A\n",
      "Validation: 189it [00:02, 107.12it/s]\u001b[A\n",
      "Validation: 201it [00:02, 91.31it/s] \u001b[A\n",
      "Training: 17005it [08:34,  7.08it/s]"
     ]
    },
    {
     "name": "stdout",
     "output_type": "stream",
     "text": [
      "loss for step 17000 : 2.290492096943642  :  Accuracy: 25.808457711442784 %\n"
     ]
    },
    {
     "name": "stderr",
     "output_type": "stream",
     "text": [
      "Training: 17500it [08:49, 34.50it/s]\n",
      "Validation: 0it [00:00, ?it/s]\u001b[A\n",
      "Validation: 9it [00:00, 86.75it/s]\u001b[A\n",
      "Validation: 22it [00:00, 108.06it/s]\u001b[A\n",
      "Validation: 34it [00:00, 111.34it/s]\u001b[A\n",
      "Validation: 46it [00:00, 114.57it/s]\u001b[A\n",
      "Validation: 58it [00:00, 97.36it/s] \u001b[A\n",
      "Validation: 69it [00:00, 88.61it/s]\u001b[A\n",
      "Validation: 79it [00:00, 83.10it/s]\u001b[A\n",
      "Validation: 88it [00:00, 82.85it/s]\u001b[A\n",
      "Validation: 99it [00:01, 89.66it/s]\u001b[A\n",
      "Validation: 110it [00:01, 93.60it/s]\u001b[A\n",
      "Validation: 120it [00:01, 51.86it/s]\u001b[A\n",
      "Validation: 131it [00:01, 61.16it/s]\u001b[A\n",
      "Validation: 141it [00:01, 68.10it/s]\u001b[A\n",
      "Validation: 153it [00:01, 78.63it/s]\u001b[A\n",
      "Validation: 167it [00:02, 92.04it/s]\u001b[A\n",
      "Validation: 179it [00:02, 98.68it/s]\u001b[A\n",
      "Validation: 201it [00:02, 87.26it/s] \u001b[A\n",
      "Training: 17508it [08:52,  6.80it/s]"
     ]
    },
    {
     "name": "stdout",
     "output_type": "stream",
     "text": [
      "loss for step 17500 : 2.2891754819386043  :  Accuracy: 25.062189054726367 %\n"
     ]
    },
    {
     "name": "stderr",
     "output_type": "stream",
     "text": [
      "Training: 17999it [09:03, 44.89it/s]\n",
      "Validation: 0it [00:00, ?it/s]\u001b[A\n",
      "Validation: 9it [00:00, 87.08it/s]\u001b[A\n",
      "Validation: 22it [00:00, 110.15it/s]\u001b[A\n",
      "Validation: 34it [00:00, 109.77it/s]\u001b[A\n",
      "Validation: 46it [00:00, 111.03it/s]\u001b[A\n",
      "Validation: 58it [00:00, 108.03it/s]\u001b[A\n",
      "Validation: 69it [00:00, 103.34it/s]\u001b[A\n",
      "Validation: 80it [00:00, 104.48it/s]\u001b[A\n",
      "Validation: 91it [00:00, 105.36it/s]\u001b[A\n",
      "Validation: 103it [00:00, 108.47it/s]\u001b[A\n",
      "Validation: 116it [00:01, 114.06it/s]\u001b[A\n",
      "Validation: 129it [00:01, 118.73it/s]\u001b[A\n",
      "Validation: 143it [00:01, 122.63it/s]\u001b[A\n",
      "Validation: 157it [00:01, 125.40it/s]\u001b[A\n",
      "Validation: 170it [00:01, 105.95it/s]\u001b[A\n",
      "Validation: 182it [00:01, 97.09it/s] \u001b[A\n",
      "Validation: 201it [00:01, 107.41it/s][A\n",
      "Training: 18009it [09:05, 10.03it/s]"
     ]
    },
    {
     "name": "stdout",
     "output_type": "stream",
     "text": [
      "loss for step 18000 : 2.299241572470214  :  Accuracy: 24.502487562189053 %\n"
     ]
    },
    {
     "name": "stderr",
     "output_type": "stream",
     "text": [
      "Training: 18500it [09:17, 41.68it/s]\n",
      "Validation: 0it [00:00, ?it/s]\u001b[A\n",
      "Validation: 10it [00:00, 92.64it/s]\u001b[A\n",
      "Validation: 22it [00:00, 104.29it/s]\u001b[A\n",
      "Validation: 34it [00:00, 109.52it/s]\u001b[A\n",
      "Validation: 48it [00:00, 117.54it/s]\u001b[A\n",
      "Validation: 60it [00:00, 102.55it/s]\u001b[A\n",
      "Validation: 72it [00:00, 107.11it/s]\u001b[A\n",
      "Validation: 85it [00:00, 113.28it/s]\u001b[A\n",
      "Validation: 99it [00:00, 118.73it/s]\u001b[A\n",
      "Validation: 112it [00:00, 118.45it/s]\u001b[A\n",
      "Validation: 124it [00:01, 117.54it/s]\u001b[A\n",
      "Validation: 136it [00:01, 117.90it/s]\u001b[A\n",
      "Validation: 150it [00:01, 122.21it/s]\u001b[A\n",
      "Validation: 163it [00:01, 124.38it/s]\u001b[A\n",
      "Validation: 176it [00:01, 109.63it/s]\u001b[A\n",
      "Validation: 188it [00:01, 111.33it/s]\u001b[A\n",
      "Validation: 201it [00:01, 113.17it/s]\u001b[A\n",
      "Training: 18505it [09:19,  7.64it/s]"
     ]
    },
    {
     "name": "stdout",
     "output_type": "stream",
     "text": [
      "loss for step 18500 : 2.2778107651430575  :  Accuracy: 26.67910447761194 %\n"
     ]
    },
    {
     "name": "stderr",
     "output_type": "stream",
     "text": [
      "Training: 18997it [09:30, 43.38it/s]\n",
      "Validation: 0it [00:00, ?it/s]\u001b[A\n",
      "Validation: 9it [00:00, 88.31it/s]\u001b[A\n",
      "Validation: 22it [00:00, 110.48it/s]\u001b[A\n",
      "Validation: 34it [00:00, 106.67it/s]\u001b[A\n",
      "Validation: 45it [00:00, 93.94it/s] \u001b[A\n",
      "Validation: 58it [00:00, 103.71it/s]\u001b[A\n",
      "Validation: 71it [00:00, 111.41it/s]\u001b[A\n",
      "Validation: 84it [00:00, 116.77it/s]\u001b[A\n",
      "Validation: 98it [00:00, 122.76it/s]\u001b[A\n",
      "Validation: 112it [00:00, 126.19it/s]\u001b[A\n",
      "Validation: 126it [00:01, 128.40it/s]\u001b[A\n",
      "Validation: 140it [00:01, 131.01it/s]\u001b[A\n",
      "Validation: 154it [00:01, 130.94it/s]\u001b[A\n",
      "Validation: 168it [00:01, 103.96it/s]\u001b[A\n",
      "Validation: 181it [00:01, 108.47it/s]\u001b[A\n",
      "Validation: 201it [00:01, 114.75it/s]\u001b[A\n",
      "Training: 19007it [09:32, 10.36it/s]"
     ]
    },
    {
     "name": "stdout",
     "output_type": "stream",
     "text": [
      "loss for step 19000 : 2.2737625920357396  :  Accuracy: 27.425373134328357 %\n"
     ]
    },
    {
     "name": "stderr",
     "output_type": "stream",
     "text": [
      "Training: 19495it [09:43, 47.60it/s]\n",
      "Validation: 0it [00:00, ?it/s]\u001b[A\n",
      "Validation: 11it [00:00, 105.11it/s]\u001b[A\n",
      "Validation: 26it [00:00, 130.45it/s]\u001b[A\n",
      "Validation: 40it [00:00, 129.02it/s]\u001b[A\n",
      "Validation: 53it [00:00, 113.75it/s]\u001b[A\n",
      "Validation: 67it [00:00, 120.00it/s]\u001b[A\n",
      "Validation: 80it [00:00, 114.97it/s]\u001b[A\n",
      "Validation: 94it [00:00, 121.94it/s]\u001b[A\n",
      "Validation: 108it [00:00, 125.92it/s]\u001b[A\n",
      "Validation: 122it [00:00, 128.08it/s]\u001b[A\n",
      "Validation: 136it [00:01, 129.95it/s]\u001b[A\n",
      "Validation: 150it [00:01, 129.48it/s]\u001b[A\n",
      "Validation: 164it [00:01, 131.86it/s]\u001b[A\n",
      "Validation: 178it [00:01, 125.56it/s]\u001b[A\n",
      "Validation: 201it [00:01, 123.99it/s]\u001b[A\n",
      "Training: 19506it [09:45, 11.63it/s]"
     ]
    },
    {
     "name": "stdout",
     "output_type": "stream",
     "text": [
      "loss for step 19500 : 2.2924421735070832  :  Accuracy: 24.564676616915424 %\n"
     ]
    },
    {
     "name": "stderr",
     "output_type": "stream",
     "text": [
      "Training: 19999it [09:56, 42.89it/s]\n",
      "Validation: 0it [00:00, ?it/s]\u001b[A\n",
      "Validation: 9it [00:00, 86.10it/s]\u001b[A\n",
      "Validation: 20it [00:00, 98.82it/s]\u001b[A\n",
      "Validation: 31it [00:00, 103.05it/s]\u001b[A\n",
      "Validation: 42it [00:00, 93.95it/s] \u001b[A\n",
      "Validation: 52it [00:00, 89.97it/s]\u001b[A\n",
      "Validation: 64it [00:00, 97.92it/s]\u001b[A\n",
      "Validation: 78it [00:00, 109.09it/s]\u001b[A\n",
      "Validation: 92it [00:00, 117.53it/s]\u001b[A\n",
      "Validation: 105it [00:00, 120.09it/s]\u001b[A\n",
      "Validation: 118it [00:01, 118.97it/s]\u001b[A\n",
      "Validation: 133it [00:01, 125.76it/s]\u001b[A\n",
      "Validation: 147it [00:01, 127.47it/s]\u001b[A\n",
      "Validation: 160it [00:01, 110.22it/s]\u001b[A\n",
      "Validation: 172it [00:01, 111.71it/s]\u001b[A\n",
      "Validation: 184it [00:01, 113.69it/s]\u001b[A\n",
      "Validation: 201it [00:01, 111.13it/s]\u001b[A\n",
      "Training: 20009it [09:58, 10.14it/s]"
     ]
    },
    {
     "name": "stdout",
     "output_type": "stream",
     "text": [
      "loss for step 20000 : 2.2856939758234356  :  Accuracy: 26.865671641791046 %\n"
     ]
    },
    {
     "name": "stderr",
     "output_type": "stream",
     "text": [
      "Training: 20500it [10:09, 49.69it/s]\n",
      "Validation: 0it [00:00, ?it/s]\u001b[A\n",
      "Validation: 10it [00:00, 96.42it/s]\u001b[A\n",
      "Validation: 24it [00:00, 119.50it/s]\u001b[A\n",
      "Validation: 39it [00:00, 131.92it/s]\u001b[A\n",
      "Validation: 53it [00:00, 112.51it/s]\u001b[A\n",
      "Validation: 66it [00:00, 116.90it/s]\u001b[A\n",
      "Validation: 78it [00:00, 116.75it/s]\u001b[A\n",
      "Validation: 92it [00:00, 120.82it/s]\u001b[A\n",
      "Validation: 105it [00:00, 119.31it/s]\u001b[A\n",
      "Validation: 118it [00:00, 120.18it/s]\u001b[A\n",
      "Validation: 131it [00:01, 120.39it/s]\u001b[A\n",
      "Validation: 144it [00:01, 121.08it/s]\u001b[A\n",
      "Validation: 157it [00:01, 120.65it/s]\u001b[A\n",
      "Validation: 170it [00:01, 109.73it/s]\u001b[A\n",
      "Validation: 183it [00:01, 114.55it/s]\u001b[A\n",
      "Validation: 201it [00:01, 117.68it/s]\u001b[A\n",
      "Training: 20505it [10:11,  8.65it/s]"
     ]
    },
    {
     "name": "stdout",
     "output_type": "stream",
     "text": [
      "loss for step 20500 : 2.293088090953542  :  Accuracy: 25.062189054726367 %\n"
     ]
    },
    {
     "name": "stderr",
     "output_type": "stream",
     "text": [
      "Training: 21000it [10:22, 44.96it/s]\n",
      "Validation: 0it [00:00, ?it/s]\u001b[A\n",
      "Validation: 10it [00:00, 95.68it/s]\u001b[A\n",
      "Validation: 22it [00:00, 108.87it/s]\u001b[A\n",
      "Validation: 36it [00:00, 122.46it/s]\u001b[A\n",
      "Validation: 51it [00:00, 130.02it/s]\u001b[A\n",
      "Validation: 65it [00:00, 130.50it/s]\u001b[A\n",
      "Validation: 79it [00:00, 132.75it/s]\u001b[A\n",
      "Validation: 93it [00:00, 132.67it/s]\u001b[A\n",
      "Validation: 107it [00:00, 125.64it/s]\u001b[A\n",
      "Validation: 121it [00:00, 128.15it/s]\u001b[A\n",
      "Validation: 134it [00:01, 123.18it/s]\u001b[A\n",
      "Validation: 148it [00:01, 126.80it/s]\u001b[A\n",
      "Validation: 161it [00:01, 125.18it/s]\u001b[A\n",
      "Validation: 175it [00:01, 127.89it/s]\u001b[A\n",
      "Validation: 201it [00:01, 127.15it/s]\u001b[A\n",
      "Training: 21010it [10:24, 11.34it/s]"
     ]
    },
    {
     "name": "stdout",
     "output_type": "stream",
     "text": [
      "loss for step 21000 : 2.2909543739622507  :  Accuracy: 25.870646766169155 %\n"
     ]
    },
    {
     "name": "stderr",
     "output_type": "stream",
     "text": [
      "Training: 21496it [10:35, 45.63it/s]\n",
      "Validation: 0it [00:00, ?it/s]\u001b[A\n",
      "Validation: 8it [00:00, 78.96it/s]\u001b[A\n",
      "Validation: 20it [00:00, 101.75it/s]\u001b[A\n",
      "Validation: 33it [00:00, 111.51it/s]\u001b[A\n",
      "Validation: 46it [00:00, 115.03it/s]\u001b[A\n",
      "Validation: 58it [00:00, 114.43it/s]\u001b[A\n",
      "Validation: 70it [00:00, 115.44it/s]\u001b[A\n",
      "Validation: 84it [00:00, 121.06it/s]\u001b[A\n",
      "Validation: 97it [00:00, 107.30it/s]\u001b[A\n",
      "Validation: 109it [00:01, 99.72it/s]\u001b[A\n",
      "Validation: 121it [00:01, 103.18it/s]\u001b[A\n",
      "Validation: 134it [00:01, 108.79it/s]\u001b[A\n",
      "Validation: 148it [00:01, 115.11it/s]\u001b[A\n",
      "Validation: 160it [00:01, 113.40it/s]\u001b[A\n",
      "Validation: 172it [00:01, 114.57it/s]\u001b[A\n",
      "Validation: 184it [00:01, 115.62it/s]\u001b[A\n",
      "Validation: 201it [00:01, 110.74it/s]\u001b[A\n",
      "Training: 21505it [10:37,  9.12it/s]"
     ]
    },
    {
     "name": "stdout",
     "output_type": "stream",
     "text": [
      "loss for step 21500 : 2.294947400021909  :  Accuracy: 24.31592039800995 %\n"
     ]
    },
    {
     "name": "stderr",
     "output_type": "stream",
     "text": [
      "Training: 21998it [10:48, 42.69it/s]\n",
      "Validation: 0it [00:00, ?it/s]\u001b[A\n",
      "Validation: 8it [00:00, 78.55it/s]\u001b[A\n",
      "Validation: 21it [00:00, 104.41it/s]\u001b[A\n",
      "Validation: 33it [00:00, 105.49it/s]\u001b[A\n",
      "Validation: 44it [00:00, 97.12it/s] \u001b[A\n",
      "Validation: 58it [00:00, 109.31it/s]\u001b[A\n",
      "Validation: 72it [00:00, 117.22it/s]\u001b[A\n",
      "Validation: 87it [00:00, 125.40it/s]\u001b[A\n",
      "Validation: 100it [00:00, 126.78it/s]\u001b[A\n",
      "Validation: 114it [00:00, 129.47it/s]\u001b[A\n",
      "Validation: 128it [00:01, 129.37it/s]\u001b[A\n",
      "Validation: 141it [00:01, 129.51it/s]\u001b[A\n",
      "Validation: 155it [00:01, 130.84it/s]\u001b[A\n",
      "Validation: 169it [00:01, 111.64it/s]\u001b[A\n",
      "Validation: 182it [00:01, 116.37it/s]\u001b[A\n",
      "Validation: 201it [00:01, 118.24it/s]\u001b[A\n",
      "Training: 22008it [10:50, 10.58it/s]"
     ]
    },
    {
     "name": "stdout",
     "output_type": "stream",
     "text": [
      "loss for step 22000 : 2.2898091048150513  :  Accuracy: 24.875621890547265 %\n"
     ]
    },
    {
     "name": "stderr",
     "output_type": "stream",
     "text": [
      "Training: 22498it [11:02, 45.07it/s]\n",
      "Validation: 0it [00:00, ?it/s]\u001b[A\n",
      "Validation: 10it [00:00, 99.82it/s]\u001b[A\n",
      "Validation: 23it [00:00, 113.33it/s]\u001b[A\n",
      "Validation: 36it [00:00, 119.78it/s]\u001b[A\n",
      "Validation: 50it [00:00, 123.61it/s]\u001b[A\n",
      "Validation: 63it [00:00, 103.32it/s]\u001b[A\n",
      "Validation: 74it [00:00, 104.90it/s]\u001b[A\n",
      "Validation: 85it [00:00, 104.57it/s]\u001b[A\n",
      "Validation: 97it [00:00, 108.12it/s]\u001b[A\n",
      "Validation: 110it [00:00, 112.39it/s]\u001b[A\n",
      "Validation: 122it [00:01, 108.83it/s]\u001b[A\n",
      "Validation: 133it [00:01, 100.40it/s]\u001b[A\n",
      "Validation: 144it [00:01, 92.22it/s] \u001b[A\n",
      "Validation: 154it [00:01, 85.90it/s]\u001b[A\n",
      "Validation: 165it [00:01, 90.67it/s]\u001b[A\n",
      "Validation: 175it [00:01, 92.18it/s]\u001b[A\n",
      "Validation: 185it [00:01, 89.26it/s]\u001b[A\n",
      "Validation: 201it [00:02, 99.56it/s]\u001b[A\n",
      "Training: 22508it [11:05,  9.27it/s]"
     ]
    },
    {
     "name": "stdout",
     "output_type": "stream",
     "text": [
      "loss for step 22500 : 2.2819217253680253  :  Accuracy: 26.554726368159205 %\n"
     ]
    },
    {
     "name": "stderr",
     "output_type": "stream",
     "text": [
      "Training: 22999it [11:18, 40.38it/s]\n",
      "Validation: 0it [00:00, ?it/s]\u001b[A\n",
      "Validation: 9it [00:00, 86.21it/s]\u001b[A\n",
      "Validation: 21it [00:00, 104.76it/s]\u001b[A\n",
      "Validation: 33it [00:00, 109.96it/s]\u001b[A\n",
      "Validation: 45it [00:00, 112.60it/s]\u001b[A\n",
      "Validation: 57it [00:00, 113.95it/s]\u001b[A\n",
      "Validation: 70it [00:00, 116.76it/s]\u001b[A\n",
      "Validation: 82it [00:00, 116.22it/s]\u001b[A\n",
      "Validation: 94it [00:00, 110.00it/s]\u001b[A\n",
      "Validation: 106it [00:00, 109.24it/s]\u001b[A\n",
      "Validation: 117it [00:01, 99.71it/s] \u001b[A\n",
      "Validation: 128it [00:01, 95.95it/s]\u001b[A\n",
      "Validation: 140it [00:01, 101.86it/s]\u001b[A\n",
      "Validation: 152it [00:01, 104.79it/s]\u001b[A\n",
      "Validation: 164it [00:01, 108.75it/s]\u001b[A\n",
      "Validation: 177it [00:01, 113.18it/s]\u001b[A\n",
      "Validation: 189it [00:01, 114.48it/s]\u001b[A\n",
      "Validation: 201it [00:01, 107.87it/s]\u001b[A\n",
      "Training: 23009it [11:20,  9.63it/s]"
     ]
    },
    {
     "name": "stdout",
     "output_type": "stream",
     "text": [
      "loss for step 23000 : 2.2911513942984207  :  Accuracy: 24.68905472636816 %\n"
     ]
    },
    {
     "name": "stderr",
     "output_type": "stream",
     "text": [
      "Training: 23496it [11:33, 39.67it/s]\n",
      "Validation: 0it [00:00, ?it/s]\u001b[A\n",
      "Validation: 9it [00:00, 83.34it/s]\u001b[A\n",
      "Validation: 21it [00:00, 101.98it/s]\u001b[A\n",
      "Validation: 34it [00:00, 111.06it/s]\u001b[A\n",
      "Validation: 46it [00:00, 112.02it/s]\u001b[A\n",
      "Validation: 58it [00:00, 107.41it/s]\u001b[A\n",
      "Validation: 70it [00:00, 109.50it/s]\u001b[A\n",
      "Validation: 81it [00:00, 92.50it/s] \u001b[A\n",
      "Validation: 91it [00:00, 83.39it/s]\u001b[A\n",
      "Validation: 102it [00:01, 88.42it/s]\u001b[A\n",
      "Validation: 112it [00:01, 84.64it/s]\u001b[A\n",
      "Validation: 121it [00:01, 80.21it/s]\u001b[A\n",
      "Validation: 130it [00:01, 76.78it/s]\u001b[A\n",
      "Validation: 143it [00:01, 88.87it/s]\u001b[A\n",
      "Validation: 156it [00:01, 97.61it/s]\u001b[A\n",
      "Validation: 167it [00:01, 97.78it/s]\u001b[A\n",
      "Validation: 177it [00:01, 85.75it/s]\u001b[A\n",
      "Validation: 188it [00:02, 89.92it/s]\u001b[A\n",
      "Validation: 201it [00:02, 92.62it/s]\u001b[A\n",
      "Training: 23506it [11:35,  8.59it/s]"
     ]
    },
    {
     "name": "stdout",
     "output_type": "stream",
     "text": [
      "loss for step 23500 : 2.2847645199714015  :  Accuracy: 26.119402985074625 %\n"
     ]
    },
    {
     "name": "stderr",
     "output_type": "stream",
     "text": [
      "Training: 23998it [11:49, 35.57it/s]\n",
      "Validation: 0it [00:00, ?it/s]\u001b[A\n",
      "Validation: 8it [00:00, 75.89it/s]\u001b[A\n",
      "Validation: 19it [00:00, 94.56it/s]\u001b[A\n",
      "Validation: 30it [00:00, 98.81it/s]\u001b[A\n",
      "Validation: 40it [00:00, 98.18it/s]\u001b[A\n",
      "Validation: 50it [00:00, 96.72it/s]\u001b[A\n",
      "Validation: 60it [00:00, 95.08it/s]\u001b[A\n",
      "Validation: 70it [00:00, 88.21it/s]\u001b[A\n",
      "Validation: 81it [00:00, 92.87it/s]\u001b[A\n",
      "Validation: 91it [00:00, 93.69it/s]\u001b[A\n",
      "Validation: 101it [00:01, 93.92it/s]\u001b[A\n",
      "Validation: 111it [00:01, 94.83it/s]\u001b[A\n",
      "Validation: 122it [00:01, 98.95it/s]\u001b[A\n",
      "Validation: 132it [00:01, 93.74it/s]\u001b[A\n",
      "Validation: 143it [00:01, 96.30it/s]\u001b[A\n",
      "Validation: 153it [00:01, 88.65it/s]\u001b[A\n",
      "Validation: 163it [00:01, 84.19it/s]\u001b[A\n",
      "Validation: 173it [00:01, 87.28it/s]\u001b[A\n",
      "Validation: 182it [00:01, 85.18it/s]\u001b[A\n",
      "Validation: 192it [00:02, 87.17it/s]\u001b[A\n",
      "Validation: 201it [00:02, 89.48it/s]\u001b[A\n",
      "Training: 24006it [11:52,  6.98it/s]"
     ]
    },
    {
     "name": "stdout",
     "output_type": "stream",
     "text": [
      "loss for step 24000 : 2.298922775989741  :  Accuracy: 24.378109452736318 %\n"
     ]
    },
    {
     "name": "stderr",
     "output_type": "stream",
     "text": [
      "Training: 24500it [12:05, 42.28it/s]\n",
      "Validation: 0it [00:00, ?it/s]\u001b[A\n",
      "Validation: 7it [00:00, 62.23it/s]\u001b[A\n",
      "Validation: 14it [00:00, 55.06it/s]\u001b[A\n",
      "Validation: 22it [00:00, 63.97it/s]\u001b[A\n",
      "Validation: 33it [00:00, 79.46it/s]\u001b[A\n",
      "Validation: 45it [00:00, 92.00it/s]\u001b[A\n",
      "Validation: 57it [00:00, 99.18it/s]\u001b[A\n",
      "Validation: 70it [00:00, 106.97it/s]\u001b[A\n",
      "Validation: 81it [00:00, 102.46it/s]\u001b[A\n",
      "Validation: 92it [00:01, 101.52it/s]\u001b[A\n",
      "Validation: 103it [00:01, 92.00it/s]\u001b[A\n",
      "Validation: 113it [00:01, 90.38it/s]\u001b[A\n",
      "Validation: 125it [00:01, 97.29it/s]\u001b[A\n",
      "Validation: 135it [00:01, 92.56it/s]\u001b[A\n",
      "Validation: 145it [00:01, 90.17it/s]\u001b[A\n",
      "Validation: 155it [00:01, 90.44it/s]\u001b[A\n",
      "Validation: 165it [00:01, 92.13it/s]\u001b[A\n",
      "Validation: 178it [00:01, 100.53it/s]\u001b[A\n",
      "Validation: 201it [00:02, 93.59it/s] \u001b[A\n",
      "Training: 24505it [12:07,  6.45it/s]"
     ]
    },
    {
     "name": "stdout",
     "output_type": "stream",
     "text": [
      "loss for step 24500 : 2.286589989021643  :  Accuracy: 26.865671641791046 %\n"
     ]
    },
    {
     "name": "stderr",
     "output_type": "stream",
     "text": [
      "Training: 24997it [12:20, 37.20it/s]\n",
      "Validation: 0it [00:00, ?it/s]\u001b[A\n",
      "Validation: 8it [00:00, 78.67it/s]\u001b[A\n",
      "Validation: 20it [00:00, 102.27it/s]\u001b[A\n",
      "Validation: 32it [00:00, 109.94it/s]\u001b[A\n",
      "Validation: 44it [00:00, 96.66it/s] \u001b[A\n",
      "Validation: 54it [00:00, 94.68it/s]\u001b[A\n",
      "Validation: 64it [00:00, 83.72it/s]\u001b[A\n",
      "Validation: 73it [00:00, 72.68it/s]\u001b[A\n",
      "Validation: 81it [00:00, 73.75it/s]\u001b[A\n",
      "Validation: 89it [00:01, 74.80it/s]\u001b[A\n",
      "Validation: 98it [00:01, 78.46it/s]\u001b[A\n",
      "Validation: 108it [00:01, 84.39it/s]\u001b[A\n",
      "Validation: 117it [00:01, 84.79it/s]\u001b[A\n",
      "Validation: 126it [00:01, 80.27it/s]\u001b[A\n",
      "Validation: 135it [00:01, 78.90it/s]\u001b[A\n",
      "Validation: 143it [00:01, 67.37it/s]\u001b[A\n",
      "Validation: 153it [00:01, 73.48it/s]\u001b[A\n",
      "Validation: 161it [00:02, 74.93it/s]\u001b[A\n",
      "Validation: 170it [00:02, 77.47it/s]\u001b[A\n",
      "Validation: 184it [00:02, 93.21it/s]\u001b[A\n",
      "Validation: 201it [00:02, 84.50it/s]\u001b[A\n",
      "Training: 25006it [12:23,  7.57it/s]"
     ]
    },
    {
     "name": "stdout",
     "output_type": "stream",
     "text": [
      "loss for step 25000 : 2.293109305462434  :  Accuracy: 24.440298507462686 %\n"
     ]
    },
    {
     "name": "stderr",
     "output_type": "stream",
     "text": [
      "Training: 25498it [12:35, 41.77it/s]\n",
      "Validation: 0it [00:00, ?it/s]\u001b[A\n",
      "Validation: 7it [00:00, 65.00it/s]\u001b[A\n",
      "Validation: 19it [00:00, 94.95it/s]\u001b[A\n",
      "Validation: 31it [00:00, 105.92it/s]\u001b[A\n",
      "Validation: 43it [00:00, 110.26it/s]\u001b[A\n",
      "Validation: 55it [00:00, 106.93it/s]\u001b[A\n",
      "Validation: 66it [00:00, 103.28it/s]\u001b[A\n",
      "Validation: 78it [00:00, 107.71it/s]\u001b[A\n",
      "Validation: 90it [00:00, 110.87it/s]\u001b[A\n",
      "Validation: 102it [00:00, 113.26it/s]\u001b[A\n",
      "Validation: 114it [00:01, 114.85it/s]\u001b[A\n",
      "Validation: 126it [00:01, 114.31it/s]\u001b[A\n",
      "Validation: 138it [00:01, 115.72it/s]\u001b[A\n",
      "Validation: 150it [00:01, 116.27it/s]\u001b[A\n",
      "Validation: 162it [00:01, 115.37it/s]\u001b[A\n",
      "Validation: 174it [00:01, 95.85it/s] \u001b[A\n",
      "Validation: 185it [00:01, 93.05it/s]\u001b[A\n",
      "Validation: 201it [00:01, 104.95it/s][A\n",
      "Training: 25508it [12:37,  9.29it/s]"
     ]
    },
    {
     "name": "stdout",
     "output_type": "stream",
     "text": [
      "loss for step 25500 : 2.275149671592523  :  Accuracy: 27.300995024875622 %\n"
     ]
    },
    {
     "name": "stderr",
     "output_type": "stream",
     "text": [
      "Training: 26000it [12:50, 39.48it/s]\n",
      "Validation: 0it [00:00, ?it/s]\u001b[A\n",
      "Validation: 7it [00:00, 64.80it/s]\u001b[A\n",
      "Validation: 17it [00:00, 80.57it/s]\u001b[A\n",
      "Validation: 26it [00:00, 69.12it/s]\u001b[A\n",
      "Validation: 35it [00:00, 75.32it/s]\u001b[A\n",
      "Validation: 45it [00:00, 83.08it/s]\u001b[A\n",
      "Validation: 56it [00:00, 91.47it/s]\u001b[A\n",
      "Validation: 67it [00:00, 95.02it/s]\u001b[A\n",
      "Validation: 79it [00:00, 101.33it/s]\u001b[A\n",
      "Validation: 92it [00:00, 108.06it/s]\u001b[A\n",
      "Validation: 105it [00:01, 113.19it/s]\u001b[A\n",
      "Validation: 117it [00:01, 103.06it/s]\u001b[A\n",
      "Validation: 128it [00:01, 87.30it/s] \u001b[A\n",
      "Validation: 138it [00:01, 88.71it/s]\u001b[A\n",
      "Validation: 148it [00:01, 90.29it/s]\u001b[A\n",
      "Validation: 158it [00:01, 90.79it/s]\u001b[A\n",
      "Validation: 168it [00:01, 91.33it/s]\u001b[A\n",
      "Validation: 178it [00:01, 93.53it/s]\u001b[A\n",
      "Validation: 201it [00:02, 93.64it/s] \u001b[A\n",
      "Training: 26005it [12:52,  6.43it/s]"
     ]
    },
    {
     "name": "stdout",
     "output_type": "stream",
     "text": [
      "loss for step 26000 : 2.2934231141313393  :  Accuracy: 25.559701492537314 %\n"
     ]
    },
    {
     "name": "stderr",
     "output_type": "stream",
     "text": [
      "Training: 26499it [13:04, 40.79it/s]\n",
      "Validation: 0it [00:00, ?it/s]\u001b[A\n",
      "Validation: 7it [00:00, 64.50it/s]\u001b[A\n",
      "Validation: 19it [00:00, 93.70it/s]\u001b[A\n",
      "Validation: 29it [00:00, 95.18it/s]\u001b[A\n",
      "Validation: 40it [00:00, 97.83it/s]\u001b[A\n",
      "Validation: 50it [00:00, 91.19it/s]\u001b[A\n",
      "Validation: 61it [00:00, 95.37it/s]\u001b[A\n",
      "Validation: 73it [00:00, 101.30it/s]\u001b[A\n",
      "Validation: 85it [00:00, 106.02it/s]\u001b[A\n",
      "Validation: 98it [00:00, 110.96it/s]\u001b[A\n",
      "Validation: 110it [00:01, 113.61it/s]\u001b[A\n",
      "Validation: 122it [00:01, 115.24it/s]\u001b[A\n",
      "Validation: 135it [00:01, 117.17it/s]\u001b[A\n",
      "Validation: 148it [00:01, 118.60it/s]\u001b[A\n",
      "Validation: 161it [00:01, 120.21it/s]\u001b[A\n",
      "Validation: 174it [00:01, 116.69it/s]\u001b[A\n",
      "Validation: 186it [00:01, 105.92it/s]\u001b[A\n",
      "Validation: 201it [00:01, 105.76it/s]\u001b[A\n",
      "Training: 26508it [13:06,  9.03it/s]"
     ]
    },
    {
     "name": "stdout",
     "output_type": "stream",
     "text": [
      "loss for step 26500 : 2.2847118502232564  :  Accuracy: 26.30597014925373 %\n"
     ]
    },
    {
     "name": "stderr",
     "output_type": "stream",
     "text": [
      "Training: 26998it [13:19, 34.97it/s]\n",
      "Validation: 0it [00:00, ?it/s]\u001b[A\n",
      "Validation: 8it [00:00, 74.85it/s]\u001b[A\n",
      "Validation: 19it [00:00, 92.64it/s]\u001b[A\n",
      "Validation: 31it [00:00, 103.12it/s]\u001b[A\n",
      "Validation: 43it [00:00, 108.73it/s]\u001b[A\n",
      "Validation: 56it [00:00, 112.06it/s]\u001b[A\n",
      "Validation: 69it [00:00, 115.16it/s]\u001b[A\n",
      "Validation: 81it [00:00, 115.76it/s]\u001b[A\n",
      "Validation: 93it [00:00, 91.68it/s] \u001b[A\n",
      "Validation: 104it [00:01, 95.20it/s]\u001b[A\n",
      "Validation: 116it [00:01, 100.77it/s]\u001b[A\n",
      "Validation: 128it [00:01, 105.62it/s]\u001b[A\n",
      "Validation: 140it [00:01, 109.45it/s]\u001b[A\n",
      "Validation: 152it [00:01, 112.22it/s]\u001b[A\n",
      "Validation: 164it [00:01, 104.39it/s]\u001b[A\n",
      "Validation: 175it [00:01, 96.41it/s] \u001b[A\n",
      "Validation: 185it [00:01, 88.58it/s]\u001b[A\n",
      "Validation: 201it [00:02, 99.83it/s]\u001b[A\n",
      "Training: 27007it [13:21,  8.34it/s]"
     ]
    },
    {
     "name": "stdout",
     "output_type": "stream",
     "text": [
      "loss for step 27000 : 2.282869817605659  :  Accuracy: 25.99502487562189 %\n"
     ]
    },
    {
     "name": "stderr",
     "output_type": "stream",
     "text": [
      "Training: 27497it [13:34, 39.53it/s]\n",
      "Validation: 0it [00:00, ?it/s]\u001b[A\n",
      "Validation: 7it [00:00, 69.09it/s]\u001b[A\n",
      "Validation: 19it [00:00, 97.25it/s]\u001b[A\n",
      "Validation: 29it [00:00, 96.16it/s]\u001b[A\n",
      "Validation: 39it [00:00, 93.09it/s]\u001b[A\n",
      "Validation: 52it [00:00, 104.11it/s]\u001b[A\n",
      "Validation: 65it [00:00, 111.11it/s]\u001b[A\n",
      "Validation: 78it [00:00, 114.89it/s]\u001b[A\n",
      "Validation: 90it [00:00, 116.06it/s]\u001b[A\n",
      "Validation: 102it [00:00, 111.46it/s]\u001b[A\n",
      "Validation: 114it [00:01, 105.48it/s]\u001b[A\n",
      "Validation: 125it [00:01, 100.62it/s]\u001b[A\n",
      "Validation: 136it [00:01, 97.30it/s] \u001b[A\n",
      "Validation: 148it [00:01, 102.39it/s]\u001b[A\n",
      "Validation: 160it [00:01, 105.89it/s]\u001b[A\n",
      "Validation: 171it [00:01, 101.94it/s]\u001b[A\n",
      "Validation: 183it [00:01, 104.96it/s]\u001b[A\n",
      "Validation: 201it [00:01, 103.00it/s]\u001b[A\n",
      "Training: 27507it [13:36,  9.26it/s]"
     ]
    },
    {
     "name": "stdout",
     "output_type": "stream",
     "text": [
      "loss for step 27500 : 2.2984922400754484  :  Accuracy: 24.378109452736318 %\n"
     ]
    },
    {
     "name": "stderr",
     "output_type": "stream",
     "text": [
      "Training: 27998it [13:49, 33.86it/s]\n",
      "Validation: 0it [00:00, ?it/s]\u001b[A\n",
      "Validation: 5it [00:00, 44.65it/s]\u001b[A\n",
      "Validation: 12it [00:00, 54.95it/s]\u001b[A\n",
      "Validation: 19it [00:00, 59.43it/s]\u001b[A\n",
      "Validation: 26it [00:00, 60.85it/s]\u001b[A\n",
      "Validation: 34it [00:00, 65.04it/s]\u001b[A\n",
      "Validation: 45it [00:00, 77.61it/s]\u001b[A\n",
      "Validation: 57it [00:00, 89.74it/s]\u001b[A\n",
      "Validation: 71it [00:00, 103.15it/s]\u001b[A\n",
      "Validation: 84it [00:00, 110.83it/s]\u001b[A\n",
      "Validation: 97it [00:01, 116.21it/s]\u001b[A\n",
      "Validation: 110it [00:01, 117.83it/s]\u001b[A\n",
      "Validation: 122it [00:01, 115.15it/s]\u001b[A\n",
      "Validation: 134it [00:01, 113.09it/s]\u001b[A\n",
      "Validation: 146it [00:01, 110.38it/s]\u001b[A\n",
      "Validation: 159it [00:01, 113.59it/s]\u001b[A\n",
      "Validation: 171it [00:01, 102.34it/s]\u001b[A\n",
      "Validation: 182it [00:01, 96.15it/s] \u001b[A\n",
      "Validation: 201it [00:02, 95.94it/s]\u001b[A\n",
      "Training: 28007it [13:52,  7.78it/s]"
     ]
    },
    {
     "name": "stdout",
     "output_type": "stream",
     "text": [
      "loss for step 28000 : 2.281029054774574  :  Accuracy: 26.803482587064675 %\n"
     ]
    },
    {
     "name": "stderr",
     "output_type": "stream",
     "text": [
      "Training: 28498it [14:05, 42.98it/s]\n",
      "Validation: 0it [00:00, ?it/s]\u001b[A\n",
      "Validation: 9it [00:00, 89.30it/s]\u001b[A\n",
      "Validation: 18it [00:00, 78.92it/s]\u001b[A\n",
      "Validation: 31it [00:00, 99.04it/s]\u001b[A\n",
      "Validation: 44it [00:00, 109.41it/s]\u001b[A\n",
      "Validation: 57it [00:00, 115.62it/s]\u001b[A\n",
      "Validation: 70it [00:00, 118.53it/s]\u001b[A\n",
      "Validation: 83it [00:00, 120.14it/s]\u001b[A\n",
      "Validation: 96it [00:00, 111.70it/s]\u001b[A\n",
      "Validation: 108it [00:00, 110.15it/s]\u001b[A\n",
      "Validation: 120it [00:01, 112.59it/s]\u001b[A\n",
      "Validation: 133it [00:01, 116.66it/s]\u001b[A\n",
      "Validation: 146it [00:01, 119.24it/s]\u001b[A\n",
      "Validation: 159it [00:01, 121.03it/s]\u001b[A\n",
      "Validation: 172it [00:01, 120.03it/s]\u001b[A\n",
      "Validation: 185it [00:01, 121.74it/s]\u001b[A\n",
      "Validation: 201it [00:01, 111.75it/s]\u001b[A\n",
      "Training: 28507it [14:07,  9.26it/s]"
     ]
    },
    {
     "name": "stdout",
     "output_type": "stream",
     "text": [
      "loss for step 28500 : 2.300045171187292  :  Accuracy: 24.378109452736318 %\n"
     ]
    },
    {
     "name": "stderr",
     "output_type": "stream",
     "text": [
      "Training: 28997it [14:20, 32.24it/s]\n",
      "Validation: 0it [00:00, ?it/s]\u001b[A\n",
      "Validation: 7it [00:00, 66.88it/s]\u001b[A\n",
      "Validation: 16it [00:00, 78.41it/s]\u001b[A\n",
      "Validation: 25it [00:00, 82.78it/s]\u001b[A\n",
      "Validation: 35it [00:00, 88.51it/s]\u001b[A\n",
      "Validation: 44it [00:00, 86.29it/s]\u001b[A\n",
      "Validation: 54it [00:00, 89.50it/s]\u001b[A\n",
      "Validation: 65it [00:00, 94.60it/s]\u001b[A\n",
      "Validation: 75it [00:00, 81.59it/s]\u001b[A\n",
      "Validation: 84it [00:01, 79.53it/s]\u001b[A\n",
      "Validation: 96it [00:01, 90.13it/s]\u001b[A\n",
      "Validation: 108it [00:01, 97.53it/s]\u001b[A\n",
      "Validation: 120it [00:01, 101.87it/s]\u001b[A\n",
      "Validation: 132it [00:01, 104.35it/s]\u001b[A\n",
      "Validation: 143it [00:01, 104.62it/s]\u001b[A\n",
      "Validation: 155it [00:01, 106.78it/s]\u001b[A\n",
      "Validation: 166it [00:01, 104.95it/s]\u001b[A\n",
      "Validation: 177it [00:01, 90.18it/s] \u001b[A\n",
      "Validation: 187it [00:02, 87.50it/s]\u001b[A\n",
      "Validation: 201it [00:02, 91.88it/s]\u001b[A\n",
      "Training: 29005it [14:22,  6.88it/s]"
     ]
    },
    {
     "name": "stdout",
     "output_type": "stream",
     "text": [
      "loss for step 29000 : 2.2961766144529503  :  Accuracy: 24.440298507462686 %\n"
     ]
    },
    {
     "name": "stderr",
     "output_type": "stream",
     "text": [
      "Training: 29497it [14:36, 43.72it/s]\n",
      "Validation: 0it [00:00, ?it/s]\u001b[A\n",
      "Validation: 9it [00:00, 88.36it/s]\u001b[A\n",
      "Validation: 21it [00:00, 105.59it/s]\u001b[A\n",
      "Validation: 32it [00:00, 77.36it/s] \u001b[A\n",
      "Validation: 41it [00:00, 76.81it/s]\u001b[A\n",
      "Validation: 52it [00:00, 85.49it/s]\u001b[A\n",
      "Validation: 65it [00:00, 96.54it/s]\u001b[A\n",
      "Validation: 78it [00:00, 104.23it/s]\u001b[A\n",
      "Validation: 89it [00:00, 102.37it/s]\u001b[A\n",
      "Validation: 102it [00:01, 108.67it/s]\u001b[A\n",
      "Validation: 115it [00:01, 113.20it/s]\u001b[A\n",
      "Validation: 127it [00:01, 108.94it/s]\u001b[A\n",
      "Validation: 139it [00:01, 109.81it/s]\u001b[A\n",
      "Validation: 151it [00:01, 98.67it/s] \u001b[A\n",
      "Validation: 162it [00:01, 93.77it/s]\u001b[A\n",
      "Validation: 173it [00:01, 97.82it/s]\u001b[A\n",
      "Validation: 186it [00:01, 104.60it/s]\u001b[A\n",
      "Validation: 201it [00:02, 100.11it/s]\u001b[A\n",
      "Training: 29507it [14:38,  9.31it/s]"
     ]
    },
    {
     "name": "stdout",
     "output_type": "stream",
     "text": [
      "loss for step 29500 : 2.2814788005838347  :  Accuracy: 26.803482587064675 %\n"
     ]
    },
    {
     "name": "stderr",
     "output_type": "stream",
     "text": [
      "Training: 29999it [14:51, 39.04it/s]\n",
      "Validation: 0it [00:00, ?it/s]\u001b[A\n",
      "Validation: 8it [00:00, 77.40it/s]\u001b[A\n",
      "Validation: 19it [00:00, 94.48it/s]\u001b[A\n",
      "Validation: 31it [00:00, 103.49it/s]\u001b[A\n",
      "Validation: 43it [00:00, 108.24it/s]\u001b[A\n",
      "Validation: 54it [00:00, 97.12it/s] \u001b[A\n",
      "Validation: 64it [00:00, 96.66it/s]\u001b[A\n",
      "Validation: 74it [00:00, 96.87it/s]\u001b[A\n",
      "Validation: 85it [00:00, 99.18it/s]\u001b[A\n",
      "Validation: 95it [00:00, 95.35it/s]\u001b[A\n",
      "Validation: 106it [00:01, 98.66it/s]\u001b[A\n",
      "Validation: 116it [00:01, 98.75it/s]\u001b[A\n",
      "Validation: 126it [00:01, 97.23it/s]\u001b[A\n",
      "Validation: 136it [00:01, 93.57it/s]\u001b[A\n",
      "Validation: 147it [00:01, 96.76it/s]\u001b[A\n",
      "Validation: 157it [00:01, 83.96it/s]\u001b[A\n",
      "Validation: 167it [00:01, 86.95it/s]\u001b[A\n",
      "Validation: 179it [00:01, 94.69it/s]\u001b[A\n",
      "Validation: 201it [00:02, 96.32it/s]\u001b[A\n",
      "Training: 30007it [14:54,  7.78it/s]"
     ]
    },
    {
     "name": "stdout",
     "output_type": "stream",
     "text": [
      "loss for step 30000 : 2.287444108161167  :  Accuracy: 25.621890547263682 %\n"
     ]
    },
    {
     "name": "stderr",
     "output_type": "stream",
     "text": [
      "Training: 30497it [15:07, 37.69it/s]\n",
      "Validation: 0it [00:00, ?it/s]\u001b[A\n",
      "Validation: 8it [00:00, 74.92it/s]\u001b[A\n",
      "Validation: 20it [00:00, 98.09it/s]\u001b[A\n",
      "Validation: 31it [00:00, 99.13it/s]\u001b[A\n",
      "Validation: 42it [00:00, 102.40it/s]\u001b[A\n",
      "Validation: 54it [00:00, 106.74it/s]\u001b[A\n",
      "Validation: 67it [00:00, 111.95it/s]\u001b[A\n",
      "Validation: 80it [00:00, 115.54it/s]\u001b[A\n",
      "Validation: 92it [00:00, 115.42it/s]\u001b[A\n",
      "Validation: 104it [00:00, 116.32it/s]\u001b[A\n",
      "Validation: 116it [00:01, 113.31it/s]\u001b[A\n",
      "Validation: 129it [00:01, 115.37it/s]\u001b[A\n",
      "Validation: 141it [00:01, 115.44it/s]\u001b[A\n",
      "Validation: 153it [00:01, 109.71it/s]\u001b[A\n",
      "Validation: 165it [00:01, 98.65it/s] \u001b[A\n",
      "Validation: 176it [00:01, 100.73it/s]\u001b[A\n",
      "Validation: 187it [00:01, 95.29it/s] \u001b[A\n",
      "Validation: 201it [00:01, 101.72it/s][A\n",
      "Training: 30505it [15:10,  7.81it/s]"
     ]
    },
    {
     "name": "stdout",
     "output_type": "stream",
     "text": [
      "loss for step 30500 : 2.301318758162693  :  Accuracy: 23.383084577114428 %\n"
     ]
    },
    {
     "name": "stderr",
     "output_type": "stream",
     "text": [
      "Training: 30998it [15:23, 43.06it/s]\n",
      "Validation: 0it [00:00, ?it/s]\u001b[A\n",
      "Validation: 7it [00:00, 68.37it/s]\u001b[A\n",
      "Validation: 18it [00:00, 89.52it/s]\u001b[A\n",
      "Validation: 28it [00:00, 91.49it/s]\u001b[A\n",
      "Validation: 40it [00:00, 101.07it/s]\u001b[A\n",
      "Validation: 53it [00:00, 109.20it/s]\u001b[A\n",
      "Validation: 66it [00:00, 114.23it/s]\u001b[A\n",
      "Validation: 78it [00:00, 110.32it/s]\u001b[A\n",
      "Validation: 90it [00:00, 99.56it/s] \u001b[A\n",
      "Validation: 101it [00:00, 101.94it/s]\u001b[A\n",
      "Validation: 113it [00:01, 106.95it/s]\u001b[A\n",
      "Validation: 125it [00:01, 109.46it/s]\u001b[A\n",
      "Validation: 137it [00:01, 112.40it/s]\u001b[A\n",
      "Validation: 150it [00:01, 115.32it/s]\u001b[A\n",
      "Validation: 163it [00:01, 117.64it/s]\u001b[A\n",
      "Validation: 176it [00:01, 119.42it/s]\u001b[A\n",
      "Validation: 201it [00:01, 109.56it/s]\u001b[A\n",
      "Training: 31007it [15:25,  9.29it/s]"
     ]
    },
    {
     "name": "stdout",
     "output_type": "stream",
     "text": [
      "loss for step 31000 : 2.2923426699282516  :  Accuracy: 25.37313432835821 %\n"
     ]
    },
    {
     "name": "stderr",
     "output_type": "stream",
     "text": [
      "Training: 31500it [15:38, 35.37it/s]\n",
      "Validation: 0it [00:00, ?it/s]\u001b[A\n",
      "Validation: 7it [00:00, 64.67it/s]\u001b[A\n",
      "Validation: 19it [00:00, 93.00it/s]\u001b[A\n",
      "Validation: 32it [00:00, 106.50it/s]\u001b[A\n",
      "Validation: 43it [00:00, 99.04it/s] \u001b[A\n",
      "Validation: 53it [00:00, 95.37it/s]\u001b[A\n",
      "Validation: 63it [00:00, 93.24it/s]\u001b[A\n",
      "Validation: 74it [00:00, 97.19it/s]\u001b[A\n",
      "Validation: 85it [00:00, 100.15it/s]\u001b[A\n",
      "Validation: 96it [00:01, 95.38it/s] \u001b[A\n",
      "Validation: 108it [00:01, 101.83it/s]\u001b[A\n",
      "Validation: 120it [00:01, 106.38it/s]\u001b[A\n",
      "Validation: 131it [00:01, 105.03it/s]\u001b[A\n",
      "Validation: 143it [00:01, 108.26it/s]\u001b[A\n",
      "Validation: 156it [00:01, 113.09it/s]\u001b[A\n",
      "Validation: 168it [00:01, 114.26it/s]\u001b[A\n",
      "Validation: 180it [00:01, 104.94it/s]\u001b[A\n",
      "Validation: 201it [00:02, 99.87it/s] \u001b[A\n",
      "Training: 31507it [15:40,  7.59it/s]"
     ]
    },
    {
     "name": "stdout",
     "output_type": "stream",
     "text": [
      "loss for step 31500 : 2.289485606388073  :  Accuracy: 25.68407960199005 %\n"
     ]
    },
    {
     "name": "stderr",
     "output_type": "stream",
     "text": [
      "Training: 31998it [15:53, 39.93it/s]\n",
      "Validation: 0it [00:00, ?it/s]\u001b[A\n",
      "Validation: 5it [00:00, 45.04it/s]\u001b[A\n",
      "Validation: 14it [00:00, 66.96it/s]\u001b[A\n",
      "Validation: 24it [00:00, 79.48it/s]\u001b[A\n",
      "Validation: 37it [00:00, 98.01it/s]\u001b[A\n",
      "Validation: 47it [00:00, 97.74it/s]\u001b[A\n",
      "Validation: 60it [00:00, 106.62it/s]\u001b[A\n",
      "Validation: 73it [00:00, 112.44it/s]\u001b[A\n",
      "Validation: 85it [00:00, 111.26it/s]\u001b[A\n",
      "Validation: 98it [00:00, 114.87it/s]\u001b[A\n",
      "Validation: 110it [00:01, 99.92it/s]\u001b[A\n",
      "Validation: 121it [00:01, 102.58it/s]\u001b[A\n",
      "Validation: 133it [00:01, 107.24it/s]\u001b[A\n",
      "Validation: 146it [00:01, 112.31it/s]\u001b[A\n",
      "Validation: 159it [00:01, 115.72it/s]\u001b[A\n",
      "Validation: 172it [00:01, 117.89it/s]\u001b[A\n",
      "Validation: 184it [00:01, 106.87it/s]\u001b[A\n",
      "Validation: 201it [00:01, 103.46it/s]\u001b[A\n",
      "Training: 32005it [15:55,  7.60it/s]"
     ]
    },
    {
     "name": "stdout",
     "output_type": "stream",
     "text": [
      "loss for step 32000 : 2.298360536347574  :  Accuracy: 24.440298507462686 %\n"
     ]
    },
    {
     "name": "stderr",
     "output_type": "stream",
     "text": [
      "Training: 32499it [16:08, 37.27it/s]\n",
      "Validation: 0it [00:00, ?it/s]\u001b[A\n",
      "Validation: 9it [00:00, 85.86it/s]\u001b[A\n",
      "Validation: 22it [00:00, 108.19it/s]\u001b[A\n",
      "Validation: 34it [00:00, 112.47it/s]\u001b[A\n",
      "Validation: 46it [00:00, 106.74it/s]\u001b[A\n",
      "Validation: 58it [00:00, 108.87it/s]\u001b[A\n",
      "Validation: 70it [00:00, 111.26it/s]\u001b[A\n",
      "Validation: 83it [00:00, 114.89it/s]\u001b[A\n",
      "Validation: 96it [00:00, 118.27it/s]\u001b[A\n",
      "Validation: 109it [00:00, 120.31it/s]\u001b[A\n",
      "Validation: 122it [00:01, 120.58it/s]\u001b[A\n",
      "Validation: 135it [00:01, 106.91it/s]\u001b[A\n",
      "Validation: 146it [00:01, 91.22it/s] \u001b[A\n",
      "Validation: 156it [00:01, 84.28it/s]\u001b[A\n",
      "Validation: 165it [00:01, 84.06it/s]\u001b[A\n",
      "Validation: 174it [00:01, 85.45it/s]\u001b[A\n",
      "Validation: 183it [00:01, 85.88it/s]\u001b[A\n",
      "Validation: 201it [00:02, 99.36it/s]\u001b[A\n",
      "Training: 32508it [16:10,  8.49it/s]"
     ]
    },
    {
     "name": "stdout",
     "output_type": "stream",
     "text": [
      "loss for step 32500 : 2.284369665591871  :  Accuracy: 26.554726368159205 %\n"
     ]
    },
    {
     "name": "stderr",
     "output_type": "stream",
     "text": [
      "Training: 32998it [16:22, 43.81it/s]\n",
      "Validation: 0it [00:00, ?it/s]\u001b[A\n",
      "Validation: 7it [00:00, 67.35it/s]\u001b[A\n",
      "Validation: 18it [00:00, 91.70it/s]\u001b[A\n",
      "Validation: 31it [00:00, 105.82it/s]\u001b[A\n",
      "Validation: 42it [00:00, 105.49it/s]\u001b[A\n",
      "Validation: 53it [00:00, 97.51it/s] \u001b[A\n",
      "Validation: 63it [00:00, 96.43it/s]\u001b[A\n",
      "Validation: 75it [00:00, 102.36it/s]\u001b[A\n",
      "Validation: 87it [00:00, 105.97it/s]\u001b[A\n",
      "Validation: 99it [00:00, 107.96it/s]\u001b[A\n",
      "Validation: 110it [00:01, 102.29it/s]\u001b[A\n",
      "Validation: 121it [00:01, 103.73it/s]\u001b[A\n",
      "Validation: 134it [00:01, 109.25it/s]\u001b[A\n",
      "Validation: 145it [00:01, 106.59it/s]\u001b[A\n",
      "Validation: 158it [00:01, 111.33it/s]\u001b[A\n",
      "Validation: 171it [00:01, 114.98it/s]\u001b[A\n",
      "Validation: 183it [00:01, 115.73it/s]\u001b[A\n",
      "Validation: 201it [00:01, 106.94it/s]\u001b[A\n",
      "Training: 33007it [16:24,  9.21it/s]"
     ]
    },
    {
     "name": "stdout",
     "output_type": "stream",
     "text": [
      "loss for step 33000 : 2.3062592187331092  :  Accuracy: 23.00995024875622 %\n"
     ]
    },
    {
     "name": "stderr",
     "output_type": "stream",
     "text": [
      "Training: 33497it [16:37, 36.28it/s]\n",
      "Validation: 0it [00:00, ?it/s]\u001b[A\n",
      "Validation: 8it [00:00, 74.20it/s]\u001b[A\n",
      "Validation: 18it [00:00, 88.37it/s]\u001b[A\n",
      "Validation: 27it [00:00, 87.51it/s]\u001b[A\n",
      "Validation: 39it [00:00, 97.67it/s]\u001b[A\n",
      "Validation: 51it [00:00, 105.33it/s]\u001b[A\n",
      "Validation: 63it [00:00, 109.14it/s]\u001b[A\n",
      "Validation: 74it [00:00, 107.99it/s]\u001b[A\n",
      "Validation: 85it [00:00, 102.33it/s]\u001b[A\n",
      "Validation: 96it [00:00, 102.41it/s]\u001b[A\n",
      "Validation: 108it [00:01, 107.09it/s]\u001b[A\n",
      "Validation: 121it [00:01, 111.38it/s]\u001b[A\n",
      "Validation: 133it [00:01, 109.47it/s]\u001b[A\n",
      "Validation: 144it [00:01, 96.37it/s] \u001b[A\n",
      "Validation: 157it [00:01, 104.10it/s]\u001b[A\n",
      "Validation: 170it [00:01, 111.03it/s]\u001b[A\n",
      "Validation: 183it [00:01, 115.77it/s]\u001b[A\n",
      "Validation: 201it [00:01, 104.15it/s]\u001b[A\n",
      "Training: 33505it [16:39,  7.82it/s]"
     ]
    },
    {
     "name": "stdout",
     "output_type": "stream",
     "text": [
      "loss for step 33500 : 2.3026001963449354  :  Accuracy: 24.502487562189053 %\n"
     ]
    },
    {
     "name": "stderr",
     "output_type": "stream",
     "text": [
      "Training: 33998it [16:51, 42.43it/s]\n",
      "Validation: 0it [00:00, ?it/s]\u001b[A\n",
      "Validation: 7it [00:00, 67.79it/s]\u001b[A\n",
      "Validation: 19it [00:00, 97.64it/s]\u001b[A\n",
      "Validation: 32it [00:00, 108.78it/s]\u001b[A\n",
      "Validation: 43it [00:00, 104.98it/s]\u001b[A\n",
      "Validation: 54it [00:00, 105.68it/s]\u001b[A\n",
      "Validation: 66it [00:00, 110.29it/s]\u001b[A\n",
      "Validation: 78it [00:00, 110.02it/s]\u001b[A\n",
      "Validation: 90it [00:00, 112.63it/s]\u001b[A\n",
      "Validation: 102it [00:00, 107.18it/s]\u001b[A\n",
      "Validation: 113it [00:01, 102.74it/s]\u001b[A\n",
      "Validation: 124it [00:01, 99.95it/s] \u001b[A\n",
      "Validation: 136it [00:01, 104.21it/s]\u001b[A\n",
      "Validation: 147it [00:01, 95.54it/s] \u001b[A\n",
      "Validation: 157it [00:01, 90.29it/s]\u001b[A\n",
      "Validation: 169it [00:01, 96.34it/s]\u001b[A\n",
      "Validation: 180it [00:01, 98.59it/s]\u001b[A\n",
      "Validation: 201it [00:01, 101.98it/s]\u001b[A\n",
      "Training: 34008it [16:54,  9.33it/s]"
     ]
    },
    {
     "name": "stdout",
     "output_type": "stream",
     "text": [
      "loss for step 34000 : 2.2825434872167025  :  Accuracy: 27.487562189054728 %\n"
     ]
    },
    {
     "name": "stderr",
     "output_type": "stream",
     "text": [
      "Training: 34500it [17:06, 40.93it/s]\n",
      "Validation: 0it [00:00, ?it/s]\u001b[A\n",
      "Validation: 8it [00:00, 78.93it/s]\u001b[A\n",
      "Validation: 20it [00:00, 102.78it/s]\u001b[A\n",
      "Validation: 32it [00:00, 109.26it/s]\u001b[A\n",
      "Validation: 45it [00:00, 113.80it/s]\u001b[A\n",
      "Validation: 58it [00:00, 116.40it/s]\u001b[A\n",
      "Validation: 71it [00:00, 118.67it/s]\u001b[A\n",
      "Validation: 83it [00:00, 109.10it/s]\u001b[A\n",
      "Validation: 96it [00:00, 113.44it/s]\u001b[A\n",
      "Validation: 108it [00:00, 110.56it/s]\u001b[A\n",
      "Validation: 120it [00:01, 106.13it/s]\u001b[A\n",
      "Validation: 133it [00:01, 111.55it/s]\u001b[A\n",
      "Validation: 146it [00:01, 115.42it/s]\u001b[A\n",
      "Validation: 158it [00:01, 106.14it/s]\u001b[A\n",
      "Validation: 169it [00:01, 104.11it/s]\u001b[A\n",
      "Validation: 180it [00:01, 98.74it/s] \u001b[A\n",
      "Validation: 201it [00:01, 107.15it/s]\u001b[A\n",
      "Training: 34505it [17:08,  7.08it/s]"
     ]
    },
    {
     "name": "stdout",
     "output_type": "stream",
     "text": [
      "loss for step 34500 : 2.2878019068371596  :  Accuracy: 25.559701492537314 %\n"
     ]
    },
    {
     "name": "stderr",
     "output_type": "stream",
     "text": [
      "Training: 35000it [17:20, 41.55it/s]\n",
      "Validation: 0it [00:00, ?it/s]\u001b[A\n",
      "Validation: 9it [00:00, 84.55it/s]\u001b[A\n",
      "Validation: 21it [00:00, 102.84it/s]\u001b[A\n",
      "Validation: 33it [00:00, 109.03it/s]\u001b[A\n",
      "Validation: 44it [00:00, 107.05it/s]\u001b[A\n",
      "Validation: 55it [00:00, 107.84it/s]\u001b[A\n",
      "Validation: 66it [00:00, 105.82it/s]\u001b[A\n",
      "Validation: 77it [00:00, 103.90it/s]\u001b[A\n",
      "Validation: 88it [00:00, 103.20it/s]\u001b[A\n",
      "Validation: 99it [00:00, 102.17it/s]\u001b[A\n",
      "Validation: 110it [00:01, 103.49it/s]\u001b[A\n",
      "Validation: 121it [00:01, 102.18it/s]\u001b[A\n",
      "Validation: 132it [00:01, 103.03it/s]\u001b[A\n",
      "Validation: 143it [00:01, 102.17it/s]\u001b[A\n",
      "Validation: 154it [00:01, 99.04it/s] \u001b[A\n",
      "Validation: 164it [00:01, 93.42it/s]\u001b[A\n",
      "Validation: 176it [00:01, 100.16it/s]\u001b[A\n",
      "Validation: 201it [00:01, 103.94it/s]\u001b[A\n",
      "Training: 35009it [17:23,  8.94it/s]"
     ]
    },
    {
     "name": "stdout",
     "output_type": "stream",
     "text": [
      "loss for step 35000 : 2.3007273721457713  :  Accuracy: 24.067164179104477 %\n"
     ]
    },
    {
     "name": "stderr",
     "output_type": "stream",
     "text": [
      "Training: 35498it [17:35, 40.33it/s]\n",
      "Validation: 0it [00:00, ?it/s]\u001b[A\n",
      "Validation: 4it [00:00, 38.43it/s]\u001b[A\n",
      "Validation: 12it [00:00, 62.22it/s]\u001b[A\n",
      "Validation: 24it [00:00, 88.01it/s]\u001b[A\n",
      "Validation: 36it [00:00, 99.24it/s]\u001b[A\n",
      "Validation: 48it [00:00, 104.28it/s]\u001b[A\n",
      "Validation: 60it [00:00, 108.65it/s]\u001b[A\n",
      "Validation: 71it [00:00, 103.96it/s]\u001b[A\n",
      "Validation: 82it [00:00, 104.77it/s]\u001b[A\n",
      "Validation: 94it [00:00, 108.59it/s]\u001b[A\n",
      "Validation: 106it [00:01, 108.90it/s]\u001b[A\n",
      "Validation: 117it [00:01, 104.45it/s]\u001b[A\n",
      "Validation: 129it [00:01, 108.02it/s]\u001b[A\n",
      "Validation: 140it [00:01, 103.81it/s]\u001b[A\n",
      "Validation: 151it [00:01, 97.27it/s] \u001b[A\n",
      "Validation: 161it [00:01, 93.47it/s]\u001b[A\n",
      "Validation: 173it [00:01, 98.90it/s]\u001b[A\n",
      "Validation: 186it [00:01, 105.52it/s]\u001b[A\n",
      "Validation: 201it [00:01, 101.72it/s]\u001b[A\n",
      "Training: 35507it [17:37,  8.53it/s]"
     ]
    },
    {
     "name": "stdout",
     "output_type": "stream",
     "text": [
      "loss for step 35500 : 2.2934356933802515  :  Accuracy: 24.502487562189053 %\n"
     ]
    },
    {
     "name": "stderr",
     "output_type": "stream",
     "text": [
      "Training: 35997it [17:49, 41.43it/s]\n",
      "Validation: 0it [00:00, ?it/s]\u001b[A\n",
      "Validation: 9it [00:00, 85.22it/s]\u001b[A\n",
      "Validation: 20it [00:00, 98.83it/s]\u001b[A\n",
      "Validation: 32it [00:00, 106.77it/s]\u001b[A\n",
      "Validation: 45it [00:00, 112.58it/s]\u001b[A\n",
      "Validation: 58it [00:00, 116.38it/s]\u001b[A\n",
      "Validation: 70it [00:00, 111.46it/s]\u001b[A\n",
      "Validation: 82it [00:00, 107.84it/s]\u001b[A\n",
      "Validation: 93it [00:00, 97.72it/s] \u001b[A\n",
      "Validation: 104it [00:01, 100.07it/s]\u001b[A\n",
      "Validation: 115it [00:01, 100.35it/s]\u001b[A\n",
      "Validation: 126it [00:01, 94.93it/s] \u001b[A\n",
      "Validation: 136it [00:01, 92.13it/s]\u001b[A\n",
      "Validation: 148it [00:01, 98.53it/s]\u001b[A\n",
      "Validation: 159it [00:01, 100.92it/s]\u001b[A\n",
      "Validation: 170it [00:01, 100.60it/s]\u001b[A\n",
      "Validation: 181it [00:01, 91.48it/s] \u001b[A\n",
      "Validation: 201it [00:02, 98.98it/s]\u001b[A\n",
      "Training: 36007it [17:51,  9.14it/s]"
     ]
    },
    {
     "name": "stdout",
     "output_type": "stream",
     "text": [
      "loss for step 36000 : 2.2900255307629336  :  Accuracy: 26.119402985074625 %\n"
     ]
    },
    {
     "name": "stderr",
     "output_type": "stream",
     "text": [
      "Training: 36497it [18:03, 39.53it/s]\n",
      "Validation: 0it [00:00, ?it/s]\u001b[A\n",
      "Validation: 9it [00:00, 88.38it/s]\u001b[A\n",
      "Validation: 22it [00:00, 109.58it/s]\u001b[A\n",
      "Validation: 35it [00:00, 117.01it/s]\u001b[A\n",
      "Validation: 47it [00:00, 115.23it/s]\u001b[A\n",
      "Validation: 59it [00:00, 90.14it/s] \u001b[A\n",
      "Validation: 69it [00:00, 88.26it/s]\u001b[A\n",
      "Validation: 79it [00:00, 90.39it/s]\u001b[A\n",
      "Validation: 92it [00:00, 99.75it/s]\u001b[A\n",
      "Validation: 104it [00:01, 103.71it/s]\u001b[A\n",
      "Validation: 115it [00:01, 104.78it/s]\u001b[A\n",
      "Validation: 127it [00:01, 107.78it/s]\u001b[A\n",
      "Validation: 138it [00:01, 102.00it/s]\u001b[A\n",
      "Validation: 150it [00:01, 105.00it/s]\u001b[A\n",
      "Validation: 161it [00:01, 102.50it/s]\u001b[A\n",
      "Validation: 173it [00:01, 107.11it/s]\u001b[A\n",
      "Validation: 186it [00:01, 112.38it/s]\u001b[A\n",
      "Validation: 201it [00:01, 104.65it/s]\u001b[A\n",
      "Training: 36507it [18:06,  9.42it/s]"
     ]
    },
    {
     "name": "stdout",
     "output_type": "stream",
     "text": [
      "loss for step 36500 : 2.295883730276307  :  Accuracy: 24.813432835820894 %\n"
     ]
    },
    {
     "name": "stderr",
     "output_type": "stream",
     "text": [
      "Training: 37000it [18:18, 39.18it/s]\n",
      "Validation: 0it [00:00, ?it/s]\u001b[A\n",
      "Validation: 9it [00:00, 88.02it/s]\u001b[A\n",
      "Validation: 23it [00:00, 114.66it/s]\u001b[A\n",
      "Validation: 36it [00:00, 120.03it/s]\u001b[A\n",
      "Validation: 49it [00:00, 123.26it/s]\u001b[A\n",
      "Validation: 62it [00:00, 124.09it/s]\u001b[A\n",
      "Validation: 75it [00:00, 124.72it/s]\u001b[A\n",
      "Validation: 88it [00:00, 122.79it/s]\u001b[A\n",
      "Validation: 101it [00:00, 118.70it/s]\u001b[A\n",
      "Validation: 113it [00:00, 115.70it/s]\u001b[A\n",
      "Validation: 125it [00:01, 116.18it/s]\u001b[A\n",
      "Validation: 138it [00:01, 119.12it/s]\u001b[A\n",
      "Validation: 150it [00:01, 118.93it/s]\u001b[A\n",
      "Validation: 162it [00:01, 117.35it/s]\u001b[A\n",
      "Validation: 174it [00:01, 118.04it/s]\u001b[A\n",
      "Validation: 187it [00:01, 119.04it/s]\u001b[A\n",
      "Validation: 201it [00:01, 117.06it/s]\u001b[A\n",
      "Training: 37005it [18:20,  7.60it/s]"
     ]
    },
    {
     "name": "stdout",
     "output_type": "stream",
     "text": [
      "loss for step 37000 : 2.300398908444305  :  Accuracy: 23.258706467661693 %\n"
     ]
    },
    {
     "name": "stderr",
     "output_type": "stream",
     "text": [
      "Training: 37499it [18:32, 41.33it/s]\n",
      "Validation: 0it [00:00, ?it/s]\u001b[A\n",
      "Validation: 5it [00:00, 47.09it/s]\u001b[A\n",
      "Validation: 13it [00:00, 61.97it/s]\u001b[A\n",
      "Validation: 23it [00:00, 76.83it/s]\u001b[A\n",
      "Validation: 31it [00:00, 76.02it/s]\u001b[A\n",
      "Validation: 39it [00:00, 77.15it/s]\u001b[A\n",
      "Validation: 47it [00:00, 76.26it/s]\u001b[A\n",
      "Validation: 59it [00:00, 88.59it/s]\u001b[A\n",
      "Validation: 72it [00:00, 99.81it/s]\u001b[A\n",
      "Validation: 85it [00:00, 108.33it/s]\u001b[A\n",
      "Validation: 96it [00:01, 103.23it/s]\u001b[A\n",
      "Validation: 107it [00:01, 104.17it/s]\u001b[A\n",
      "Validation: 118it [00:01, 99.11it/s] \u001b[A\n",
      "Validation: 129it [00:01, 101.63it/s]\u001b[A\n",
      "Validation: 140it [00:01, 104.00it/s]\u001b[A\n",
      "Validation: 151it [00:01, 95.90it/s] \u001b[A\n",
      "Validation: 162it [00:01, 97.94it/s]\u001b[A\n",
      "Validation: 175it [00:01, 105.98it/s]\u001b[A\n",
      "Validation: 188it [00:01, 111.41it/s]\u001b[A\n",
      "Validation: 201it [00:02, 97.20it/s] \u001b[A\n",
      "Training: 37504it [18:35,  6.56it/s]"
     ]
    },
    {
     "name": "stdout",
     "output_type": "stream",
     "text": [
      "loss for step 37500 : 2.301162031752553  :  Accuracy: 24.813432835820894 %\n"
     ]
    },
    {
     "name": "stderr",
     "output_type": "stream",
     "text": [
      "Training: 38000it [18:47, 36.64it/s]\n",
      "Validation: 0it [00:00, ?it/s]\u001b[A\n",
      "Validation: 9it [00:00, 87.30it/s]\u001b[A\n",
      "Validation: 21it [00:00, 104.51it/s]\u001b[A\n",
      "Validation: 34it [00:00, 111.99it/s]\u001b[A\n",
      "Validation: 46it [00:00, 114.74it/s]\u001b[A\n",
      "Validation: 58it [00:00, 111.11it/s]\u001b[A\n",
      "Validation: 71it [00:00, 115.17it/s]\u001b[A\n",
      "Validation: 83it [00:00, 110.29it/s]\u001b[A\n",
      "Validation: 95it [00:00, 108.36it/s]\u001b[A\n",
      "Validation: 107it [00:00, 110.91it/s]\u001b[A\n",
      "Validation: 119it [00:01, 102.53it/s]\u001b[A\n",
      "Validation: 132it [00:01, 108.51it/s]\u001b[A\n",
      "Validation: 145it [00:01, 113.75it/s]\u001b[A\n",
      "Validation: 157it [00:01, 110.47it/s]\u001b[A\n",
      "Validation: 170it [00:01, 115.20it/s]\u001b[A\n",
      "Validation: 183it [00:01, 118.87it/s]\u001b[A\n",
      "Validation: 201it [00:01, 110.68it/s]\u001b[A\n",
      "Training: 38004it [18:49,  6.32it/s]"
     ]
    },
    {
     "name": "stdout",
     "output_type": "stream",
     "text": [
      "loss for step 38000 : 2.297920289917372  :  Accuracy: 24.502487562189053 %\n"
     ]
    },
    {
     "name": "stderr",
     "output_type": "stream",
     "text": [
      "Training: 38499it [19:01, 38.17it/s]\n",
      "Validation: 0it [00:00, ?it/s]\u001b[A\n",
      "Validation: 9it [00:00, 86.60it/s]\u001b[A\n",
      "Validation: 20it [00:00, 100.01it/s]\u001b[A\n",
      "Validation: 32it [00:00, 107.00it/s]\u001b[A\n",
      "Validation: 43it [00:00, 105.15it/s]\u001b[A\n",
      "Validation: 54it [00:00, 103.76it/s]\u001b[A\n",
      "Validation: 66it [00:00, 108.90it/s]\u001b[A\n",
      "Validation: 77it [00:00, 87.25it/s] \u001b[A\n",
      "Validation: 89it [00:00, 95.09it/s]\u001b[A\n",
      "Validation: 101it [00:01, 100.42it/s]\u001b[A\n",
      "Validation: 112it [00:01, 96.11it/s] \u001b[A\n",
      "Validation: 125it [00:01, 103.66it/s]\u001b[A\n",
      "Validation: 136it [00:01, 104.44it/s]\u001b[A\n",
      "Validation: 148it [00:01, 107.83it/s]\u001b[A\n",
      "Validation: 160it [00:01, 110.62it/s]\u001b[A\n",
      "Validation: 172it [00:01, 111.60it/s]\u001b[A\n",
      "Validation: 184it [00:01, 108.45it/s]\u001b[A\n",
      "Validation: 201it [00:01, 103.30it/s]\u001b[A\n",
      "Training: 38508it [19:03,  9.05it/s]"
     ]
    },
    {
     "name": "stdout",
     "output_type": "stream",
     "text": [
      "loss for step 38500 : 2.2914765450491834  :  Accuracy: 25.621890547263682 %\n"
     ]
    },
    {
     "name": "stderr",
     "output_type": "stream",
     "text": [
      "Training: 38999it [19:16, 44.91it/s]\n",
      "Validation: 0it [00:00, ?it/s]\u001b[A\n",
      "Validation: 7it [00:00, 65.51it/s]\u001b[A\n",
      "Validation: 19it [00:00, 92.99it/s]\u001b[A\n",
      "Validation: 32it [00:00, 105.65it/s]\u001b[A\n",
      "Validation: 45it [00:00, 111.57it/s]\u001b[A\n",
      "Validation: 57it [00:00, 110.92it/s]\u001b[A\n",
      "Validation: 69it [00:00, 104.26it/s]\u001b[A\n",
      "Validation: 80it [00:00, 103.10it/s]\u001b[A\n",
      "Validation: 91it [00:00, 102.92it/s]\u001b[A\n",
      "Validation: 102it [00:01, 100.14it/s]\u001b[A\n",
      "Validation: 113it [00:01, 89.92it/s] \u001b[A\n",
      "Validation: 124it [00:01, 94.12it/s]\u001b[A\n",
      "Validation: 136it [00:01, 100.53it/s]\u001b[A\n",
      "Validation: 149it [00:01, 106.67it/s]\u001b[A\n",
      "Validation: 160it [00:01, 103.69it/s]\u001b[A\n",
      "Validation: 171it [00:01, 101.87it/s]\u001b[A\n",
      "Validation: 182it [00:01, 99.77it/s] \u001b[A\n",
      "Validation: 201it [00:02, 99.33it/s]\u001b[A\n",
      "Training: 39004it [19:18,  6.81it/s]"
     ]
    },
    {
     "name": "stdout",
     "output_type": "stream",
     "text": [
      "loss for step 39000 : 2.2984562489523817  :  Accuracy: 24.937810945273633 %\n"
     ]
    },
    {
     "name": "stderr",
     "output_type": "stream",
     "text": [
      "Training: 39499it [19:30, 38.54it/s]\n",
      "Validation: 0it [00:00, ?it/s]\u001b[A\n",
      "Validation: 7it [00:00, 69.67it/s]\u001b[A\n",
      "Validation: 17it [00:00, 84.60it/s]\u001b[A\n",
      "Validation: 26it [00:00, 82.17it/s]\u001b[A\n",
      "Validation: 35it [00:00, 81.23it/s]\u001b[A\n",
      "Validation: 44it [00:00, 75.00it/s]\u001b[A\n",
      "Validation: 53it [00:00, 79.21it/s]\u001b[A\n",
      "Validation: 65it [00:00, 91.29it/s]\u001b[A\n",
      "Validation: 78it [00:00, 101.05it/s]\u001b[A\n",
      "Validation: 90it [00:00, 105.13it/s]\u001b[A\n",
      "Validation: 103it [00:01, 110.60it/s]\u001b[A\n",
      "Validation: 116it [00:01, 114.66it/s]\u001b[A\n",
      "Validation: 129it [00:01, 117.15it/s]\u001b[A\n",
      "Validation: 141it [00:01, 107.80it/s]\u001b[A\n",
      "Validation: 152it [00:01, 104.87it/s]\u001b[A\n",
      "Validation: 164it [00:01, 107.33it/s]\u001b[A\n",
      "Validation: 176it [00:01, 110.65it/s]\u001b[A\n",
      "Validation: 189it [00:01, 113.88it/s]\u001b[A\n",
      "Validation: 201it [00:01, 101.98it/s]\u001b[A\n",
      "Training: 39507it [19:33,  8.11it/s]"
     ]
    },
    {
     "name": "stdout",
     "output_type": "stream",
     "text": [
      "loss for step 39500 : 2.2951755992215666  :  Accuracy: 24.68905472636816 %\n"
     ]
    },
    {
     "name": "stderr",
     "output_type": "stream",
     "text": [
      "Training: 39999it [19:45, 40.30it/s]\n",
      "Validation: 0it [00:00, ?it/s]\u001b[A\n",
      "Validation: 6it [00:00, 58.16it/s]\u001b[A\n",
      "Validation: 14it [00:00, 68.18it/s]\u001b[A\n",
      "Validation: 25it [00:00, 84.12it/s]\u001b[A\n",
      "Validation: 34it [00:00, 84.02it/s]\u001b[A\n",
      "Validation: 46it [00:00, 96.21it/s]\u001b[A\n",
      "Validation: 59it [00:00, 105.13it/s]\u001b[A\n",
      "Validation: 72it [00:00, 109.95it/s]\u001b[A\n",
      "Validation: 83it [00:00, 107.18it/s]\u001b[A\n",
      "Validation: 94it [00:00, 104.69it/s]\u001b[A\n",
      "Validation: 105it [00:01, 102.65it/s]\u001b[A\n",
      "Validation: 116it [00:01, 100.28it/s]\u001b[A\n",
      "Validation: 127it [00:01, 102.78it/s]\u001b[A\n",
      "Validation: 138it [00:01, 101.89it/s]\u001b[A\n",
      "Validation: 150it [00:01, 105.16it/s]\u001b[A\n",
      "Validation: 163it [00:01, 110.06it/s]\u001b[A\n",
      "Validation: 175it [00:01, 101.69it/s]\u001b[A\n",
      "Validation: 186it [00:01, 87.42it/s] \u001b[A\n",
      "Validation: 201it [00:02, 96.71it/s]\u001b[A\n",
      "Training: 40004it [19:47,  6.54it/s]"
     ]
    },
    {
     "name": "stdout",
     "output_type": "stream",
     "text": [
      "loss for step 40000 : 2.3011014188700054  :  Accuracy: 23.756218905472636 %\n"
     ]
    },
    {
     "name": "stderr",
     "output_type": "stream",
     "text": [
      "Training: 40497it [20:00, 41.09it/s]\n",
      "Validation: 0it [00:00, ?it/s]\u001b[A\n",
      "Validation: 9it [00:00, 89.54it/s]\u001b[A\n",
      "Validation: 21it [00:00, 103.43it/s]\u001b[A\n",
      "Validation: 32it [00:00, 102.39it/s]\u001b[A\n",
      "Validation: 44it [00:00, 108.61it/s]\u001b[A\n",
      "Validation: 57it [00:00, 113.59it/s]\u001b[A\n",
      "Validation: 70it [00:00, 116.50it/s]\u001b[A\n",
      "Validation: 82it [00:00, 116.57it/s]\u001b[A\n",
      "Validation: 94it [00:00, 114.08it/s]\u001b[A\n",
      "Validation: 106it [00:00, 104.31it/s]\u001b[A\n",
      "Validation: 117it [00:01, 102.45it/s]\u001b[A\n",
      "Validation: 129it [00:01, 105.50it/s]\u001b[A\n",
      "Validation: 140it [00:01, 102.88it/s]\u001b[A\n",
      "Validation: 151it [00:01, 103.23it/s]\u001b[A\n",
      "Validation: 162it [00:01, 102.38it/s]\u001b[A\n",
      "Validation: 175it [00:01, 109.05it/s]\u001b[A\n",
      "Validation: 188it [00:01, 112.90it/s]\u001b[A\n",
      "Validation: 201it [00:01, 108.69it/s]\u001b[A\n",
      "Training: 40507it [20:02,  9.84it/s]"
     ]
    },
    {
     "name": "stdout",
     "output_type": "stream",
     "text": [
      "loss for step 40500 : 2.294101438712125  :  Accuracy: 24.502487562189053 %\n"
     ]
    },
    {
     "name": "stderr",
     "output_type": "stream",
     "text": [
      "Training: 41000it [20:14, 41.78it/s]\n",
      "Validation: 0it [00:00, ?it/s]\u001b[A\n",
      "Validation: 10it [00:00, 94.98it/s]\u001b[A\n",
      "Validation: 23it [00:00, 113.02it/s]\u001b[A\n",
      "Validation: 35it [00:00, 115.10it/s]\u001b[A\n",
      "Validation: 47it [00:00, 109.94it/s]\u001b[A\n",
      "Validation: 59it [00:00, 107.82it/s]\u001b[A\n",
      "Validation: 70it [00:00, 103.80it/s]\u001b[A\n",
      "Validation: 81it [00:00, 89.52it/s] \u001b[A\n",
      "Validation: 92it [00:00, 94.71it/s]\u001b[A\n",
      "Validation: 105it [00:01, 103.83it/s]\u001b[A\n",
      "Validation: 116it [00:01, 103.09it/s]\u001b[A\n",
      "Validation: 127it [00:01, 100.18it/s]\u001b[A\n",
      "Validation: 138it [00:01, 96.94it/s] \u001b[A\n",
      "Validation: 151it [00:01, 104.89it/s]\u001b[A\n",
      "Validation: 164it [00:01, 110.20it/s]\u001b[A\n",
      "Validation: 176it [00:01, 102.81it/s]\u001b[A\n",
      "Validation: 187it [00:01, 90.74it/s] \u001b[A\n",
      "Validation: 201it [00:02, 100.15it/s][A\n",
      "Training: 41009it [20:16,  8.65it/s]"
     ]
    },
    {
     "name": "stdout",
     "output_type": "stream",
     "text": [
      "loss for step 41000 : 2.3005808894313984  :  Accuracy: 23.383084577114428 %\n"
     ]
    },
    {
     "name": "stderr",
     "output_type": "stream",
     "text": [
      "Training: 41499it [20:29, 41.20it/s]\n",
      "Validation: 0it [00:00, ?it/s]\u001b[A\n",
      "Validation: 7it [00:00, 68.21it/s]\u001b[A\n",
      "Validation: 15it [00:00, 74.42it/s]\u001b[A\n",
      "Validation: 25it [00:00, 85.25it/s]\u001b[A\n",
      "Validation: 37it [00:00, 98.59it/s]\u001b[A\n",
      "Validation: 50it [00:00, 107.47it/s]\u001b[A\n",
      "Validation: 61it [00:00, 105.89it/s]\u001b[A\n",
      "Validation: 73it [00:00, 107.87it/s]\u001b[A\n",
      "Validation: 84it [00:00, 104.96it/s]\u001b[A\n",
      "Validation: 95it [00:00, 101.06it/s]\u001b[A\n",
      "Validation: 106it [00:01, 103.25it/s]\u001b[A\n",
      "Validation: 117it [00:01, 98.65it/s] \u001b[A\n",
      "Validation: 127it [00:01, 94.95it/s]\u001b[A\n",
      "Validation: 139it [00:01, 100.75it/s]\u001b[A\n",
      "Validation: 151it [00:01, 104.98it/s]\u001b[A\n",
      "Validation: 163it [00:01, 108.64it/s]\u001b[A\n",
      "Validation: 174it [00:01, 108.33it/s]\u001b[A\n",
      "Validation: 186it [00:01, 111.03it/s]\u001b[A\n",
      "Validation: 201it [00:01, 103.44it/s]\u001b[A\n",
      "Training: 41509it [20:31,  9.16it/s]"
     ]
    },
    {
     "name": "stdout",
     "output_type": "stream",
     "text": [
      "loss for step 41500 : 2.295470260862094  :  Accuracy: 24.68905472636816 %\n"
     ]
    },
    {
     "name": "stderr",
     "output_type": "stream",
     "text": [
      "Training: 41998it [20:43, 33.93it/s]\n",
      "Validation: 0it [00:00, ?it/s]\u001b[A\n",
      "Validation: 8it [00:00, 79.57it/s]\u001b[A\n",
      "Validation: 19it [00:00, 97.39it/s]\u001b[A\n",
      "Validation: 31it [00:00, 107.25it/s]\u001b[A\n",
      "Validation: 43it [00:00, 109.34it/s]\u001b[A\n",
      "Validation: 54it [00:00, 98.01it/s] \u001b[A\n",
      "Validation: 65it [00:00, 101.67it/s]\u001b[A\n",
      "Validation: 76it [00:00, 102.51it/s]\u001b[A\n",
      "Validation: 89it [00:00, 109.27it/s]\u001b[A\n",
      "Validation: 101it [00:00, 101.89it/s]\u001b[A\n",
      "Validation: 112it [00:01, 97.73it/s] \u001b[A\n",
      "Validation: 122it [00:01, 97.76it/s]\u001b[A\n",
      "Validation: 134it [00:01, 102.69it/s]\u001b[A\n",
      "Validation: 145it [00:01, 95.59it/s] \u001b[A\n",
      "Validation: 156it [00:01, 98.51it/s]\u001b[A\n",
      "Validation: 168it [00:01, 104.25it/s]\u001b[A\n",
      "Validation: 181it [00:01, 109.09it/s]\u001b[A\n",
      "Validation: 201it [00:01, 103.78it/s]\u001b[A\n",
      "Training: 42007it [20:46,  8.45it/s]"
     ]
    },
    {
     "name": "stdout",
     "output_type": "stream",
     "text": [
      "loss for step 42000 : 2.2912825517986546  :  Accuracy: 24.31592039800995 %\n"
     ]
    },
    {
     "name": "stderr",
     "output_type": "stream",
     "text": [
      "Training: 42499it [20:58, 45.60it/s]\n",
      "Validation: 0it [00:00, ?it/s]\u001b[A\n",
      "Validation: 7it [00:00, 69.03it/s]\u001b[A\n",
      "Validation: 20it [00:00, 101.67it/s]\u001b[A\n",
      "Validation: 33it [00:00, 111.15it/s]\u001b[A\n",
      "Validation: 45it [00:00, 112.32it/s]\u001b[A\n",
      "Validation: 57it [00:00, 112.72it/s]\u001b[A\n",
      "Validation: 69it [00:00, 113.74it/s]\u001b[A\n",
      "Validation: 81it [00:00, 114.02it/s]\u001b[A\n",
      "Validation: 93it [00:00, 115.10it/s]\u001b[A\n",
      "Validation: 105it [00:00, 115.89it/s]\u001b[A\n",
      "Validation: 117it [00:01, 111.40it/s]\u001b[A\n",
      "Validation: 129it [00:01, 112.96it/s]\u001b[A\n",
      "Validation: 141it [00:01, 114.80it/s]\u001b[A\n",
      "Validation: 154it [00:01, 117.89it/s]\u001b[A\n",
      "Validation: 167it [00:01, 119.60it/s]\u001b[A\n",
      "Validation: 180it [00:01, 121.69it/s]\u001b[A\n",
      "Validation: 201it [00:01, 112.77it/s]\u001b[A\n",
      "Training: 42508it [21:00,  9.44it/s]"
     ]
    },
    {
     "name": "stdout",
     "output_type": "stream",
     "text": [
      "loss for step 42500 : 2.3015484477750103  :  Accuracy: 24.62686567164179 %\n"
     ]
    },
    {
     "name": "stderr",
     "output_type": "stream",
     "text": [
      "Training: 42998it [21:12, 37.00it/s]\n",
      "Validation: 0it [00:00, ?it/s]\u001b[A\n",
      "Validation: 6it [00:00, 56.34it/s]\u001b[A\n",
      "Validation: 16it [00:00, 79.34it/s]\u001b[A\n",
      "Validation: 29it [00:00, 99.61it/s]\u001b[A\n",
      "Validation: 41it [00:00, 107.15it/s]\u001b[A\n",
      "Validation: 52it [00:00, 90.71it/s] \u001b[A\n",
      "Validation: 65it [00:00, 100.64it/s]\u001b[A\n",
      "Validation: 78it [00:00, 108.30it/s]\u001b[A\n",
      "Validation: 91it [00:00, 114.19it/s]\u001b[A\n",
      "Validation: 104it [00:00, 118.26it/s]\u001b[A\n",
      "Validation: 117it [00:01, 117.41it/s]\u001b[A\n",
      "Validation: 129it [00:01, 110.50it/s]\u001b[A\n",
      "Validation: 142it [00:01, 114.56it/s]\u001b[A\n",
      "Validation: 155it [00:01, 116.45it/s]\u001b[A\n",
      "Validation: 167it [00:01, 104.25it/s]\u001b[A\n",
      "Validation: 178it [00:01, 105.17it/s]\u001b[A\n",
      "Validation: 189it [00:01, 103.04it/s]\u001b[A\n",
      "Validation: 201it [00:01, 105.68it/s]\u001b[A\n",
      "Training: 43007it [21:15,  8.71it/s]"
     ]
    },
    {
     "name": "stdout",
     "output_type": "stream",
     "text": [
      "loss for step 43000 : 2.287503132179602  :  Accuracy: 25.99502487562189 %\n"
     ]
    },
    {
     "name": "stderr",
     "output_type": "stream",
     "text": [
      "Training: 43499it [21:27, 43.92it/s]\n",
      "Validation: 0it [00:00, ?it/s]\u001b[A\n",
      "Validation: 7it [00:00, 69.93it/s]\u001b[A\n",
      "Validation: 18it [00:00, 92.36it/s]\u001b[A\n",
      "Validation: 29it [00:00, 97.97it/s]\u001b[A\n",
      "Validation: 40it [00:00, 100.59it/s]\u001b[A\n",
      "Validation: 52it [00:00, 105.56it/s]\u001b[A\n",
      "Validation: 64it [00:00, 109.80it/s]\u001b[A\n",
      "Validation: 76it [00:00, 110.86it/s]\u001b[A\n",
      "Validation: 88it [00:00, 112.78it/s]\u001b[A\n",
      "Validation: 100it [00:00, 110.56it/s]\u001b[A\n",
      "Validation: 112it [00:01, 100.35it/s]\u001b[A\n",
      "Validation: 125it [00:01, 106.38it/s]\u001b[A\n",
      "Validation: 136it [00:01, 101.17it/s]\u001b[A\n",
      "Validation: 147it [00:01, 102.94it/s]\u001b[A\n",
      "Validation: 160it [00:01, 108.58it/s]\u001b[A\n",
      "Validation: 173it [00:01, 113.39it/s]\u001b[A\n",
      "Validation: 186it [00:01, 116.46it/s]\u001b[A\n",
      "Validation: 201it [00:01, 107.98it/s]\u001b[A\n",
      "Training: 43508it [21:29,  9.10it/s]"
     ]
    },
    {
     "name": "stdout",
     "output_type": "stream",
     "text": [
      "loss for step 43500 : 2.2886928230968873  :  Accuracy: 25.248756218905474 %\n"
     ]
    },
    {
     "name": "stderr",
     "output_type": "stream",
     "text": [
      "Training: 43999it [21:41, 38.24it/s]\n",
      "Validation: 0it [00:00, ?it/s]\u001b[A\n",
      "Validation: 8it [00:00, 78.25it/s]\u001b[A\n",
      "Validation: 19it [00:00, 94.08it/s]\u001b[A\n",
      "Validation: 31it [00:00, 103.91it/s]\u001b[A\n",
      "Validation: 43it [00:00, 108.95it/s]\u001b[A\n",
      "Validation: 55it [00:00, 111.76it/s]\u001b[A\n",
      "Validation: 67it [00:00, 114.22it/s]\u001b[A\n",
      "Validation: 79it [00:00, 108.18it/s]\u001b[A\n",
      "Validation: 90it [00:00, 97.82it/s] \u001b[A\n",
      "Validation: 101it [00:00, 99.69it/s]\u001b[A\n",
      "Validation: 112it [00:01, 98.15it/s]\u001b[A\n",
      "Validation: 124it [00:01, 102.65it/s]\u001b[A\n",
      "Validation: 136it [00:01, 107.30it/s]\u001b[A\n",
      "Validation: 148it [00:01, 110.85it/s]\u001b[A\n",
      "Validation: 160it [00:01, 111.26it/s]\u001b[A\n",
      "Validation: 172it [00:01, 101.56it/s]\u001b[A\n",
      "Validation: 183it [00:01, 88.16it/s] \u001b[A\n",
      "Validation: 201it [00:01, 100.81it/s][A\n",
      "Training: 44008it [21:44,  8.54it/s]"
     ]
    },
    {
     "name": "stdout",
     "output_type": "stream",
     "text": [
      "loss for step 44000 : 2.3077300626840165  :  Accuracy: 22.32587064676617 %\n"
     ]
    },
    {
     "name": "stderr",
     "output_type": "stream",
     "text": [
      "Training: 44499it [21:56, 39.50it/s]\n",
      "Validation: 0it [00:00, ?it/s]\u001b[A\n",
      "Validation: 5it [00:00, 44.56it/s]\u001b[A\n",
      "Validation: 16it [00:00, 79.50it/s]\u001b[A\n",
      "Validation: 25it [00:00, 83.33it/s]\u001b[A\n",
      "Validation: 36it [00:00, 92.85it/s]\u001b[A\n",
      "Validation: 46it [00:00, 91.91it/s]\u001b[A\n",
      "Validation: 58it [00:00, 100.37it/s]\u001b[A\n",
      "Validation: 70it [00:00, 104.19it/s]\u001b[A\n",
      "Validation: 83it [00:00, 109.37it/s]\u001b[A\n",
      "Validation: 96it [00:00, 114.81it/s]\u001b[A\n",
      "Validation: 108it [00:01, 101.22it/s]\u001b[A\n",
      "Validation: 119it [00:01, 91.40it/s] \u001b[A\n",
      "Validation: 129it [00:01, 91.17it/s]\u001b[A\n",
      "Validation: 139it [00:01, 91.06it/s]\u001b[A\n",
      "Validation: 151it [00:01, 96.96it/s]\u001b[A\n",
      "Validation: 162it [00:01, 99.53it/s]\u001b[A\n",
      "Validation: 175it [00:01, 106.65it/s]\u001b[A\n",
      "Validation: 188it [00:01, 112.30it/s]\u001b[A\n",
      "Validation: 201it [00:02, 100.43it/s]\u001b[A\n",
      "Training: 44508it [21:58,  8.57it/s]"
     ]
    },
    {
     "name": "stdout",
     "output_type": "stream",
     "text": [
      "loss for step 44500 : 2.28333214147767  :  Accuracy: 26.616915422885572 %\n"
     ]
    },
    {
     "name": "stderr",
     "output_type": "stream",
     "text": [
      "Training: 44998it [22:10, 41.91it/s]\n",
      "Validation: 0it [00:00, ?it/s]\u001b[A\n",
      "Validation: 9it [00:00, 88.55it/s]\u001b[A\n",
      "Validation: 22it [00:00, 109.20it/s]\u001b[A\n",
      "Validation: 33it [00:00, 107.50it/s]\u001b[A\n",
      "Validation: 44it [00:00, 106.49it/s]\u001b[A\n",
      "Validation: 55it [00:00, 97.73it/s] \u001b[A\n",
      "Validation: 68it [00:00, 106.29it/s]\u001b[A\n",
      "Validation: 81it [00:00, 111.65it/s]\u001b[A\n",
      "Validation: 93it [00:00, 95.43it/s] \u001b[A\n",
      "Validation: 105it [00:01, 100.15it/s]\u001b[A\n",
      "Validation: 118it [00:01, 106.65it/s]\u001b[A\n",
      "Validation: 130it [00:01, 109.68it/s]\u001b[A\n",
      "Validation: 142it [00:01, 111.27it/s]\u001b[A\n",
      "Validation: 154it [00:01, 111.18it/s]\u001b[A\n",
      "Validation: 166it [00:01, 112.72it/s]\u001b[A\n",
      "Validation: 178it [00:01, 110.82it/s]\u001b[A\n",
      "Validation: 190it [00:01, 102.44it/s]\u001b[A\n",
      "Validation: 201it [00:01, 103.05it/s]\u001b[A\n",
      "Training: 45008it [22:12,  9.43it/s]"
     ]
    },
    {
     "name": "stdout",
     "output_type": "stream",
     "text": [
      "loss for step 45000 : 2.3011764649728046  :  Accuracy: 23.00995024875622 %\n"
     ]
    },
    {
     "name": "stderr",
     "output_type": "stream",
     "text": [
      "Training: 45498it [22:24, 45.02it/s]\n",
      "Validation: 0it [00:00, ?it/s]\u001b[A\n",
      "Validation: 6it [00:00, 58.80it/s]\u001b[A\n",
      "Validation: 19it [00:00, 96.67it/s]\u001b[A\n",
      "Validation: 29it [00:00, 96.47it/s]\u001b[A\n",
      "Validation: 42it [00:00, 106.91it/s]\u001b[A\n",
      "Validation: 53it [00:00, 104.90it/s]\u001b[A\n",
      "Validation: 64it [00:00, 102.61it/s]\u001b[A\n",
      "Validation: 77it [00:00, 108.39it/s]\u001b[A\n",
      "Validation: 88it [00:00, 107.04it/s]\u001b[A\n",
      "Validation: 99it [00:00, 105.62it/s]\u001b[A\n",
      "Validation: 110it [00:01, 103.53it/s]\u001b[A\n",
      "Validation: 122it [00:01, 107.04it/s]\u001b[A\n",
      "Validation: 135it [00:01, 112.16it/s]\u001b[A\n",
      "Validation: 148it [00:01, 116.63it/s]\u001b[A\n",
      "Validation: 160it [00:01, 110.08it/s]\u001b[A\n",
      "Validation: 172it [00:01, 108.30it/s]\u001b[A\n",
      "Validation: 183it [00:01, 106.48it/s]\u001b[A\n",
      "Validation: 201it [00:01, 105.38it/s]\u001b[A\n",
      "Training: 45507it [22:26,  8.91it/s]"
     ]
    },
    {
     "name": "stdout",
     "output_type": "stream",
     "text": [
      "loss for step 45500 : 2.293124235091518  :  Accuracy: 25.746268656716417 %\n"
     ]
    },
    {
     "name": "stderr",
     "output_type": "stream",
     "text": [
      "Training: 45999it [22:38, 42.05it/s]\n",
      "Validation: 0it [00:00, ?it/s]\u001b[A\n",
      "Validation: 9it [00:00, 83.54it/s]\u001b[A\n",
      "Validation: 21it [00:00, 104.31it/s]\u001b[A\n",
      "Validation: 34it [00:00, 114.02it/s]\u001b[A\n",
      "Validation: 47it [00:00, 118.95it/s]\u001b[A\n",
      "Validation: 59it [00:00, 117.95it/s]\u001b[A\n",
      "Validation: 71it [00:00, 114.29it/s]\u001b[A\n",
      "Validation: 83it [00:00, 107.41it/s]\u001b[A\n",
      "Validation: 96it [00:00, 111.78it/s]\u001b[A\n",
      "Validation: 109it [00:00, 116.02it/s]\u001b[A\n",
      "Validation: 122it [00:01, 118.35it/s]\u001b[A\n",
      "Validation: 134it [00:01, 118.79it/s]\u001b[A\n",
      "Validation: 147it [00:01, 119.28it/s]\u001b[A\n",
      "Validation: 160it [00:01, 119.85it/s]\u001b[A\n",
      "Validation: 173it [00:01, 108.06it/s]\u001b[A\n",
      "Validation: 185it [00:01, 95.56it/s] \u001b[A\n",
      "Validation: 201it [00:01, 108.61it/s][A\n",
      "Training: 46009it [22:40,  9.87it/s]"
     ]
    },
    {
     "name": "stdout",
     "output_type": "stream",
     "text": [
      "loss for step 46000 : 2.2879214636722014  :  Accuracy: 25.99502487562189 %\n"
     ]
    },
    {
     "name": "stderr",
     "output_type": "stream",
     "text": [
      "Training: 46499it [22:54, 38.18it/s]\n",
      "Validation: 0it [00:00, ?it/s]\u001b[A\n",
      "Validation: 7it [00:00, 64.57it/s]\u001b[A\n",
      "Validation: 17it [00:00, 83.61it/s]\u001b[A\n",
      "Validation: 28it [00:00, 93.59it/s]\u001b[A\n",
      "Validation: 41it [00:00, 106.62it/s]\u001b[A\n",
      "Validation: 55it [00:00, 117.13it/s]\u001b[A\n",
      "Validation: 68it [00:00, 119.69it/s]\u001b[A\n",
      "Validation: 81it [00:00, 121.21it/s]\u001b[A\n",
      "Validation: 95it [00:00, 125.09it/s]\u001b[A\n",
      "Validation: 108it [00:00, 117.98it/s]\u001b[A\n",
      "Validation: 120it [00:01, 112.72it/s]\u001b[A\n",
      "Validation: 132it [00:01, 108.95it/s]\u001b[A\n",
      "Validation: 144it [00:01, 109.87it/s]\u001b[A\n",
      "Validation: 158it [00:01, 116.13it/s]\u001b[A\n",
      "Validation: 172it [00:01, 121.44it/s]\u001b[A\n",
      "Validation: 186it [00:01, 124.60it/s]\u001b[A\n",
      "Validation: 201it [00:01, 114.29it/s]\u001b[A\n",
      "Training: 46508it [22:56,  9.44it/s]"
     ]
    },
    {
     "name": "stdout",
     "output_type": "stream",
     "text": [
      "loss for step 46500 : 2.2998746924139373  :  Accuracy: 24.067164179104477 %\n"
     ]
    },
    {
     "name": "stderr",
     "output_type": "stream",
     "text": [
      "Training: 47000it [23:07, 40.74it/s]\n",
      "Validation: 0it [00:00, ?it/s]\u001b[A\n",
      "Validation: 9it [00:00, 88.28it/s]\u001b[A\n",
      "Validation: 23it [00:00, 113.65it/s]\u001b[A\n",
      "Validation: 37it [00:00, 121.74it/s]\u001b[A\n",
      "Validation: 50it [00:00, 124.77it/s]\u001b[A\n",
      "Validation: 64it [00:00, 129.14it/s]\u001b[A\n",
      "Validation: 77it [00:00, 124.22it/s]\u001b[A\n",
      "Validation: 90it [00:00, 118.24it/s]\u001b[A\n",
      "Validation: 104it [00:00, 123.97it/s]\u001b[A\n",
      "Validation: 117it [00:00, 123.42it/s]\u001b[A\n",
      "Validation: 130it [00:01, 123.40it/s]\u001b[A\n",
      "Validation: 143it [00:01, 120.83it/s]\u001b[A\n",
      "Validation: 156it [00:01, 119.79it/s]\u001b[A\n",
      "Validation: 170it [00:01, 123.87it/s]\u001b[A\n",
      "Validation: 184it [00:01, 126.88it/s]\u001b[A\n",
      "Validation: 201it [00:01, 119.14it/s]\u001b[A\n",
      "Training: 47005it [23:09,  8.11it/s]"
     ]
    },
    {
     "name": "stdout",
     "output_type": "stream",
     "text": [
      "loss for step 47000 : 2.289983857330398  :  Accuracy: 25.0 %\n"
     ]
    },
    {
     "name": "stderr",
     "output_type": "stream",
     "text": [
      "Training: 47497it [23:20, 45.49it/s]\n",
      "Validation: 0it [00:00, ?it/s]\u001b[A\n",
      "Validation: 9it [00:00, 87.11it/s]\u001b[A\n",
      "Validation: 22it [00:00, 107.38it/s]\u001b[A\n",
      "Validation: 36it [00:00, 118.70it/s]\u001b[A\n",
      "Validation: 48it [00:00, 115.05it/s]\u001b[A\n",
      "Validation: 62it [00:00, 120.99it/s]\u001b[A\n",
      "Validation: 75it [00:00, 121.38it/s]\u001b[A\n",
      "Validation: 88it [00:00, 105.06it/s]\u001b[A\n",
      "Validation: 103it [00:00, 116.48it/s]\u001b[A\n",
      "Validation: 117it [00:01, 122.25it/s]\u001b[A\n",
      "Validation: 131it [00:01, 125.12it/s]\u001b[A\n",
      "Validation: 144it [00:01, 126.38it/s]\u001b[A\n",
      "Validation: 158it [00:01, 130.24it/s]\u001b[A\n",
      "Validation: 172it [00:01, 131.70it/s]\u001b[A\n",
      "Validation: 186it [00:01, 133.17it/s]\u001b[A\n",
      "Validation: 201it [00:01, 121.37it/s]\u001b[A\n",
      "Training: 47506it [23:22, 10.13it/s]"
     ]
    },
    {
     "name": "stdout",
     "output_type": "stream",
     "text": [
      "loss for step 47500 : 2.303873502199923  :  Accuracy: 24.253731343283583 %\n"
     ]
    },
    {
     "name": "stderr",
     "output_type": "stream",
     "text": [
      "Training: 47997it [23:33, 47.93it/s]\n",
      "Validation: 0it [00:00, ?it/s]\u001b[A\n",
      "Validation: 9it [00:00, 85.51it/s]\u001b[A\n",
      "Validation: 21it [00:00, 103.37it/s]\u001b[A\n",
      "Validation: 33it [00:00, 110.75it/s]\u001b[A\n",
      "Validation: 47it [00:00, 121.33it/s]\u001b[A\n",
      "Validation: 60it [00:00, 116.74it/s]\u001b[A\n",
      "Validation: 74it [00:00, 121.79it/s]\u001b[A\n",
      "Validation: 87it [00:00, 121.66it/s]\u001b[A\n",
      "Validation: 100it [00:00, 121.52it/s]\u001b[A\n",
      "Validation: 113it [00:01, 102.27it/s]\u001b[A\n",
      "Validation: 126it [00:01, 108.97it/s]\u001b[A\n",
      "Validation: 141it [00:01, 119.71it/s]\u001b[A\n",
      "Validation: 156it [00:01, 127.63it/s]\u001b[A\n",
      "Validation: 170it [00:01, 127.82it/s]\u001b[A\n",
      "Validation: 184it [00:01, 127.07it/s]\u001b[A\n",
      "Validation: 201it [00:01, 117.52it/s]\u001b[A\n",
      "Training: 48007it [23:35, 10.54it/s]"
     ]
    },
    {
     "name": "stdout",
     "output_type": "stream",
     "text": [
      "loss for step 48000 : 2.298908275751332  :  Accuracy: 24.129353233830845 %\n"
     ]
    },
    {
     "name": "stderr",
     "output_type": "stream",
     "text": [
      "Training: 48498it [23:46, 48.48it/s]\n",
      "Validation: 0it [00:00, ?it/s]\u001b[A\n",
      "Validation: 9it [00:00, 88.46it/s]\u001b[A\n",
      "Validation: 22it [00:00, 111.95it/s]\u001b[A\n",
      "Validation: 36it [00:00, 121.03it/s]\u001b[A\n",
      "Validation: 49it [00:00, 101.37it/s]\u001b[A\n",
      "Validation: 62it [00:00, 109.70it/s]\u001b[A\n",
      "Validation: 74it [00:00, 110.66it/s]\u001b[A\n",
      "Validation: 88it [00:00, 117.82it/s]\u001b[A\n",
      "Validation: 101it [00:00, 121.03it/s]\u001b[A\n",
      "Validation: 114it [00:00, 121.11it/s]\u001b[A\n",
      "Validation: 127it [00:01, 121.45it/s]\u001b[A\n",
      "Validation: 140it [00:01, 118.07it/s]\u001b[A\n",
      "Validation: 152it [00:01, 114.98it/s]\u001b[A\n",
      "Validation: 164it [00:01, 107.50it/s]\u001b[A\n",
      "Validation: 177it [00:01, 112.09it/s]\u001b[A\n",
      "Validation: 201it [00:01, 113.37it/s]\u001b[A\n",
      "Training: 48508it [23:48, 10.46it/s]"
     ]
    },
    {
     "name": "stdout",
     "output_type": "stream",
     "text": [
      "loss for step 48500 : 2.2912703402599885  :  Accuracy: 25.31094527363184 %\n"
     ]
    },
    {
     "name": "stderr",
     "output_type": "stream",
     "text": [
      "Training: 48997it [23:58, 44.06it/s]\n",
      "Validation: 0it [00:00, ?it/s]\u001b[A\n",
      "Validation: 12it [00:00, 117.24it/s]\u001b[A\n",
      "Validation: 26it [00:00, 126.80it/s]\u001b[A\n",
      "Validation: 40it [00:00, 129.06it/s]\u001b[A\n",
      "Validation: 54it [00:00, 132.24it/s]\u001b[A\n",
      "Validation: 68it [00:00, 121.95it/s]\u001b[A\n",
      "Validation: 81it [00:00, 121.84it/s]\u001b[A\n",
      "Validation: 95it [00:00, 127.20it/s]\u001b[A\n",
      "Validation: 108it [00:00, 120.57it/s]\u001b[A\n",
      "Validation: 121it [00:00, 121.71it/s]\u001b[A\n",
      "Validation: 135it [00:01, 126.92it/s]\u001b[A\n",
      "Validation: 150it [00:01, 133.56it/s]\u001b[A\n",
      "Validation: 164it [00:01, 135.07it/s]\u001b[A\n",
      "Validation: 178it [00:01, 133.84it/s]\u001b[A\n",
      "Validation: 201it [00:01, 127.35it/s]\u001b[A\n",
      "Training: 49007it [24:00, 11.46it/s]"
     ]
    },
    {
     "name": "stdout",
     "output_type": "stream",
     "text": [
      "loss for step 49000 : 2.2914188928272  :  Accuracy: 25.746268656716417 %\n"
     ]
    },
    {
     "name": "stderr",
     "output_type": "stream",
     "text": [
      "Training: 49498it [24:11, 47.92it/s]\n",
      "Validation: 0it [00:00, ?it/s]\u001b[A\n",
      "Validation: 11it [00:00, 102.42it/s]\u001b[A\n",
      "Validation: 22it [00:00, 106.53it/s]\u001b[A\n",
      "Validation: 34it [00:00, 110.33it/s]\u001b[A\n",
      "Validation: 48it [00:00, 119.05it/s]\u001b[A\n",
      "Validation: 61it [00:00, 119.81it/s]\u001b[A\n",
      "Validation: 74it [00:00, 120.70it/s]\u001b[A\n",
      "Validation: 87it [00:00, 115.14it/s]\u001b[A\n",
      "Validation: 99it [00:00, 115.38it/s]\u001b[A\n",
      "Validation: 111it [00:00, 115.58it/s]\u001b[A\n",
      "Validation: 123it [00:01, 115.16it/s]\u001b[A\n",
      "Validation: 135it [00:01, 111.39it/s]\u001b[A\n",
      "Validation: 147it [00:01, 111.39it/s]\u001b[A\n",
      "Validation: 161it [00:01, 118.77it/s]\u001b[A\n",
      "Validation: 175it [00:01, 122.38it/s]\u001b[A\n",
      "Validation: 188it [00:01, 123.37it/s]\u001b[A\n",
      "Validation: 201it [00:01, 115.91it/s]\u001b[A\n",
      "Training: 49508it [24:13, 10.52it/s]"
     ]
    },
    {
     "name": "stdout",
     "output_type": "stream",
     "text": [
      "loss for step 49500 : 2.2879491095519184  :  Accuracy: 26.057213930348258 %\n"
     ]
    },
    {
     "name": "stderr",
     "output_type": "stream",
     "text": [
      "Training: 49998it [24:24, 44.68it/s]\n",
      "Validation: 0it [00:00, ?it/s]\u001b[A\n",
      "Validation: 10it [00:00, 95.21it/s]\u001b[A\n",
      "Validation: 20it [00:00, 90.61it/s]\u001b[A\n",
      "Validation: 32it [00:00, 102.64it/s]\u001b[A\n",
      "Validation: 45it [00:00, 111.28it/s]\u001b[A\n",
      "Validation: 58it [00:00, 114.96it/s]\u001b[A\n",
      "Validation: 70it [00:00, 116.52it/s]\u001b[A\n",
      "Validation: 82it [00:00, 117.26it/s]\u001b[A\n",
      "Validation: 94it [00:00, 117.14it/s]\u001b[A\n",
      "Validation: 107it [00:00, 120.35it/s]\u001b[A\n",
      "Validation: 121it [00:01, 122.88it/s]\u001b[A\n",
      "Validation: 134it [00:01, 106.93it/s]\u001b[A\n",
      "Validation: 146it [00:01, 101.21it/s]\u001b[A\n",
      "Validation: 161it [00:01, 112.25it/s]\u001b[A\n",
      "Validation: 174it [00:01, 115.05it/s]\u001b[A\n",
      "Validation: 186it [00:01, 113.95it/s]\u001b[A\n",
      "Validation: 201it [00:01, 112.17it/s]\u001b[A\n",
      "Training: 50008it [24:26, 10.38it/s]"
     ]
    },
    {
     "name": "stdout",
     "output_type": "stream",
     "text": [
      "loss for step 50000 : 2.2953530721996556  :  Accuracy: 25.0 %\n"
     ]
    },
    {
     "name": "stderr",
     "output_type": "stream",
     "text": [
      "Training: 50499it [24:37, 46.74it/s]\n",
      "Validation: 0it [00:00, ?it/s]\u001b[A\n",
      "Validation: 11it [00:00, 106.20it/s]\u001b[A\n",
      "Validation: 26it [00:00, 126.22it/s]\u001b[A\n",
      "Validation: 39it [00:00, 119.40it/s]\u001b[A\n",
      "Validation: 52it [00:00, 121.08it/s]\u001b[A\n",
      "Validation: 65it [00:00, 117.82it/s]\u001b[A\n",
      "Validation: 78it [00:00, 118.99it/s]\u001b[A\n",
      "Validation: 91it [00:00, 120.81it/s]\u001b[A\n",
      "Validation: 104it [00:00, 123.10it/s]\u001b[A\n",
      "Validation: 117it [00:00, 122.11it/s]\u001b[A\n",
      "Validation: 130it [00:01, 120.87it/s]\u001b[A\n",
      "Validation: 143it [00:01, 118.41it/s]\u001b[A\n",
      "Validation: 155it [00:01, 103.49it/s]\u001b[A\n",
      "Validation: 168it [00:01, 108.62it/s]\u001b[A\n",
      "Validation: 181it [00:01, 112.68it/s]\u001b[A\n",
      "Validation: 201it [00:01, 116.16it/s]\u001b[A\n",
      "Training: 50509it [24:39, 10.62it/s]"
     ]
    },
    {
     "name": "stdout",
     "output_type": "stream",
     "text": [
      "loss for step 50500 : 2.300630153115116  :  Accuracy: 24.00497512437811 %\n"
     ]
    },
    {
     "name": "stderr",
     "output_type": "stream",
     "text": [
      "Training: 50996it [24:49, 46.73it/s]\n",
      "Validation: 0it [00:00, ?it/s]\u001b[A\n",
      "Validation: 11it [00:00, 109.22it/s]\u001b[A\n",
      "Validation: 25it [00:00, 125.61it/s]\u001b[A\n",
      "Validation: 40it [00:00, 134.57it/s]\u001b[A\n",
      "Validation: 56it [00:00, 141.09it/s]\u001b[A\n",
      "Validation: 71it [00:00, 141.57it/s]\u001b[A\n",
      "Validation: 86it [00:00, 118.12it/s]\u001b[A\n",
      "Validation: 100it [00:00, 123.99it/s]\u001b[A\n",
      "Validation: 114it [00:00, 128.14it/s]\u001b[A\n",
      "Validation: 128it [00:00, 127.91it/s]\u001b[A\n",
      "Validation: 142it [00:01, 130.51it/s]\u001b[A\n",
      "Validation: 156it [00:01, 131.55it/s]\u001b[A\n",
      "Validation: 170it [00:01, 124.41it/s]\u001b[A\n",
      "Validation: 183it [00:01, 125.93it/s]\u001b[A\n",
      "Validation: 201it [00:01, 122.61it/s]\u001b[A\n",
      "Training: 51006it [24:51, 11.67it/s]"
     ]
    },
    {
     "name": "stdout",
     "output_type": "stream",
     "text": [
      "loss for step 51000 : 2.2988923960064183  :  Accuracy: 24.502487562189053 %\n"
     ]
    },
    {
     "name": "stderr",
     "output_type": "stream",
     "text": [
      "Training: 51498it [25:02, 48.43it/s]\n",
      "Validation: 0it [00:00, ?it/s]\u001b[A\n",
      "Validation: 10it [00:00, 97.60it/s]\u001b[A\n",
      "Validation: 22it [00:00, 110.10it/s]\u001b[A\n",
      "Validation: 34it [00:00, 111.31it/s]\u001b[A\n",
      "Validation: 48it [00:00, 120.52it/s]\u001b[A\n",
      "Validation: 62it [00:00, 125.29it/s]\u001b[A\n",
      "Validation: 76it [00:00, 128.87it/s]\u001b[A\n",
      "Validation: 90it [00:00, 132.14it/s]\u001b[A\n",
      "Validation: 104it [00:00, 134.10it/s]\u001b[A\n",
      "Validation: 119it [00:00, 136.53it/s]\u001b[A\n",
      "Validation: 133it [00:01, 134.94it/s]\u001b[A\n",
      "Validation: 148it [00:01, 136.53it/s]\u001b[A\n",
      "Validation: 162it [00:01, 131.62it/s]\u001b[A\n",
      "Validation: 176it [00:01, 130.82it/s]\u001b[A\n",
      "Validation: 201it [00:01, 126.75it/s]\u001b[A\n",
      "Training: 51508it [25:04, 11.36it/s]"
     ]
    },
    {
     "name": "stdout",
     "output_type": "stream",
     "text": [
      "loss for step 51500 : 2.2998747351157727  :  Accuracy: 24.253731343283583 %\n"
     ]
    },
    {
     "name": "stderr",
     "output_type": "stream",
     "text": [
      "Training: 51998it [25:14, 43.64it/s]\n",
      "Validation: 0it [00:00, ?it/s]\u001b[A\n",
      "Validation: 10it [00:00, 93.25it/s]\u001b[A\n",
      "Validation: 21it [00:00, 100.24it/s]\u001b[A\n",
      "Validation: 34it [00:00, 110.62it/s]\u001b[A\n",
      "Validation: 46it [00:00, 113.29it/s]\u001b[A\n",
      "Validation: 59it [00:00, 118.94it/s]\u001b[A\n",
      "Validation: 71it [00:00, 118.43it/s]\u001b[A\n",
      "Validation: 83it [00:00, 118.81it/s]\u001b[A\n",
      "Validation: 95it [00:00, 114.68it/s]\u001b[A\n",
      "Validation: 107it [00:00, 99.16it/s]\u001b[A\n",
      "Validation: 120it [00:01, 106.27it/s]\u001b[A\n",
      "Validation: 132it [00:01, 108.29it/s]\u001b[A\n",
      "Validation: 144it [00:01, 109.48it/s]\u001b[A\n",
      "Validation: 158it [00:01, 117.64it/s]\u001b[A\n",
      "Validation: 171it [00:01, 119.65it/s]\u001b[A\n",
      "Validation: 184it [00:01, 119.23it/s]\u001b[A\n",
      "Validation: 201it [00:01, 113.34it/s]\u001b[A\n",
      "Training: 52007it [25:16,  9.49it/s]"
     ]
    },
    {
     "name": "stdout",
     "output_type": "stream",
     "text": [
      "loss for step 52000 : 2.2990538587617637  :  Accuracy: 24.378109452736318 %\n"
     ]
    },
    {
     "name": "stderr",
     "output_type": "stream",
     "text": [
      "Training: 52498it [25:28, 48.11it/s]\n",
      "Validation: 0it [00:00, ?it/s]\u001b[A\n",
      "Validation: 9it [00:00, 86.27it/s]\u001b[A\n",
      "Validation: 21it [00:00, 104.32it/s]\u001b[A\n",
      "Validation: 32it [00:00, 106.82it/s]\u001b[A\n",
      "Validation: 43it [00:00, 107.41it/s]\u001b[A\n",
      "Validation: 58it [00:00, 119.52it/s]\u001b[A\n",
      "Validation: 72it [00:00, 124.83it/s]\u001b[A\n",
      "Validation: 85it [00:00, 125.51it/s]\u001b[A\n",
      "Validation: 98it [00:00, 116.69it/s]\u001b[A\n",
      "Validation: 111it [00:00, 118.79it/s]\u001b[A\n",
      "Validation: 123it [00:01, 118.67it/s]\u001b[A\n",
      "Validation: 136it [00:01, 119.95it/s]\u001b[A\n",
      "Validation: 149it [00:01, 122.63it/s]\u001b[A\n",
      "Validation: 162it [00:01, 117.55it/s]\u001b[A\n",
      "Validation: 175it [00:01, 120.73it/s]\u001b[A\n",
      "Validation: 201it [00:01, 119.01it/s]\u001b[A\n",
      "Training: 52508it [25:30, 11.11it/s]"
     ]
    },
    {
     "name": "stdout",
     "output_type": "stream",
     "text": [
      "loss for step 52500 : 2.2838233258593736  :  Accuracy: 26.181592039800996 %\n"
     ]
    },
    {
     "name": "stderr",
     "output_type": "stream",
     "text": [
      "Training: 52996it [25:41, 47.05it/s]\n",
      "Validation: 0it [00:00, ?it/s]\u001b[A\n",
      "Validation: 8it [00:00, 74.29it/s]\u001b[A\n",
      "Validation: 20it [00:00, 99.27it/s]\u001b[A\n",
      "Validation: 31it [00:00, 103.72it/s]\u001b[A\n",
      "Validation: 43it [00:00, 109.02it/s]\u001b[A\n",
      "Validation: 56it [00:00, 114.89it/s]\u001b[A\n",
      "Validation: 68it [00:00, 116.21it/s]\u001b[A\n",
      "Validation: 80it [00:00, 112.08it/s]\u001b[A\n",
      "Validation: 93it [00:00, 117.13it/s]\u001b[A\n",
      "Validation: 105it [00:00, 116.69it/s]\u001b[A\n",
      "Validation: 117it [00:01, 116.31it/s]\u001b[A\n",
      "Validation: 130it [00:01, 119.60it/s]\u001b[A\n",
      "Validation: 143it [00:01, 121.45it/s]\u001b[A\n",
      "Validation: 156it [00:01, 119.00it/s]\u001b[A\n",
      "Validation: 170it [00:01, 123.83it/s]\u001b[A\n",
      "Validation: 184it [00:01, 126.15it/s]\u001b[A\n",
      "Validation: 201it [00:01, 116.50it/s]\u001b[A\n",
      "Training: 53005it [25:43, 10.25it/s]"
     ]
    },
    {
     "name": "stdout",
     "output_type": "stream",
     "text": [
      "loss for step 53000 : 2.297450957606681  :  Accuracy: 23.445273631840795 %\n"
     ]
    },
    {
     "name": "stderr",
     "output_type": "stream",
     "text": [
      "Training: 53500it [25:55, 36.94it/s]\n",
      "Validation: 0it [00:00, ?it/s]\u001b[A\n",
      "Validation: 6it [00:00, 56.18it/s]\u001b[A\n",
      "Validation: 14it [00:00, 64.92it/s]\u001b[A\n",
      "Validation: 22it [00:00, 68.74it/s]\u001b[A\n",
      "Validation: 31it [00:00, 75.45it/s]\u001b[A\n",
      "Validation: 42it [00:00, 85.89it/s]\u001b[A\n",
      "Validation: 54it [00:00, 95.39it/s]\u001b[A\n",
      "Validation: 66it [00:00, 102.96it/s]\u001b[A\n",
      "Validation: 79it [00:00, 109.81it/s]\u001b[A\n",
      "Validation: 91it [00:00, 112.20it/s]\u001b[A\n",
      "Validation: 103it [00:01, 109.33it/s]\u001b[A\n",
      "Validation: 114it [00:01, 102.78it/s]\u001b[A\n",
      "Validation: 125it [00:01, 97.73it/s] \u001b[A\n",
      "Validation: 136it [00:01, 100.28it/s]\u001b[A\n",
      "Validation: 149it [00:01, 107.65it/s]\u001b[A\n",
      "Validation: 160it [00:01, 102.95it/s]\u001b[A\n",
      "Validation: 171it [00:01, 104.48it/s]\u001b[A\n",
      "Validation: 183it [00:01, 106.63it/s]\u001b[A\n",
      "Validation: 201it [00:02, 98.69it/s] \u001b[A\n",
      "Training: 53504it [25:57,  5.92it/s]"
     ]
    },
    {
     "name": "stdout",
     "output_type": "stream",
     "text": [
      "loss for step 53500 : 2.286727227381806  :  Accuracy: 25.062189054726367 %\n"
     ]
    },
    {
     "name": "stderr",
     "output_type": "stream",
     "text": [
      "Training: 53997it [26:09, 37.32it/s]\n",
      "Validation: 0it [00:00, ?it/s]\u001b[A\n",
      "Validation: 8it [00:00, 79.97it/s]\u001b[A\n",
      "Validation: 20it [00:00, 100.48it/s]\u001b[A\n",
      "Validation: 32it [00:00, 108.00it/s]\u001b[A\n",
      "Validation: 45it [00:00, 113.11it/s]\u001b[A\n",
      "Validation: 58it [00:00, 116.00it/s]\u001b[A\n",
      "Validation: 71it [00:00, 118.01it/s]\u001b[A\n",
      "Validation: 83it [00:00, 116.65it/s]\u001b[A\n",
      "Validation: 95it [00:00, 113.20it/s]\u001b[A\n",
      "Validation: 107it [00:00, 100.46it/s]\u001b[A\n",
      "Validation: 119it [00:01, 103.62it/s]\u001b[A\n",
      "Validation: 132it [00:01, 109.34it/s]\u001b[A\n",
      "Validation: 145it [00:01, 113.14it/s]\u001b[A\n",
      "Validation: 157it [00:01, 113.51it/s]\u001b[A\n",
      "Validation: 169it [00:01, 114.87it/s]\u001b[A\n",
      "Validation: 181it [00:01, 109.78it/s]\u001b[A\n",
      "Validation: 201it [00:01, 105.23it/s]\u001b[A\n",
      "Training: 54005it [26:11,  8.45it/s]"
     ]
    },
    {
     "name": "stdout",
     "output_type": "stream",
     "text": [
      "loss for step 54000 : 2.2843627348468076  :  Accuracy: 26.30597014925373 %\n"
     ]
    },
    {
     "name": "stderr",
     "output_type": "stream",
     "text": [
      "Training: 54496it [26:24, 40.58it/s]\n",
      "Validation: 0it [00:00, ?it/s]\u001b[A\n",
      "Validation: 9it [00:00, 85.17it/s]\u001b[A\n",
      "Validation: 22it [00:00, 108.61it/s]\u001b[A\n",
      "Validation: 35it [00:00, 115.90it/s]\u001b[A\n",
      "Validation: 47it [00:00, 110.26it/s]\u001b[A\n",
      "Validation: 59it [00:00, 109.22it/s]\u001b[A\n",
      "Validation: 72it [00:00, 113.46it/s]\u001b[A\n",
      "Validation: 85it [00:00, 116.75it/s]\u001b[A\n",
      "Validation: 97it [00:00, 109.58it/s]\u001b[A\n",
      "Validation: 109it [00:00, 108.52it/s]\u001b[A\n",
      "Validation: 120it [00:01, 108.47it/s]\u001b[A\n",
      "Validation: 133it [00:01, 112.91it/s]\u001b[A\n",
      "Validation: 146it [00:01, 116.21it/s]\u001b[A\n",
      "Validation: 158it [00:01, 110.59it/s]\u001b[A\n",
      "Validation: 170it [00:01, 112.22it/s]\u001b[A\n",
      "Validation: 182it [00:01, 110.00it/s]\u001b[A\n",
      "Validation: 201it [00:01, 109.16it/s]\u001b[A\n",
      "Training: 54505it [26:26,  9.28it/s]"
     ]
    },
    {
     "name": "stdout",
     "output_type": "stream",
     "text": [
      "loss for step 54500 : 2.2917072778910548  :  Accuracy: 25.124378109452735 %\n"
     ]
    },
    {
     "name": "stderr",
     "output_type": "stream",
     "text": [
      "Training: 54998it [26:38, 43.69it/s]\n",
      "Validation: 0it [00:00, ?it/s]\u001b[A\n",
      "Validation: 8it [00:00, 75.71it/s]\u001b[A\n",
      "Validation: 16it [00:00, 69.27it/s]\u001b[A\n",
      "Validation: 26it [00:00, 79.71it/s]\u001b[A\n",
      "Validation: 38it [00:00, 93.32it/s]\u001b[A\n",
      "Validation: 50it [00:00, 100.18it/s]\u001b[A\n",
      "Validation: 61it [00:00, 98.06it/s] \u001b[A\n",
      "Validation: 74it [00:00, 106.30it/s]\u001b[A\n",
      "Validation: 87it [00:00, 112.32it/s]\u001b[A\n",
      "Validation: 100it [00:00, 115.26it/s]\u001b[A\n",
      "Validation: 112it [00:01, 116.28it/s]\u001b[A\n",
      "Validation: 124it [00:01, 111.76it/s]\u001b[A\n",
      "Validation: 136it [00:01, 112.47it/s]\u001b[A\n",
      "Validation: 149it [00:01, 114.99it/s]\u001b[A\n",
      "Validation: 162it [00:01, 116.76it/s]\u001b[A\n",
      "Validation: 174it [00:01, 117.00it/s]\u001b[A\n",
      "Validation: 186it [00:01, 112.04it/s]\u001b[A\n",
      "Validation: 201it [00:01, 106.25it/s]\u001b[A\n",
      "Training: 55008it [26:40,  9.67it/s]"
     ]
    },
    {
     "name": "stdout",
     "output_type": "stream",
     "text": [
      "loss for step 55000 : 2.29807000136494  :  Accuracy: 24.31592039800995 %\n"
     ]
    },
    {
     "name": "stderr",
     "output_type": "stream",
     "text": [
      "Training: 55498it [26:52, 41.62it/s]\n",
      "Validation: 0it [00:00, ?it/s]\u001b[A\n",
      "Validation: 9it [00:00, 85.34it/s]\u001b[A\n",
      "Validation: 21it [00:00, 102.41it/s]\u001b[A\n",
      "Validation: 32it [00:00, 98.05it/s] \u001b[A\n",
      "Validation: 44it [00:00, 103.31it/s]\u001b[A\n",
      "Validation: 55it [00:00, 83.91it/s] \u001b[A\n",
      "Validation: 64it [00:00, 81.36it/s]\u001b[A\n",
      "Validation: 77it [00:00, 93.14it/s]\u001b[A\n",
      "Validation: 89it [00:00, 100.02it/s]\u001b[A\n",
      "Validation: 102it [00:01, 106.57it/s]\u001b[A\n",
      "Validation: 115it [00:01, 111.75it/s]\u001b[A\n",
      "Validation: 128it [00:01, 115.44it/s]\u001b[A\n",
      "Validation: 141it [00:01, 117.90it/s]\u001b[A\n",
      "Validation: 153it [00:01, 105.71it/s]\u001b[A\n",
      "Validation: 164it [00:01, 103.82it/s]\u001b[A\n",
      "Validation: 176it [00:01, 108.11it/s]\u001b[A\n",
      "Validation: 201it [00:01, 104.60it/s]\u001b[A\n",
      "Training: 55508it [26:55,  9.60it/s]"
     ]
    },
    {
     "name": "stdout",
     "output_type": "stream",
     "text": [
      "loss for step 55500 : 2.284505023885129  :  Accuracy: 26.554726368159205 %\n"
     ]
    },
    {
     "name": "stderr",
     "output_type": "stream",
     "text": [
      "Training: 55998it [27:07, 43.18it/s]\n",
      "Validation: 0it [00:00, ?it/s]\u001b[A\n",
      "Validation: 7it [00:00, 68.04it/s]\u001b[A\n",
      "Validation: 17it [00:00, 84.98it/s]\u001b[A\n",
      "Validation: 26it [00:00, 85.86it/s]\u001b[A\n",
      "Validation: 35it [00:00, 77.47it/s]\u001b[A\n",
      "Validation: 47it [00:00, 89.21it/s]\u001b[A\n",
      "Validation: 58it [00:00, 94.53it/s]\u001b[A\n",
      "Validation: 70it [00:00, 101.09it/s]\u001b[A\n",
      "Validation: 82it [00:00, 106.46it/s]\u001b[A\n",
      "Validation: 93it [00:00, 101.53it/s]\u001b[A\n",
      "Validation: 104it [00:01, 100.01it/s]\u001b[A\n",
      "Validation: 115it [00:01, 96.28it/s] \u001b[A\n",
      "Validation: 125it [00:01, 87.56it/s]\u001b[A\n",
      "Validation: 134it [00:01, 88.05it/s]\u001b[A\n",
      "Validation: 148it [00:01, 100.38it/s]\u001b[A\n",
      "Validation: 159it [00:01, 101.22it/s]\u001b[A\n",
      "Validation: 170it [00:01, 100.85it/s]\u001b[A\n",
      "Validation: 181it [00:01, 101.39it/s]\u001b[A\n",
      "Validation: 201it [00:02, 96.98it/s] \u001b[A\n",
      "Training: 56007it [27:09,  8.55it/s]"
     ]
    },
    {
     "name": "stdout",
     "output_type": "stream",
     "text": [
      "loss for step 56000 : 2.288307434290796  :  Accuracy: 26.119402985074625 %\n"
     ]
    },
    {
     "name": "stderr",
     "output_type": "stream",
     "text": [
      "Training: 56499it [27:21, 43.70it/s]\n",
      "Validation: 0it [00:00, ?it/s]\u001b[A\n",
      "Validation: 9it [00:00, 84.24it/s]\u001b[A\n",
      "Validation: 19it [00:00, 91.77it/s]\u001b[A\n",
      "Validation: 30it [00:00, 99.24it/s]\u001b[A\n",
      "Validation: 43it [00:00, 107.96it/s]\u001b[A\n",
      "Validation: 56it [00:00, 113.28it/s]\u001b[A\n",
      "Validation: 68it [00:00, 107.53it/s]\u001b[A\n",
      "Validation: 80it [00:00, 108.50it/s]\u001b[A\n",
      "Validation: 91it [00:00, 106.32it/s]\u001b[A\n",
      "Validation: 102it [00:00, 104.90it/s]\u001b[A\n",
      "Validation: 115it [00:01, 110.76it/s]\u001b[A\n",
      "Validation: 127it [00:01, 93.95it/s] \u001b[A\n",
      "Validation: 137it [00:01, 89.39it/s]\u001b[A\n",
      "Validation: 147it [00:01, 90.88it/s]\u001b[A\n",
      "Validation: 159it [00:01, 98.49it/s]\u001b[A\n",
      "Validation: 170it [00:01, 96.06it/s]\u001b[A\n",
      "Validation: 183it [00:01, 103.79it/s]\u001b[A\n",
      "Validation: 201it [00:01, 102.15it/s]\u001b[A\n",
      "Training: 56509it [27:23,  9.42it/s]"
     ]
    },
    {
     "name": "stdout",
     "output_type": "stream",
     "text": [
      "loss for step 56500 : 2.290147122459032  :  Accuracy: 24.937810945273633 %\n"
     ]
    },
    {
     "name": "stderr",
     "output_type": "stream",
     "text": [
      "Training: 56997it [27:35, 40.12it/s]\n",
      "Validation: 0it [00:00, ?it/s]\u001b[A\n",
      "Validation: 8it [00:00, 73.29it/s]\u001b[A\n",
      "Validation: 19it [00:00, 91.93it/s]\u001b[A\n",
      "Validation: 29it [00:00, 95.22it/s]\u001b[A\n",
      "Validation: 40it [00:00, 99.05it/s]\u001b[A\n",
      "Validation: 52it [00:00, 105.79it/s]\u001b[A\n",
      "Validation: 64it [00:00, 107.93it/s]\u001b[A\n",
      "Validation: 75it [00:00, 99.41it/s] \u001b[A\n",
      "Validation: 86it [00:00, 89.22it/s]\u001b[A\n",
      "Validation: 96it [00:01, 85.96it/s]\u001b[A\n",
      "Validation: 105it [00:01, 82.90it/s]\u001b[A\n",
      "Validation: 114it [00:01, 84.04it/s]\u001b[A\n",
      "Validation: 126it [00:01, 92.50it/s]\u001b[A\n",
      "Validation: 136it [00:01, 94.18it/s]\u001b[A\n",
      "Validation: 146it [00:01, 91.76it/s]\u001b[A\n",
      "Validation: 156it [00:01, 90.80it/s]\u001b[A\n",
      "Validation: 166it [00:01, 91.13it/s]\u001b[A\n",
      "Validation: 176it [00:01, 79.32it/s]\u001b[A\n",
      "Validation: 188it [00:02, 87.84it/s]\u001b[A\n",
      "Validation: 201it [00:02, 88.84it/s]\u001b[A\n",
      "Training: 57005it [27:38,  7.35it/s]"
     ]
    },
    {
     "name": "stdout",
     "output_type": "stream",
     "text": [
      "loss for step 57000 : 2.2911868558001163  :  Accuracy: 25.0 %\n"
     ]
    },
    {
     "name": "stderr",
     "output_type": "stream",
     "text": [
      "Training: 57497it [27:50, 39.37it/s]\n",
      "Validation: 0it [00:00, ?it/s]\u001b[A\n",
      "Validation: 6it [00:00, 55.29it/s]\u001b[A\n",
      "Validation: 16it [00:00, 80.60it/s]\u001b[A\n",
      "Validation: 25it [00:00, 78.78it/s]\u001b[A\n",
      "Validation: 37it [00:00, 91.77it/s]\u001b[A\n",
      "Validation: 47it [00:00, 92.99it/s]\u001b[A\n",
      "Validation: 60it [00:00, 103.83it/s]\u001b[A\n",
      "Validation: 72it [00:00, 107.05it/s]\u001b[A\n",
      "Validation: 83it [00:00, 103.21it/s]\u001b[A\n",
      "Validation: 95it [00:00, 106.70it/s]\u001b[A\n",
      "Validation: 108it [00:01, 110.82it/s]\u001b[A\n",
      "Validation: 120it [00:01, 101.11it/s]\u001b[A\n",
      "Validation: 133it [00:01, 107.60it/s]\u001b[A\n",
      "Validation: 144it [00:01, 105.70it/s]\u001b[A\n",
      "Validation: 157it [00:01, 110.60it/s]\u001b[A\n",
      "Validation: 169it [00:01, 106.10it/s]\u001b[A\n",
      "Validation: 180it [00:01, 95.43it/s] \u001b[A\n",
      "Validation: 201it [00:02, 99.89it/s]\u001b[A\n",
      "Training: 57506it [27:53,  8.79it/s]"
     ]
    },
    {
     "name": "stdout",
     "output_type": "stream",
     "text": [
      "loss for step 57500 : 2.289772336755819  :  Accuracy: 25.37313432835821 %\n"
     ]
    },
    {
     "name": "stderr",
     "output_type": "stream",
     "text": [
      "Training: 57996it [28:05, 40.27it/s]\n",
      "Validation: 0it [00:00, ?it/s]\u001b[A\n",
      "Validation: 9it [00:00, 84.68it/s]\u001b[A\n",
      "Validation: 18it [00:00, 74.81it/s]\u001b[A\n",
      "Validation: 29it [00:00, 88.83it/s]\u001b[A\n",
      "Validation: 39it [00:00, 88.14it/s]\u001b[A\n",
      "Validation: 50it [00:00, 92.91it/s]\u001b[A\n",
      "Validation: 60it [00:00, 89.01it/s]\u001b[A\n",
      "Validation: 71it [00:00, 94.98it/s]\u001b[A\n",
      "Validation: 81it [00:00, 96.42it/s]\u001b[A\n",
      "Validation: 91it [00:00, 93.61it/s]\u001b[A\n",
      "Validation: 101it [00:01, 90.36it/s]\u001b[A\n",
      "Validation: 111it [00:01, 82.95it/s]\u001b[A\n",
      "Validation: 124it [00:01, 94.14it/s]\u001b[A\n",
      "Validation: 134it [00:01, 93.99it/s]\u001b[A\n",
      "Validation: 145it [00:01, 96.41it/s]\u001b[A\n",
      "Validation: 155it [00:01, 93.06it/s]\u001b[A\n",
      "Validation: 165it [00:01, 92.42it/s]\u001b[A\n",
      "Validation: 175it [00:01, 89.29it/s]\u001b[A\n",
      "Validation: 184it [00:02, 86.32it/s]\u001b[A\n",
      "Validation: 201it [00:02, 87.87it/s]\u001b[A\n",
      "Training: 58005it [28:07,  7.74it/s]"
     ]
    },
    {
     "name": "stdout",
     "output_type": "stream",
     "text": [
      "loss for step 58000 : 2.2822637842662297  :  Accuracy: 26.30597014925373 %\n"
     ]
    },
    {
     "name": "stderr",
     "output_type": "stream",
     "text": [
      "Training: 58498it [28:20, 42.41it/s]\n",
      "Validation: 0it [00:00, ?it/s]\u001b[A\n",
      "Validation: 6it [00:00, 59.54it/s]\u001b[A\n",
      "Validation: 16it [00:00, 79.58it/s]\u001b[A\n",
      "Validation: 28it [00:00, 96.17it/s]\u001b[A\n",
      "Validation: 38it [00:00, 96.20it/s]\u001b[A\n",
      "Validation: 49it [00:00, 99.02it/s]\u001b[A\n",
      "Validation: 62it [00:00, 106.83it/s]\u001b[A\n",
      "Validation: 73it [00:00, 106.30it/s]\u001b[A\n",
      "Validation: 84it [00:00, 96.12it/s] \u001b[A\n",
      "Validation: 94it [00:00, 92.75it/s]\u001b[A\n",
      "Validation: 105it [00:01, 97.06it/s]\u001b[A\n",
      "Validation: 118it [00:01, 104.89it/s]\u001b[A\n",
      "Validation: 129it [00:01, 104.91it/s]\u001b[A\n",
      "Validation: 140it [00:01, 105.62it/s]\u001b[A\n",
      "Validation: 151it [00:01, 93.41it/s] \u001b[A\n",
      "Validation: 162it [00:01, 96.71it/s]\u001b[A\n",
      "Validation: 173it [00:01, 97.90it/s]\u001b[A\n",
      "Validation: 186it [00:01, 104.69it/s]\u001b[A\n",
      "Validation: 201it [00:02, 100.29it/s]\u001b[A\n",
      "Training: 58508it [28:22,  9.24it/s]"
     ]
    },
    {
     "name": "stdout",
     "output_type": "stream",
     "text": [
      "loss for step 58500 : 2.304850198736238  :  Accuracy: 23.69402985074627 %\n"
     ]
    },
    {
     "name": "stderr",
     "output_type": "stream",
     "text": [
      "Training: 59000it [28:35, 31.17it/s]\n",
      "Validation: 0it [00:00, ?it/s]\u001b[A\n",
      "Validation: 7it [00:00, 62.39it/s]\u001b[A\n",
      "Validation: 14it [00:00, 53.04it/s]\u001b[A\n",
      "Validation: 21it [00:00, 57.75it/s]\u001b[A\n",
      "Validation: 31it [00:00, 71.66it/s]\u001b[A\n",
      "Validation: 39it [00:00, 71.29it/s]\u001b[A\n",
      "Validation: 47it [00:00, 71.78it/s]\u001b[A\n",
      "Validation: 55it [00:00, 71.85it/s]\u001b[A\n",
      "Validation: 63it [00:00, 61.97it/s]\u001b[A\n",
      "Validation: 73it [00:01, 71.09it/s]\u001b[A\n",
      "Validation: 83it [00:01, 77.16it/s]\u001b[A\n",
      "Validation: 91it [00:01, 71.82it/s]\u001b[A\n",
      "Validation: 99it [00:01, 56.30it/s]\u001b[A\n",
      "Validation: 106it [00:01, 48.41it/s]\u001b[A\n",
      "Validation: 112it [00:01, 44.00it/s]\u001b[A\n",
      "Validation: 117it [00:02, 38.58it/s]\u001b[A\n",
      "Validation: 125it [00:02, 46.77it/s]\u001b[A\n",
      "Validation: 132it [00:02, 51.61it/s]\u001b[A\n",
      "Validation: 138it [00:02, 41.35it/s]\u001b[A\n",
      "Validation: 143it [00:02, 29.95it/s]\u001b[A\n",
      "Validation: 151it [00:02, 38.09it/s]\u001b[A\n",
      "Validation: 161it [00:03, 49.85it/s]\u001b[A\n",
      "Validation: 169it [00:03, 55.19it/s]\u001b[A\n",
      "Validation: 176it [00:03, 54.76it/s]\u001b[A\n",
      "Validation: 183it [00:03, 46.22it/s]\u001b[A\n",
      "Validation: 189it [00:03, 41.19it/s]\u001b[A\n",
      "Validation: 194it [00:03, 40.13it/s]\u001b[A\n",
      "Validation: 201it [00:04, 49.64it/s]\u001b[A\n",
      "Training: 59004it [28:39,  3.06it/s]"
     ]
    },
    {
     "name": "stdout",
     "output_type": "stream",
     "text": [
      "loss for step 59000 : 2.282816139619742  :  Accuracy: 26.554726368159205 %\n"
     ]
    },
    {
     "name": "stderr",
     "output_type": "stream",
     "text": [
      "Training: 59500it [28:53, 42.05it/s]\n",
      "Validation: 0it [00:00, ?it/s]\u001b[A\n",
      "Validation: 6it [00:00, 55.05it/s]\u001b[A\n",
      "Validation: 15it [00:00, 73.95it/s]\u001b[A\n",
      "Validation: 27it [00:00, 91.92it/s]\u001b[A\n",
      "Validation: 39it [00:00, 99.66it/s]\u001b[A\n",
      "Validation: 49it [00:00, 92.83it/s]\u001b[A\n",
      "Validation: 59it [00:00, 92.50it/s]\u001b[A\n",
      "Validation: 69it [00:00, 91.56it/s]\u001b[A\n",
      "Validation: 79it [00:00, 90.72it/s]\u001b[A\n",
      "Validation: 89it [00:01, 87.82it/s]\u001b[A\n",
      "Validation: 98it [00:01, 80.96it/s]\u001b[A\n",
      "Validation: 108it [00:01, 85.66it/s]\u001b[A\n",
      "Validation: 120it [00:01, 94.24it/s]\u001b[A\n",
      "Validation: 133it [00:01, 102.07it/s]\u001b[A\n",
      "Validation: 145it [00:01, 104.63it/s]\u001b[A\n",
      "Validation: 157it [00:01, 107.56it/s]\u001b[A\n",
      "Validation: 168it [00:01, 98.13it/s] \u001b[A\n",
      "Validation: 178it [00:01, 95.12it/s]\u001b[A\n",
      "Validation: 188it [00:02, 89.74it/s]\u001b[A\n",
      "Validation: 201it [00:02, 90.27it/s]\u001b[A\n",
      "Training: 59505it [28:55,  6.23it/s]"
     ]
    },
    {
     "name": "stdout",
     "output_type": "stream",
     "text": [
      "loss for step 59500 : 2.295165765937881  :  Accuracy: 24.62686567164179 %\n"
     ]
    },
    {
     "name": "stderr",
     "output_type": "stream",
     "text": [
      "Training: 59998it [29:08, 37.46it/s]\n",
      "Validation: 0it [00:00, ?it/s]\u001b[A\n",
      "Validation: 7it [00:00, 67.97it/s]\u001b[A\n",
      "Validation: 15it [00:00, 71.24it/s]\u001b[A\n",
      "Validation: 25it [00:00, 80.92it/s]\u001b[A\n",
      "Validation: 38it [00:00, 97.22it/s]\u001b[A\n",
      "Validation: 51it [00:00, 107.07it/s]\u001b[A\n",
      "Validation: 62it [00:00, 104.80it/s]\u001b[A\n",
      "Validation: 73it [00:00, 91.41it/s] \u001b[A\n",
      "Validation: 86it [00:00, 100.81it/s]\u001b[A\n",
      "Validation: 99it [00:01, 108.05it/s]\u001b[A\n",
      "Validation: 112it [00:01, 112.83it/s]\u001b[A\n",
      "Validation: 125it [00:01, 115.66it/s]\u001b[A\n",
      "Validation: 138it [00:01, 117.73it/s]\u001b[A\n",
      "Validation: 150it [00:01, 111.21it/s]\u001b[A\n",
      "Validation: 162it [00:01, 110.10it/s]\u001b[A\n",
      "Validation: 175it [00:01, 114.01it/s]\u001b[A\n",
      "Validation: 187it [00:01, 94.25it/s] \u001b[A\n",
      "Validation: 201it [00:01, 101.46it/s][A\n",
      "Training: 60005it [29:11,  7.58it/s]"
     ]
    },
    {
     "name": "stdout",
     "output_type": "stream",
     "text": [
      "loss for step 60000 : 2.286797534173994  :  Accuracy: 25.497512437810947 %\n"
     ]
    },
    {
     "name": "stderr",
     "output_type": "stream",
     "text": [
      "Training: 60496it [29:23, 41.76it/s]\n",
      "Validation: 0it [00:00, ?it/s]\u001b[A\n",
      "Validation: 8it [00:00, 69.55it/s]\u001b[A\n",
      "Validation: 17it [00:00, 79.61it/s]\u001b[A\n",
      "Validation: 27it [00:00, 88.27it/s]\u001b[A\n",
      "Validation: 36it [00:00, 88.54it/s]\u001b[A\n",
      "Validation: 46it [00:00, 90.91it/s]\u001b[A\n",
      "Validation: 57it [00:00, 95.71it/s]\u001b[A\n",
      "Validation: 68it [00:00, 99.49it/s]\u001b[A\n",
      "Validation: 81it [00:00, 107.50it/s]\u001b[A\n",
      "Validation: 94it [00:00, 111.84it/s]\u001b[A\n",
      "Validation: 107it [00:01, 116.25it/s]\u001b[A\n",
      "Validation: 119it [00:01, 114.12it/s]\u001b[A\n",
      "Validation: 131it [00:01, 112.26it/s]\u001b[A\n",
      "Validation: 143it [00:01, 109.47it/s]\u001b[A\n",
      "Validation: 154it [00:01, 105.08it/s]\u001b[A\n",
      "Validation: 166it [00:01, 108.54it/s]\u001b[A\n",
      "Validation: 179it [00:01, 112.46it/s]\u001b[A\n",
      "Validation: 201it [00:01, 106.28it/s]\u001b[A\n",
      "Training: 60506it [29:25,  9.49it/s]"
     ]
    },
    {
     "name": "stdout",
     "output_type": "stream",
     "text": [
      "loss for step 60500 : 2.2960530703340596  :  Accuracy: 24.129353233830845 %\n"
     ]
    },
    {
     "name": "stderr",
     "output_type": "stream",
     "text": [
      "Training: 60998it [29:37, 38.93it/s]\n",
      "Validation: 0it [00:00, ?it/s]\u001b[A\n",
      "Validation: 9it [00:00, 84.51it/s]\u001b[A\n",
      "Validation: 22it [00:00, 107.72it/s]\u001b[A\n",
      "Validation: 35it [00:00, 115.80it/s]\u001b[A\n",
      "Validation: 47it [00:00, 109.47it/s]\u001b[A\n",
      "Validation: 59it [00:00, 107.02it/s]\u001b[A\n",
      "Validation: 72it [00:00, 113.20it/s]\u001b[A\n",
      "Validation: 84it [00:00, 106.65it/s]\u001b[A\n",
      "Validation: 95it [00:00, 105.33it/s]\u001b[A\n",
      "Validation: 106it [00:00, 103.06it/s]\u001b[A\n",
      "Validation: 119it [00:01, 109.34it/s]\u001b[A\n",
      "Validation: 130it [00:01, 101.13it/s]\u001b[A\n",
      "Validation: 142it [00:01, 105.05it/s]\u001b[A\n",
      "Validation: 153it [00:01, 103.29it/s]\u001b[A\n",
      "Validation: 165it [00:01, 107.69it/s]\u001b[A\n",
      "Validation: 177it [00:01, 110.34it/s]\u001b[A\n",
      "Validation: 189it [00:01, 111.20it/s]\u001b[A\n",
      "Validation: 201it [00:01, 105.83it/s]\u001b[A\n",
      "Training: 61007it [29:39,  8.91it/s]"
     ]
    },
    {
     "name": "stdout",
     "output_type": "stream",
     "text": [
      "loss for step 61000 : 2.29391723841577  :  Accuracy: 23.880597014925375 %\n"
     ]
    },
    {
     "name": "stderr",
     "output_type": "stream",
     "text": [
      "Training: 61498it [29:51, 37.32it/s]\n",
      "Validation: 0it [00:00, ?it/s]\u001b[A\n",
      "Validation: 9it [00:00, 85.47it/s]\u001b[A\n",
      "Validation: 21it [00:00, 104.55it/s]\u001b[A\n",
      "Validation: 33it [00:00, 108.75it/s]\u001b[A\n",
      "Validation: 44it [00:00, 89.16it/s] \u001b[A\n",
      "Validation: 54it [00:00, 81.91it/s]\u001b[A\n",
      "Validation: 63it [00:00, 71.62it/s]\u001b[A\n",
      "Validation: 73it [00:00, 78.58it/s]\u001b[A\n",
      "Validation: 83it [00:00, 82.88it/s]\u001b[A\n",
      "Validation: 93it [00:01, 87.36it/s]\u001b[A\n",
      "Validation: 104it [00:01, 91.28it/s]\u001b[A\n",
      "Validation: 115it [00:01, 94.11it/s]\u001b[A\n",
      "Validation: 125it [00:01, 94.28it/s]\u001b[A\n",
      "Validation: 137it [00:01, 100.70it/s]\u001b[A\n",
      "Validation: 148it [00:01, 103.16it/s]\u001b[A\n",
      "Validation: 159it [00:01, 99.54it/s] \u001b[A\n",
      "Validation: 170it [00:01, 101.77it/s]\u001b[A\n",
      "Validation: 183it [00:01, 108.18it/s]\u001b[A\n",
      "Validation: 201it [00:02, 91.92it/s] \u001b[A\n",
      "Training: 61506it [29:54,  7.36it/s]"
     ]
    },
    {
     "name": "stdout",
     "output_type": "stream",
     "text": [
      "loss for step 61500 : 2.297572692235311  :  Accuracy: 24.564676616915424 %\n"
     ]
    },
    {
     "name": "stderr",
     "output_type": "stream",
     "text": [
      "Training: 61674it [29:59, 34.28it/s]\n"
     ]
    },
    {
     "ename": "KeyboardInterrupt",
     "evalue": "",
     "output_type": "error",
     "traceback": [
      "\u001b[0;31m---------------------------------------------------------------------------\u001b[0m",
      "\u001b[0;31mKeyboardInterrupt\u001b[0m                         Traceback (most recent call last)",
      "Cell \u001b[0;32mIn[9], line 18\u001b[0m\n\u001b[1;32m     15\u001b[0m optimizer\u001b[38;5;241m.\u001b[39mzero_grad()\n\u001b[1;32m     17\u001b[0m loss\u001b[38;5;241m.\u001b[39mbackward()\n\u001b[0;32m---> 18\u001b[0m \u001b[43moptimizer\u001b[49m\u001b[38;5;241;43m.\u001b[39;49m\u001b[43mstep\u001b[49m\u001b[43m(\u001b[49m\u001b[43m)\u001b[49m\n\u001b[1;32m     20\u001b[0m \u001b[38;5;28;01mif\u001b[39;00m step \u001b[38;5;241m%\u001b[39m globalStep \u001b[38;5;241m==\u001b[39m \u001b[38;5;241m0\u001b[39m:\n\u001b[1;32m     21\u001b[0m    \n\u001b[1;32m     22\u001b[0m    \u001b[38;5;66;03m# scheduler.step()\u001b[39;00m\n\u001b[1;32m     23\u001b[0m    \u001b[38;5;66;03m# print(output.detach().numpy())\u001b[39;00m\n\u001b[1;32m     24\u001b[0m    \u001b[38;5;66;03m# print(y_train.numpy())\u001b[39;00m\n\u001b[1;32m     26\u001b[0m    \u001b[38;5;28;01mwith\u001b[39;00m torch\u001b[38;5;241m.\u001b[39mno_grad():\n",
      "File \u001b[0;32m~/miniconda3/envs/wavenet/lib/python3.10/site-packages/torch/optim/lr_scheduler.py:69\u001b[0m, in \u001b[0;36mLRScheduler.__init__.<locals>.with_counter.<locals>.wrapper\u001b[0;34m(*args, **kwargs)\u001b[0m\n\u001b[1;32m     67\u001b[0m instance\u001b[38;5;241m.\u001b[39m_step_count \u001b[38;5;241m+\u001b[39m\u001b[38;5;241m=\u001b[39m \u001b[38;5;241m1\u001b[39m\n\u001b[1;32m     68\u001b[0m wrapped \u001b[38;5;241m=\u001b[39m func\u001b[38;5;241m.\u001b[39m\u001b[38;5;21m__get__\u001b[39m(instance, \u001b[38;5;28mcls\u001b[39m)\n\u001b[0;32m---> 69\u001b[0m \u001b[38;5;28;01mreturn\u001b[39;00m \u001b[43mwrapped\u001b[49m\u001b[43m(\u001b[49m\u001b[38;5;241;43m*\u001b[39;49m\u001b[43margs\u001b[49m\u001b[43m,\u001b[49m\u001b[43m \u001b[49m\u001b[38;5;241;43m*\u001b[39;49m\u001b[38;5;241;43m*\u001b[39;49m\u001b[43mkwargs\u001b[49m\u001b[43m)\u001b[49m\n",
      "File \u001b[0;32m~/miniconda3/envs/wavenet/lib/python3.10/site-packages/torch/optim/optimizer.py:280\u001b[0m, in \u001b[0;36mOptimizer.profile_hook_step.<locals>.wrapper\u001b[0;34m(*args, **kwargs)\u001b[0m\n\u001b[1;32m    276\u001b[0m         \u001b[38;5;28;01melse\u001b[39;00m:\n\u001b[1;32m    277\u001b[0m             \u001b[38;5;28;01mraise\u001b[39;00m \u001b[38;5;167;01mRuntimeError\u001b[39;00m(\u001b[38;5;124mf\u001b[39m\u001b[38;5;124m\"\u001b[39m\u001b[38;5;132;01m{\u001b[39;00mfunc\u001b[38;5;132;01m}\u001b[39;00m\u001b[38;5;124m must return None or a tuple of (new_args, new_kwargs),\u001b[39m\u001b[38;5;124m\"\u001b[39m\n\u001b[1;32m    278\u001b[0m                                \u001b[38;5;124mf\u001b[39m\u001b[38;5;124m\"\u001b[39m\u001b[38;5;124mbut got \u001b[39m\u001b[38;5;132;01m{\u001b[39;00mresult\u001b[38;5;132;01m}\u001b[39;00m\u001b[38;5;124m.\u001b[39m\u001b[38;5;124m\"\u001b[39m)\n\u001b[0;32m--> 280\u001b[0m out \u001b[38;5;241m=\u001b[39m \u001b[43mfunc\u001b[49m\u001b[43m(\u001b[49m\u001b[38;5;241;43m*\u001b[39;49m\u001b[43margs\u001b[49m\u001b[43m,\u001b[49m\u001b[43m \u001b[49m\u001b[38;5;241;43m*\u001b[39;49m\u001b[38;5;241;43m*\u001b[39;49m\u001b[43mkwargs\u001b[49m\u001b[43m)\u001b[49m\n\u001b[1;32m    281\u001b[0m \u001b[38;5;28mself\u001b[39m\u001b[38;5;241m.\u001b[39m_optimizer_step_code()\n\u001b[1;32m    283\u001b[0m \u001b[38;5;66;03m# call optimizer step post hooks\u001b[39;00m\n",
      "File \u001b[0;32m~/miniconda3/envs/wavenet/lib/python3.10/site-packages/torch/optim/optimizer.py:33\u001b[0m, in \u001b[0;36m_use_grad_for_differentiable.<locals>._use_grad\u001b[0;34m(self, *args, **kwargs)\u001b[0m\n\u001b[1;32m     31\u001b[0m \u001b[38;5;28;01mtry\u001b[39;00m:\n\u001b[1;32m     32\u001b[0m     torch\u001b[38;5;241m.\u001b[39mset_grad_enabled(\u001b[38;5;28mself\u001b[39m\u001b[38;5;241m.\u001b[39mdefaults[\u001b[38;5;124m'\u001b[39m\u001b[38;5;124mdifferentiable\u001b[39m\u001b[38;5;124m'\u001b[39m])\n\u001b[0;32m---> 33\u001b[0m     ret \u001b[38;5;241m=\u001b[39m \u001b[43mfunc\u001b[49m\u001b[43m(\u001b[49m\u001b[38;5;28;43mself\u001b[39;49m\u001b[43m,\u001b[49m\u001b[43m \u001b[49m\u001b[38;5;241;43m*\u001b[39;49m\u001b[43margs\u001b[49m\u001b[43m,\u001b[49m\u001b[43m \u001b[49m\u001b[38;5;241;43m*\u001b[39;49m\u001b[38;5;241;43m*\u001b[39;49m\u001b[43mkwargs\u001b[49m\u001b[43m)\u001b[49m\n\u001b[1;32m     34\u001b[0m \u001b[38;5;28;01mfinally\u001b[39;00m:\n\u001b[1;32m     35\u001b[0m     torch\u001b[38;5;241m.\u001b[39mset_grad_enabled(prev_grad)\n",
      "File \u001b[0;32m~/miniconda3/envs/wavenet/lib/python3.10/site-packages/torch/optim/adamw.py:171\u001b[0m, in \u001b[0;36mAdamW.step\u001b[0;34m(self, closure)\u001b[0m\n\u001b[1;32m    158\u001b[0m     beta1, beta2 \u001b[38;5;241m=\u001b[39m group[\u001b[38;5;124m\"\u001b[39m\u001b[38;5;124mbetas\u001b[39m\u001b[38;5;124m\"\u001b[39m]\n\u001b[1;32m    160\u001b[0m     \u001b[38;5;28mself\u001b[39m\u001b[38;5;241m.\u001b[39m_init_group(\n\u001b[1;32m    161\u001b[0m         group,\n\u001b[1;32m    162\u001b[0m         params_with_grad,\n\u001b[0;32m   (...)\u001b[0m\n\u001b[1;32m    168\u001b[0m         state_steps,\n\u001b[1;32m    169\u001b[0m     )\n\u001b[0;32m--> 171\u001b[0m     \u001b[43madamw\u001b[49m\u001b[43m(\u001b[49m\n\u001b[1;32m    172\u001b[0m \u001b[43m        \u001b[49m\u001b[43mparams_with_grad\u001b[49m\u001b[43m,\u001b[49m\n\u001b[1;32m    173\u001b[0m \u001b[43m        \u001b[49m\u001b[43mgrads\u001b[49m\u001b[43m,\u001b[49m\n\u001b[1;32m    174\u001b[0m \u001b[43m        \u001b[49m\u001b[43mexp_avgs\u001b[49m\u001b[43m,\u001b[49m\n\u001b[1;32m    175\u001b[0m \u001b[43m        \u001b[49m\u001b[43mexp_avg_sqs\u001b[49m\u001b[43m,\u001b[49m\n\u001b[1;32m    176\u001b[0m \u001b[43m        \u001b[49m\u001b[43mmax_exp_avg_sqs\u001b[49m\u001b[43m,\u001b[49m\n\u001b[1;32m    177\u001b[0m \u001b[43m        \u001b[49m\u001b[43mstate_steps\u001b[49m\u001b[43m,\u001b[49m\n\u001b[1;32m    178\u001b[0m \u001b[43m        \u001b[49m\u001b[43mamsgrad\u001b[49m\u001b[38;5;241;43m=\u001b[39;49m\u001b[43mamsgrad\u001b[49m\u001b[43m,\u001b[49m\n\u001b[1;32m    179\u001b[0m \u001b[43m        \u001b[49m\u001b[43mbeta1\u001b[49m\u001b[38;5;241;43m=\u001b[39;49m\u001b[43mbeta1\u001b[49m\u001b[43m,\u001b[49m\n\u001b[1;32m    180\u001b[0m \u001b[43m        \u001b[49m\u001b[43mbeta2\u001b[49m\u001b[38;5;241;43m=\u001b[39;49m\u001b[43mbeta2\u001b[49m\u001b[43m,\u001b[49m\n\u001b[1;32m    181\u001b[0m \u001b[43m        \u001b[49m\u001b[43mlr\u001b[49m\u001b[38;5;241;43m=\u001b[39;49m\u001b[43mgroup\u001b[49m\u001b[43m[\u001b[49m\u001b[38;5;124;43m\"\u001b[39;49m\u001b[38;5;124;43mlr\u001b[39;49m\u001b[38;5;124;43m\"\u001b[39;49m\u001b[43m]\u001b[49m\u001b[43m,\u001b[49m\n\u001b[1;32m    182\u001b[0m \u001b[43m        \u001b[49m\u001b[43mweight_decay\u001b[49m\u001b[38;5;241;43m=\u001b[39;49m\u001b[43mgroup\u001b[49m\u001b[43m[\u001b[49m\u001b[38;5;124;43m\"\u001b[39;49m\u001b[38;5;124;43mweight_decay\u001b[39;49m\u001b[38;5;124;43m\"\u001b[39;49m\u001b[43m]\u001b[49m\u001b[43m,\u001b[49m\n\u001b[1;32m    183\u001b[0m \u001b[43m        \u001b[49m\u001b[43meps\u001b[49m\u001b[38;5;241;43m=\u001b[39;49m\u001b[43mgroup\u001b[49m\u001b[43m[\u001b[49m\u001b[38;5;124;43m\"\u001b[39;49m\u001b[38;5;124;43meps\u001b[39;49m\u001b[38;5;124;43m\"\u001b[39;49m\u001b[43m]\u001b[49m\u001b[43m,\u001b[49m\n\u001b[1;32m    184\u001b[0m \u001b[43m        \u001b[49m\u001b[43mmaximize\u001b[49m\u001b[38;5;241;43m=\u001b[39;49m\u001b[43mgroup\u001b[49m\u001b[43m[\u001b[49m\u001b[38;5;124;43m\"\u001b[39;49m\u001b[38;5;124;43mmaximize\u001b[39;49m\u001b[38;5;124;43m\"\u001b[39;49m\u001b[43m]\u001b[49m\u001b[43m,\u001b[49m\n\u001b[1;32m    185\u001b[0m \u001b[43m        \u001b[49m\u001b[43mforeach\u001b[49m\u001b[38;5;241;43m=\u001b[39;49m\u001b[43mgroup\u001b[49m\u001b[43m[\u001b[49m\u001b[38;5;124;43m\"\u001b[39;49m\u001b[38;5;124;43mforeach\u001b[39;49m\u001b[38;5;124;43m\"\u001b[39;49m\u001b[43m]\u001b[49m\u001b[43m,\u001b[49m\n\u001b[1;32m    186\u001b[0m \u001b[43m        \u001b[49m\u001b[43mcapturable\u001b[49m\u001b[38;5;241;43m=\u001b[39;49m\u001b[43mgroup\u001b[49m\u001b[43m[\u001b[49m\u001b[38;5;124;43m\"\u001b[39;49m\u001b[38;5;124;43mcapturable\u001b[39;49m\u001b[38;5;124;43m\"\u001b[39;49m\u001b[43m]\u001b[49m\u001b[43m,\u001b[49m\n\u001b[1;32m    187\u001b[0m \u001b[43m        \u001b[49m\u001b[43mdifferentiable\u001b[49m\u001b[38;5;241;43m=\u001b[39;49m\u001b[43mgroup\u001b[49m\u001b[43m[\u001b[49m\u001b[38;5;124;43m\"\u001b[39;49m\u001b[38;5;124;43mdifferentiable\u001b[39;49m\u001b[38;5;124;43m\"\u001b[39;49m\u001b[43m]\u001b[49m\u001b[43m,\u001b[49m\n\u001b[1;32m    188\u001b[0m \u001b[43m        \u001b[49m\u001b[43mfused\u001b[49m\u001b[38;5;241;43m=\u001b[39;49m\u001b[43mgroup\u001b[49m\u001b[43m[\u001b[49m\u001b[38;5;124;43m\"\u001b[39;49m\u001b[38;5;124;43mfused\u001b[39;49m\u001b[38;5;124;43m\"\u001b[39;49m\u001b[43m]\u001b[49m\u001b[43m,\u001b[49m\n\u001b[1;32m    189\u001b[0m \u001b[43m        \u001b[49m\u001b[43mgrad_scale\u001b[49m\u001b[38;5;241;43m=\u001b[39;49m\u001b[38;5;28;43mgetattr\u001b[39;49m\u001b[43m(\u001b[49m\u001b[38;5;28;43mself\u001b[39;49m\u001b[43m,\u001b[49m\u001b[43m \u001b[49m\u001b[38;5;124;43m\"\u001b[39;49m\u001b[38;5;124;43mgrad_scale\u001b[39;49m\u001b[38;5;124;43m\"\u001b[39;49m\u001b[43m,\u001b[49m\u001b[43m \u001b[49m\u001b[38;5;28;43;01mNone\u001b[39;49;00m\u001b[43m)\u001b[49m\u001b[43m,\u001b[49m\n\u001b[1;32m    190\u001b[0m \u001b[43m        \u001b[49m\u001b[43mfound_inf\u001b[49m\u001b[38;5;241;43m=\u001b[39;49m\u001b[38;5;28;43mgetattr\u001b[39;49m\u001b[43m(\u001b[49m\u001b[38;5;28;43mself\u001b[39;49m\u001b[43m,\u001b[49m\u001b[43m \u001b[49m\u001b[38;5;124;43m\"\u001b[39;49m\u001b[38;5;124;43mfound_inf\u001b[39;49m\u001b[38;5;124;43m\"\u001b[39;49m\u001b[43m,\u001b[49m\u001b[43m \u001b[49m\u001b[38;5;28;43;01mNone\u001b[39;49;00m\u001b[43m)\u001b[49m\u001b[43m,\u001b[49m\n\u001b[1;32m    191\u001b[0m \u001b[43m    \u001b[49m\u001b[43m)\u001b[49m\n\u001b[1;32m    193\u001b[0m \u001b[38;5;28;01mreturn\u001b[39;00m loss\n",
      "File \u001b[0;32m~/miniconda3/envs/wavenet/lib/python3.10/site-packages/torch/optim/adamw.py:321\u001b[0m, in \u001b[0;36madamw\u001b[0;34m(params, grads, exp_avgs, exp_avg_sqs, max_exp_avg_sqs, state_steps, foreach, capturable, differentiable, fused, grad_scale, found_inf, amsgrad, beta1, beta2, lr, weight_decay, eps, maximize)\u001b[0m\n\u001b[1;32m    318\u001b[0m \u001b[38;5;28;01melse\u001b[39;00m:\n\u001b[1;32m    319\u001b[0m     func \u001b[38;5;241m=\u001b[39m _single_tensor_adamw\n\u001b[0;32m--> 321\u001b[0m \u001b[43mfunc\u001b[49m\u001b[43m(\u001b[49m\n\u001b[1;32m    322\u001b[0m \u001b[43m    \u001b[49m\u001b[43mparams\u001b[49m\u001b[43m,\u001b[49m\n\u001b[1;32m    323\u001b[0m \u001b[43m    \u001b[49m\u001b[43mgrads\u001b[49m\u001b[43m,\u001b[49m\n\u001b[1;32m    324\u001b[0m \u001b[43m    \u001b[49m\u001b[43mexp_avgs\u001b[49m\u001b[43m,\u001b[49m\n\u001b[1;32m    325\u001b[0m \u001b[43m    \u001b[49m\u001b[43mexp_avg_sqs\u001b[49m\u001b[43m,\u001b[49m\n\u001b[1;32m    326\u001b[0m \u001b[43m    \u001b[49m\u001b[43mmax_exp_avg_sqs\u001b[49m\u001b[43m,\u001b[49m\n\u001b[1;32m    327\u001b[0m \u001b[43m    \u001b[49m\u001b[43mstate_steps\u001b[49m\u001b[43m,\u001b[49m\n\u001b[1;32m    328\u001b[0m \u001b[43m    \u001b[49m\u001b[43mamsgrad\u001b[49m\u001b[38;5;241;43m=\u001b[39;49m\u001b[43mamsgrad\u001b[49m\u001b[43m,\u001b[49m\n\u001b[1;32m    329\u001b[0m \u001b[43m    \u001b[49m\u001b[43mbeta1\u001b[49m\u001b[38;5;241;43m=\u001b[39;49m\u001b[43mbeta1\u001b[49m\u001b[43m,\u001b[49m\n\u001b[1;32m    330\u001b[0m \u001b[43m    \u001b[49m\u001b[43mbeta2\u001b[49m\u001b[38;5;241;43m=\u001b[39;49m\u001b[43mbeta2\u001b[49m\u001b[43m,\u001b[49m\n\u001b[1;32m    331\u001b[0m \u001b[43m    \u001b[49m\u001b[43mlr\u001b[49m\u001b[38;5;241;43m=\u001b[39;49m\u001b[43mlr\u001b[49m\u001b[43m,\u001b[49m\n\u001b[1;32m    332\u001b[0m \u001b[43m    \u001b[49m\u001b[43mweight_decay\u001b[49m\u001b[38;5;241;43m=\u001b[39;49m\u001b[43mweight_decay\u001b[49m\u001b[43m,\u001b[49m\n\u001b[1;32m    333\u001b[0m \u001b[43m    \u001b[49m\u001b[43meps\u001b[49m\u001b[38;5;241;43m=\u001b[39;49m\u001b[43meps\u001b[49m\u001b[43m,\u001b[49m\n\u001b[1;32m    334\u001b[0m \u001b[43m    \u001b[49m\u001b[43mmaximize\u001b[49m\u001b[38;5;241;43m=\u001b[39;49m\u001b[43mmaximize\u001b[49m\u001b[43m,\u001b[49m\n\u001b[1;32m    335\u001b[0m \u001b[43m    \u001b[49m\u001b[43mcapturable\u001b[49m\u001b[38;5;241;43m=\u001b[39;49m\u001b[43mcapturable\u001b[49m\u001b[43m,\u001b[49m\n\u001b[1;32m    336\u001b[0m \u001b[43m    \u001b[49m\u001b[43mdifferentiable\u001b[49m\u001b[38;5;241;43m=\u001b[39;49m\u001b[43mdifferentiable\u001b[49m\u001b[43m,\u001b[49m\n\u001b[1;32m    337\u001b[0m \u001b[43m    \u001b[49m\u001b[43mgrad_scale\u001b[49m\u001b[38;5;241;43m=\u001b[39;49m\u001b[43mgrad_scale\u001b[49m\u001b[43m,\u001b[49m\n\u001b[1;32m    338\u001b[0m \u001b[43m    \u001b[49m\u001b[43mfound_inf\u001b[49m\u001b[38;5;241;43m=\u001b[39;49m\u001b[43mfound_inf\u001b[49m\u001b[43m,\u001b[49m\n\u001b[1;32m    339\u001b[0m \u001b[43m\u001b[49m\u001b[43m)\u001b[49m\n",
      "File \u001b[0;32m~/miniconda3/envs/wavenet/lib/python3.10/site-packages/torch/optim/adamw.py:390\u001b[0m, in \u001b[0;36m_single_tensor_adamw\u001b[0;34m(params, grads, exp_avgs, exp_avg_sqs, max_exp_avg_sqs, state_steps, grad_scale, found_inf, amsgrad, beta1, beta2, lr, weight_decay, eps, maximize, capturable, differentiable)\u001b[0m\n\u001b[1;32m    388\u001b[0m \u001b[38;5;66;03m# Decay the first and second moment running average coefficient\u001b[39;00m\n\u001b[1;32m    389\u001b[0m exp_avg\u001b[38;5;241m.\u001b[39mmul_(beta1)\u001b[38;5;241m.\u001b[39madd_(grad, alpha\u001b[38;5;241m=\u001b[39m\u001b[38;5;241m1\u001b[39m \u001b[38;5;241m-\u001b[39m beta1)\n\u001b[0;32m--> 390\u001b[0m \u001b[43mexp_avg_sq\u001b[49m\u001b[38;5;241;43m.\u001b[39;49m\u001b[43mmul_\u001b[49m\u001b[43m(\u001b[49m\u001b[43mbeta2\u001b[49m\u001b[43m)\u001b[49m\u001b[38;5;241m.\u001b[39maddcmul_(grad, grad, value\u001b[38;5;241m=\u001b[39m\u001b[38;5;241m1\u001b[39m \u001b[38;5;241m-\u001b[39m beta2)\n\u001b[1;32m    392\u001b[0m \u001b[38;5;28;01mif\u001b[39;00m capturable \u001b[38;5;129;01mor\u001b[39;00m differentiable:\n\u001b[1;32m    393\u001b[0m     step \u001b[38;5;241m=\u001b[39m step_t\n",
      "\u001b[0;31mKeyboardInterrupt\u001b[0m: "
     ]
    }
   ],
   "source": [
    "epochs=1\n",
    "globalStep=500\n",
    "\n",
    "for epoch in range(epochs):\n",
    "    for step, (x_train,y_train) in tqdm(enumerate(trainDataLoader),desc=\"Training\"):\n",
    "         x_train = torch.unsqueeze(x_train,dim=1).float()\n",
    "            \n",
    "         x_train.to(device)\n",
    "         y_train.to(device)\n",
    "            \n",
    "         output = wavenetClassifierModel(x_train)\n",
    "         output = torch.squeeze(output,dim=1)\n",
    "\n",
    "         loss= lossFunction(output,y_train)\n",
    "         optimizer.zero_grad()\n",
    "            \n",
    "         loss.backward()\n",
    "         optimizer.step()\n",
    "            \n",
    "         if step % globalStep == 0:\n",
    "            \n",
    "            # scheduler.step()\n",
    "            # print(output.detach().numpy())\n",
    "            # print(y_train.numpy())\n",
    "            \n",
    "            with torch.no_grad():\n",
    "                accuracy=0\n",
    "                loss=0\n",
    "                \n",
    "                for stepTest, (x_test,y_test) in tqdm(enumerate(testDataLoader),desc=\"Validation\"):\n",
    "                    x_test.to(device)\n",
    "                    y_test.to(device)\n",
    "                    \n",
    "                    x_test = torch.unsqueeze(x_test,dim=1).float()\n",
    "                    \n",
    "                    output=wavenetClassifierModel(x_test)\n",
    "                    output = torch.squeeze(output,dim=1)\n",
    "                    \n",
    "                    accuracy+=calc_accuracy(output,y_test)*100\n",
    "                    loss+= lossFunction(output,y_test).item()\n",
    "                    \n",
    "                    if stepTest>200:\n",
    "                        break\n",
    "                        \n",
    "            print(f\"loss for step {step} : {loss/stepTest}  :  Accuracy: {accuracy/stepTest} %\")\n",
    "         \n",
    "    print(f\"epoch {epoch}\")"
   ]
  }
 ],
 "metadata": {
  "interpreter": {
   "hash": "366252978e52bb2df929d3934aeb3ff29dfa67e45e575a59a0b0194f7beef5a9"
  },
  "kernelspec": {
   "display_name": "Python [conda env:wavenet]",
   "language": "python",
   "name": "conda-env-wavenet-py"
  },
  "language_info": {
   "codemirror_mode": {
    "name": "ipython",
    "version": 3
   },
   "file_extension": ".py",
   "mimetype": "text/x-python",
   "name": "python",
   "nbconvert_exporter": "python",
   "pygments_lexer": "ipython3",
   "version": "3.10.10"
  }
 },
 "nbformat": 4,
 "nbformat_minor": 4
}
