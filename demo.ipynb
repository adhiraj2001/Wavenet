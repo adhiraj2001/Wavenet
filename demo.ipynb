{
 "cells": [
  {
   "cell_type": "code",
   "execution_count": 1,
   "metadata": {},
   "outputs": [],
   "source": [
    "import pandas as pd\n",
    "import torch \n",
    "\n",
    "df=pd.read_csv(\"train_clean_kalman.csv\")\n",
    "df['signal']=df['signal']/df['signal'].max()"
   ]
  },
  {
   "cell_type": "code",
   "execution_count": 2,
   "metadata": {},
   "outputs": [
    {
     "data": {
      "text/plain": [
       "10"
      ]
     },
     "execution_count": 2,
     "metadata": {},
     "output_type": "execute_result"
    }
   ],
   "source": [
    "df['open_channels'].max()"
   ]
  },
  {
   "cell_type": "markdown",
   "metadata": {},
   "source": [
    "# Create time series dataset"
   ]
  },
  {
   "cell_type": "code",
   "execution_count": 3,
   "metadata": {},
   "outputs": [
    {
     "name": "stderr",
     "output_type": "stream",
     "text": [
      "ipykernel_launcher:2: DeprecationWarning: The default dtype for empty Series will be 'object' instead of 'float64' in a future version. Specify a dtype explicitly to silence this warning.\n"
     ]
    }
   ],
   "source": [
    "class TimesereisDataset(torch.utils.data.Dataset):\n",
    "    def __init__(self, df:pd.Series(), seqLen=10):\n",
    "        super().__init__()\n",
    "        self.df=df\n",
    "        self.seqLen=seqLen\n",
    "    \n",
    "    def __len__(self):\n",
    "        return self.df.shape[0]-self.seqLen-1\n",
    "    \n",
    "    def __getitem__(self,index):\n",
    "        x=self.df.iloc[index:index+self.seqLen,1].values\n",
    "        y=self.df.iloc[index+self.seqLen-1,2] \n",
    "        return x,y   \n",
    "seqLen=50\n",
    "timeSeriesDataset = TimesereisDataset(df,seqLen)"
   ]
  },
  {
   "cell_type": "code",
   "execution_count": 4,
   "metadata": {},
   "outputs": [],
   "source": [
    "trainNumbers=int(len(timeSeriesDataset)*0.9)\n",
    "trainDataset,testDataset=torch.utils.data.random_split(timeSeriesDataset,[trainNumbers,len(timeSeriesDataset)-trainNumbers])\n",
    "trainDataLoader=torch.utils.data.DataLoader(trainDataset,batch_size=8,shuffle=True)\n",
    "testDataLoader=torch.utils.data.DataLoader(testDataset,batch_size=8,shuffle=True)"
   ]
  },
  {
   "cell_type": "code",
   "execution_count": 5,
   "metadata": {},
   "outputs": [
    {
     "name": "stderr",
     "output_type": "stream",
     "text": [
      "Validation: 201it [00:01, 154.43it/s]\n",
      "Training: 6it [00:01,  4.54it/s]"
     ]
    },
    {
     "name": "stdout",
     "output_type": "stream",
     "text": [
      "loss for step 0 : 2.3986626584731523  :  Accuracy: 17.412935323383085 %\n"
     ]
    },
    {
     "name": "stderr",
     "output_type": "stream",
     "text": [
      "Validation: 201it [00:01, 179.46it/s]\n",
      "Training: 505it [00:11, 13.23it/s]"
     ]
    },
    {
     "name": "stdout",
     "output_type": "stream",
     "text": [
      "loss for step 500 : 2.085301135902974  :  Accuracy: 52.67412935323383 %\n"
     ]
    },
    {
     "name": "stderr",
     "output_type": "stream",
     "text": [
      "Validation: 201it [00:01, 182.39it/s]\n",
      "Training: 1005it [00:21, 13.41it/s]"
     ]
    },
    {
     "name": "stdout",
     "output_type": "stream",
     "text": [
      "loss for step 1000 : 2.0091319795864733  :  Accuracy: 58.27114427860697 %\n"
     ]
    },
    {
     "name": "stderr",
     "output_type": "stream",
     "text": [
      "Validation: 201it [00:01, 181.57it/s]\n",
      "Training: 1510it [00:32, 17.41it/s]"
     ]
    },
    {
     "name": "stdout",
     "output_type": "stream",
     "text": [
      "loss for step 1500 : 1.9573141549950215  :  Accuracy: 62.12686567164179 %\n"
     ]
    },
    {
     "name": "stderr",
     "output_type": "stream",
     "text": [
      "Validation: 201it [00:01, 178.99it/s]\n",
      "Training: 2007it [00:42, 16.59it/s]"
     ]
    },
    {
     "name": "stdout",
     "output_type": "stream",
     "text": [
      "loss for step 2000 : 1.9545567640617711  :  Accuracy: 61.56716417910448 %\n"
     ]
    },
    {
     "name": "stderr",
     "output_type": "stream",
     "text": [
      "Validation: 201it [00:01, 185.41it/s]\n",
      "Training: 2506it [00:52, 14.22it/s]"
     ]
    },
    {
     "name": "stdout",
     "output_type": "stream",
     "text": [
      "loss for step 2500 : 1.9277529758007372  :  Accuracy: 63.059701492537314 %\n"
     ]
    },
    {
     "name": "stderr",
     "output_type": "stream",
     "text": [
      "Validation: 201it [00:01, 183.38it/s]\n",
      "Training: 3010it [01:02, 16.91it/s]"
     ]
    },
    {
     "name": "stdout",
     "output_type": "stream",
     "text": [
      "loss for step 3000 : 1.9317337422821652  :  Accuracy: 61.87810945273632 %\n"
     ]
    },
    {
     "name": "stderr",
     "output_type": "stream",
     "text": [
      "Validation: 201it [00:01, 124.56it/s]\n",
      "Training: 3507it [01:13, 11.11it/s]"
     ]
    },
    {
     "name": "stdout",
     "output_type": "stream",
     "text": [
      "loss for step 3500 : 1.9115325550534832  :  Accuracy: 65.17412935323384 %\n"
     ]
    },
    {
     "name": "stderr",
     "output_type": "stream",
     "text": [
      "Validation: 201it [00:01, 122.00it/s]\n",
      "Training: 4005it [01:26, 10.08it/s]"
     ]
    },
    {
     "name": "stdout",
     "output_type": "stream",
     "text": [
      "loss for step 4000 : 1.9178816833306307  :  Accuracy: 64.55223880597015 %\n"
     ]
    },
    {
     "name": "stderr",
     "output_type": "stream",
     "text": [
      "Training: 4062it [01:28, 30.30it/s]"
     ]
    }
   ],
   "source": [
    "\n",
    "from Wavenet import WaveNet,WaveNetClassifier\n",
    "from tqdm import tqdm \n",
    "\n",
    "# device = torch.device(\"cuda:0\" if torch.cuda.is_available() else \"cpu\")\n",
    "device=\"cpu\"\n",
    "wavenetClassifierModel=WaveNetClassifier(seqLen,df['open_channels'].max()+1)\n",
    "wavenetClassifierModel.to(device)\n",
    "\n",
    "wavenetClassifierModel.train()\n",
    "\n",
    "optimizer=torch.optim.AdamW(wavenetClassifierModel.parameters(), lr=0.01)\n",
    "scheduler = torch.optim.lr_scheduler.ExponentialLR(optimizer, gamma=0.9)\n",
    "lossFunction = torch.nn.CrossEntropyLoss()\n",
    "\n",
    "def calc_accuracy(Out,Y):\n",
    "    max_vals, max_indices = torch.max(Out,1)\n",
    "    train_acc = (max_indices == Y).sum().item()/max_indices.size()[0]\n",
    "    return train_acc\n",
    "  \n",
    "epochs=1\n",
    "globalStep=500\n",
    "\n",
    "for epoch in range(epochs):\n",
    "    for step, (x_train,y_train) in tqdm(enumerate(trainDataLoader),desc=\"Training\"):\n",
    "         x_train = torch.unsqueeze(x_train,dim=1).float()\n",
    "         x_train.to(device)\n",
    "         y_train.to(device)\n",
    "         output=wavenetClassifierModel(x_train)\n",
    "         output = torch.squeeze(output,dim=1)\n",
    "\n",
    "         loss= lossFunction(output,y_train)\n",
    "         optimizer.zero_grad()\n",
    "         loss.backward()\n",
    "         optimizer.step()\n",
    "         if step%globalStep==0:\n",
    "            # scheduler.step()\n",
    "            # print(output.detach().numpy())\n",
    "            # print(y_train.numpy())\n",
    "            with torch.no_grad():\n",
    "                accuracy=0\n",
    "                loss=0\n",
    "                for stepTest, (x_test,y_test) in tqdm(enumerate(testDataLoader),desc=\"Validation\"):\n",
    "                    x_test.to(device)\n",
    "                    y_test.to(device)\n",
    "                    x_test = torch.unsqueeze(x_test,dim=1).float()\n",
    "                    output=wavenetClassifierModel(x_test)\n",
    "                    output = torch.squeeze(output,dim=1)\n",
    "                    accuracy+=calc_accuracy(output,y_test)*100\n",
    "                    loss+= lossFunction(output,y_test).item()\n",
    "                    if stepTest>200:\n",
    "                        break\n",
    "            print(f\"loss for step {step} : {loss/stepTest}  :  Accuracy: {accuracy/stepTest} %\")\n",
    "\n",
    "         \n",
    "    print(f\"epch {epoch}\")\n",
    "         "
   ]
  }
 ],
 "metadata": {
  "interpreter": {
   "hash": "366252978e52bb2df929d3934aeb3ff29dfa67e45e575a59a0b0194f7beef5a9"
  },
  "kernelspec": {
   "display_name": "Python 3.7.4 64-bit",
   "name": "python3"
  },
  "language_info": {
   "codemirror_mode": {
    "name": "ipython",
    "version": 3
   },
   "file_extension": ".py",
   "mimetype": "text/x-python",
   "name": "python",
   "nbconvert_exporter": "python",
   "pygments_lexer": "ipython3",
   "version": "3.7.4"
  },
  "orig_nbformat": 4
 },
 "nbformat": 4,
 "nbformat_minor": 2
}
